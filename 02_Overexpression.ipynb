{
 "cells": [
  {
   "cell_type": "code",
   "execution_count": 10,
   "id": "78f1d7ca",
   "metadata": {},
   "outputs": [],
   "source": [
    "# First, we can import some functions so we can use the model\n",
    "from cobra.io import read_sbml_model, write_sbml_model\n",
    "from cobra import Reaction, Metabolite\n",
    "import matplotlib.pyplot as plt\n",
    "from cobra.flux_analysis import production_envelope"
   ]
  },
  {
   "cell_type": "code",
   "execution_count": 11,
   "id": "19f9a313",
   "metadata": {},
   "outputs": [],
   "source": [
    "# Second, we can read the GEM and save it as ‘model’\n",
    "model = read_sbml_model('data/iML1515_het.xml')"
   ]
  },
  {
   "cell_type": "markdown",
   "id": "66f820d0",
   "metadata": {},
   "source": [
    "    · ENZYME 1: Reaction ACACT1r is already present in E.coli. Enzyme EC 2.3.1.9 - acetyl-CoA C-acetyltransferase catalyses the Claisen condensation of an acetyl-CoA and an acyl-CoA (often another acetyl-CoA), leading to the formation of an acyl-CoA. Km = 0.14 mM; Turnover number = 6.5 1/s per mg of protein.\n",
    "\n",
    "    · ENZYME 2: EC 1.1.1.36 - acetoacetyl-CoA reductase (HACD1) coming from Zoogloea Ramigera and catalyzes the chiral reduction of acetoacetyl-CoA to (R)-3-hydroxybutyryl-CoA. Km = 0.002 mM; Turnover number = 90 1/s per mg of protein.\n",
    "\n",
    "    · ENZYME 3: EC 2.3.1.304 - poly-(R)-3-hydroxyalkanoate polymerase (phaC) coming from Cupriavidus necator which polymerizes (R)-3-hydroxybutyryl-CoA to create polyhydroxybutyrate (PHB). Km = 0.32 mM; Turnover number = 44 1/s per mg of protein.\n",
    "\n",
    "Because we cannot use OptGene to determine which genes to overexpress and thus increase P3HB production, we decided to base the overexpression assay based on the properties of the enzymes. In the sublot of production enzymes, the overexpressed gene is the one corresponding to the ACACT1r reaction.\n",
    "\n",
    "The bottleneck in a metabolic pathway is typically determined by the slowest step, which is often associated with the enzyme that has the lowest turnover number. The turnover number, also known as kcat (catalytic constant), represents the number of substrate molecules converted to product per unit time by a single enzyme molecule.\n",
    "\n",
    "The turnover number for Enzyme 1 is significantly lower than the turnover numbers for other two enzymes. This means that Enzyme 1 processes substrate molecules at a slower rate compared to the other enzymes in the pathway. As a result, Enzyme 1 becomes the bottleneck because it limits the overall rate of the pathway. Therefore is the main objective for this sublot.\n",
    "\n",
    "FROM A BIOLOGICAL POINT OF VIEW."
   ]
  },
  {
   "cell_type": "code",
   "execution_count": 12,
   "id": "3f3ee41b",
   "metadata": {},
   "outputs": [
    {
     "name": "stdout",
     "output_type": "stream",
     "text": [
      "ACACT1r (aacoa_c) flux before setting objective: 0.3121\n",
      "HACD1 (3hbcoa_c) flux before setting objective: 0.3121\n",
      "phaC (P3HB_c) flux before setting objective: 0.0\n",
      "\n",
      "Basal optimal growth: 0.877\n",
      "Growth reduction is: 0.0\n",
      "\n",
      "Basal optimal growth: 0.877\n",
      "Growth reduction is: 0.0201\n",
      "\n",
      "Basal optimal growth: 0.877\n",
      "Growth reduction is: 0.0402\n",
      "\n",
      "Basal optimal growth: 0.877\n",
      "Growth reduction is: 0.0603\n",
      "\n",
      "Basal optimal growth: 0.877\n",
      "Growth reduction is: 0.0805\n",
      "\n",
      "Basal optimal growth: 0.877\n",
      "Growth reduction is: 0.1006\n",
      "\n",
      "Basal optimal growth: 0.877\n",
      "Growth reduction is: 0.1207\n",
      "\n",
      "Basal optimal growth: 0.877\n",
      "Growth reduction is: 0.1408\n",
      "\n",
      "Basal optimal growth: 0.877\n",
      "Growth reduction is: 0.1609\n",
      "\n",
      "Basal optimal growth: 0.877\n",
      "Growth reduction is: 0.181\n"
     ]
    },
    {
     "name": "stderr",
     "output_type": "stream",
     "text": [
      "C:\\Users\\bierk\\anaconda3\\lib\\site-packages\\cobra\\util\\solver.py:554: UserWarning: Solver status is 'infeasible'.\n",
      "  warn(f\"Solver status is '{status}'.\", UserWarning)\n"
     ]
    }
   ],
   "source": [
    "solution = model.optimize()\n",
    "growth_reduction_values = []\n",
    "overexpression_factor_values = []\n",
    "#Now that we have set which will be the max biomass reachable...\n",
    "with model:\n",
    "    #Set bounds of biomass inside with model, therefore can be changed for simulation\n",
    "    model.reactions.BIOMASS_Ec_iML1515_core_75p37M.lower_bound = 0.8 * solution.objective_value\n",
    "    model.reactions.BIOMASS_Ec_iML1515_core_75p37M.upper_bound = solution.objective_value\n",
    "    #Max value will always be the optimal value reachable\n",
    "    \n",
    "    #Now we set the set of reactions that lead to P3HB production\n",
    "#     reaction_ACACT1r_aacoa_c = model.add_boundary(model.metabolites.get_by_id(\"aacoa_c\"))\n",
    "#     reaction_HACD1_hbtcoa_c = model.add_boundary(model.metabolites.get_by_id(\"3hbcoa_c\"))\n",
    "    reaction_phaC_P3HB_c = model.add_boundary(model.metabolites.get_by_id(\"P3HB_c\"), type=\"sink\")\n",
    "    \n",
    "    #Before setting the new objective we have to look to basal fluxes of this reactions\n",
    "    flux_summary1 = model.metabolites.aacoa_c.summary()\n",
    "    flux_summary2 = model.metabolites.get_by_id(\"3hbcoa_c\").summary()\n",
    "    flux_summary3 = model.metabolites.P3HB_c.summary()\n",
    "    print(f\"ACACT1r (aacoa_c) flux before setting objective: {round(flux_summary1.to_frame().loc['ACACT1r', 'flux'],4)}\")\n",
    "    print(f\"HACD1 (3hbcoa_c) flux before setting objective: {round(flux_summary2.to_frame().loc['HACD1', 'flux'],4)}\")\n",
    "    print(f\"phaC (P3HB_c) flux before setting objective: {round(flux_summary3.to_frame().loc['phaC', 'flux'],4)}\")\n",
    "    \n",
    "    growth = solution.objective_value\n",
    "    for i in range(1, 11):\n",
    "        growth = solution.objective_value\n",
    "        aacoa_c_flux = solution.fluxes[\"ACACT1r\"]\n",
    "        model.reactions.ACACT1r.lower_bound = aacoa_c_flux * i\n",
    "        solution_overexpression = model.optimize()\n",
    "        growth_overexpression = solution_overexpression.objective_value\n",
    "\n",
    "        growth_reduction = growth - growth_overexpression\n",
    "        print(f\"\\nBasal optimal growth: {round(growth,4)}\")\n",
    "        print(f\"Growth reduction is: {round(growth_reduction,4)}\") \n",
    "        \n",
    "        growth_reduction_values.append(growth_reduction)\n",
    "        overexpression_factor_values.append(i)\n"
   ]
  },
  {
   "cell_type": "code",
   "execution_count": 13,
   "id": "82be58f3",
   "metadata": {},
   "outputs": [
    {
     "data": {
      "image/png": "[encoded data removed]",
      "text/plain": [
       "<Figure size 432x288 with 1 Axes>"
      ]
     },
     "metadata": {
      "needs_background": "light"
     },
     "output_type": "display_data"
    }
   ],
   "source": [
    "plt.plot(growth_reduction_values, overexpression_factor_values, color='blue', linestyle='-', marker='', markersize=2, label='Growth reduction vs Overexpression')\n",
    "\n",
    "# Add labels and title\n",
    "plt.xlabel('Growth reduction')\n",
    "plt.ylabel('OV factor')\n",
    "\n",
    "# Show the plot\n",
    "plt.legend()\n",
    "plt.show()"
   ]
  }
 ],
 "metadata": {
  "kernelspec": {
   "display_name": "Python 3 (ipykernel)",
   "language": "python",
   "name": "python3"
  },
  "language_info": {
   "codemirror_mode": {
    "name": "ipython",
    "version": 3
   },
   "file_extension": ".py",
   "mimetype": "text/x-python",
   "name": "python",
   "nbconvert_exporter": "python",
   "pygments_lexer": "ipython3",
   "version": "3.9.12"
  }
 },
 "nbformat": 4,
 "nbformat_minor": 5
}

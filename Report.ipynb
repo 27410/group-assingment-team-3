{
 "cells": [
  {
   "cell_type": "markdown",
   "metadata": {},
   "source": [
    "# Biotin porduction in E. coli K12"
   ]
  },
  {
   "cell_type": "markdown",
   "metadata": {},
   "source": [
    "## 1. Introduction"
   ]
  },
  {
   "cell_type": "markdown",
   "metadata": {},
   "source": [
    "### 1.1 Literature review of the compound (<500 words)"
   ]
  },
  {
   "cell_type": "markdown",
   "metadata": {},
   "source": [
    "The newe text that we can add here + 1\n",
    "Hello this is just a test "
   ]
  },
  {
   "cell_type": "markdown",
   "metadata": {},
   "source": [
    "### 1.2 Literature review of the cell factory (<500 words)"
   ]
  },
 {
   "cell_type": "markdown",
   "metadata": {},
   "source": [
    "•	General advantages\n
1.	Low energy requirements\n
2.	Increased output\n
3.	Shorter lead time\n
4.	Consistent quality and purity of the product\n
5.	Sustainability of product production\n
6.	Potentail customization of production\n
•	General disadvantages\n
1.	Difficulties in maintaining in vitro cells in particular conditions\n
2.	Sometimes the process is not profitable\n
3.	Complexity in establishing the proper proces\n
4.	Regulatory difficulties with related strains and its modifications\n
•	Suitability of the cell factory for the product\n
The traditional method of biotin production involves chemical synthesis, \n
which is energy-intensive and environmentally hazardous.\n
In contrast, microbial cell factories offer a sustainable and eco-friendly alternative for biotin production.\n
They are engineered microbes that can produce biotin in closed bioreactors with high efficiency, specificity,\n
and low energy requirements . The use of cell factories for biotin production has several advantages over traditional methods. \n
Firstly, it is a green and sustainable process that reduces the environmental impact of biotin production.\n
Secondly, it offers higher productivity and improved quality control compared to chemical synthesis methods.\n
Thirdly, it provides greater flexibility in terms of product customization and optimization.\n
Finally, it is a cost-effective approach that reduces the overall production cost of biotin.
"
   ]
  },
  {
   "cell_type": "markdown",
   "metadata": {},
   "source": [
    "## 2. Problem definition (<300 words)"
   ]
  },
  {
   "cell_type": "markdown",
   "metadata": {},
   "source": [
    "## 3. *If Project category I:* Reconstruction of a new GSM for your cell factory host of interest (<1500 words)"
   ]
  },
  {
   "cell_type": "markdown",
   "metadata": {},
   "source": [
    "or"
   ]
  },
  {
   "cell_type": "markdown",
   "metadata": {},
   "source": [
    "## 3. *If Project category II:* Selection and assessment of existing GSM (<500 words)"
   ]
  },
  {
   "cell_type": "markdown",
   "metadata": {},
   "source": [
    "## 4. Computer-Aided Cell Factory Engineering (<1500 words if Category II project; <500 words for Category I project)"
   ]
  },
  {
   "cell_type": "markdown",
   "metadata": {},
   "source": [
    "## 5. Discussion (<500 words)"
   ]
  },
  {
   "cell_type": "markdown",
   "metadata": {},
   "source": [
    "## 6. Conclusion (<200 words)"
   ]
  },
  {
   "cell_type": "markdown",
   "metadata": {},
   "source": [
    "## References"
   ]
  },
  {
   "cell_type": "code",
   "execution_count": null,
   "metadata": {},
   "outputs": [],
   "source": []
  }
 ],
 "metadata": {
  "kernelspec": {
   "display_name": "Python 3 (ipykernel)",
   "language": "python",
   "name": "python3"
  },
  "language_info": {
   "codemirror_mode": {
    "name": "ipython",
    "version": 3
   },
   "file_extension": ".py",
   "mimetype": "text/x-python",
   "name": "python",
   "nbconvert_exporter": "python",
   "pygments_lexer": "ipython3",
   "version": "3.9.12"
  }
 },
 "nbformat": 4,
 "nbformat_minor": 4
}

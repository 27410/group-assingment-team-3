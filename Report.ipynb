{
 "cells": [
  {
   "cell_type": "markdown",
   "id": "98bd8e29",
   "metadata": {},
   "source": [
    "# Biotin porduction in E. coli K12"
   ]
  },
  {
   "cell_type": "markdown",
   "id": "298555a0",
   "metadata": {},
   "source": [
    "## 1. Introduction"
   ]
  },
  {
   "cell_type": "markdown",
   "id": "280ef973",
   "metadata": {},
   "source": [
    "### 1.1 Literature review of the compound (<500 words)"
   ]
  },
  {
   "cell_type": "markdown",
   "id": "902fa23d",
   "metadata": {},
   "source": [
    "The newe text that we can add here + 1\n",
    "Hello this is just a test "
   ]
  },
  {
   "cell_type": "markdown",
   "id": "6ca663d7",
   "metadata": {},
   "source": [
    "### 1.2 Literature review of the cell factory (<500 words)"
   ]
  },
  {
   "cell_type": "markdown",
   "id": "dab79581",
   "metadata": {},
   "source": [
    "•\tGeneral advantages\n",
    "\n",
    "1.\tLow energy requirements\n",
    "\n",
    "2.\tIncreased output\n",
    "\n",
    "3.\tShorter lead time\n",
    "\n",
    "4.\tConsistent quality and purity of the product\n",
    "\n",
    "5.\tSustainability of product production\n",
    "\n",
    "6.\tPotentail customization of production\n",
    "\n",
    "•\tGeneral disadvantages\n",
    "\n",
    "1.\tDifficulties in maintaining in vitro cells in particular conditions\n",
    "\n",
    "2.\tSometimes the process is not profitable\n",
    "\n",
    "3.\tComplexity in establishing the proper proces\n",
    "\n",
    "4.\tRegulatory difficulties with related strains and its modifications\n",
    "\n",
    "•\tSuitability of the cell factory for the product\n",
    "\n",
    "The traditional method of biotin production involves chemical synthesis, which is energy-intensive and environmentally hazardous .\n",
    "In contrast, microbial cell factories offer a sustainable and eco-friendly alternative for biotin production.\n",
    "They are engineered microbes that can produce biotin in closed bioreactors with high efficiency, specificity, and low energy requirements .\n",
    "The use of cell factories for biotin production has several advantages over traditional methods.\n",
    "Firstly, it is a green and sustainable process that reduces the environmental impact of biotin production.\n",
    "Secondly, it offers higher productivity and improved quality control compared to chemical synthesis methods.\n",
    "Thirdly, it provides greater flexibility in terms of product customization and optimization.\n",
    "Finally, it is a cost-effective approach that reduces the overall production cost of biotin.\n"
   ]
  },
  {
   "cell_type": "markdown",
   "id": "bf9fba4c",
   "metadata": {},
   "source": [
    "## 2. Problem definition (<300 words)"
   ]
  },
  {
   "cell_type": "markdown",
   "id": "ce036303",
   "metadata": {},
   "source": [
    "## 3. *If Project category I:* Reconstruction of a new GSM for your cell factory host of interest (<1500 words)"
   ]
  },
  {
   "cell_type": "markdown",
   "id": "e9a6e086",
   "metadata": {},
   "source": [
    "or"
   ]
  },
  {
   "cell_type": "markdown",
   "id": "697c83f4",
   "metadata": {},
   "source": [
    "## 3. *If Project category II:* Selection and assessment of existing GSM (<500 words)"
   ]
  },
  {
   "cell_type": "markdown",
   "id": "5cd0bd45",
   "metadata": {},
   "source": [
    "## 4. Computer-Aided Cell Factory Engineering (<1500 words if Category II project; <500 words for Category I project)"
   ]
  },
  {
   "cell_type": "markdown",
   "id": "b488d6a3",
   "metadata": {},
   "source": [
    "Not all reactions required for P3HB production are homologous to the chosen model. The initial engineering step involves incorporating these reactions into the model to facilitate exploratory analysis and enable subsequent modifications."
   ]
  },
  {
   "cell_type": "markdown",
   "id": "e73e8d34",
   "metadata": {},
   "source": [
    "### 4.1. Addition of the heterologous reaction"
   ]
  },
  {
   "cell_type": "markdown",
   "id": "1ee374af",
   "metadata": {},
   "source": [
    "It appears that, based on your literature research, P3HB monomers can be synthesized from the universal precursor acetyl-CoA through a series of three reactions facilitated by the genes phaA, phaB, and phaC. For the sake of simplification, the current report often treats P3HB monomers and the polymer as interchangeable entities. [(Figure)](./data/P3HB_route.png)\n",
    "![P3HB PRODUCTION](./data/P3HB_route.png)\n",
    "Fig. footer: P3HB, P3HB4HB, and PHBV synthesis pathway in engineered Escherichia coli. Genes: acs, acetyl-CoA synthetase; pta, phosphotransacetylase; ackA, acetate kinase; phaA, β-ketothiolase; phaB, acetoacetyl-CoA reductase; phaC, PHA synthase; sucD, succinate semialdehyde dehydrogenase; 4hbD, 4-hydroxybutyrate dehydrogenase; orfZ, 4-hydroxybutyryl-CoA:CoA transferase; sad and gabD, succinate semialdehyde dehydrogenase of E. coli; pct, propionyl-CoA transferase; prpP, propionate permease. The reactions and intermediates shown in green are associated with 3HB precursor biosynthesis, those in gold with 4HB precursor biosynthesis, those in purple with 3HV precursor biosynthesis, and those in blue with acetate assimilation and TCA cycle"
   ]
  },
  {
   "cell_type": "markdown",
   "id": "0755a46d",
   "metadata": {},
   "source": [
    "The selected model includes all the necessary reactions except the one responsible for converting 3-hydroxybutyryl-CoA to P3HB. This final reaction has been manually added as outlined [here](01_Heterologous_Pathway.ipynb)."
   ]
  },
  {
   "cell_type": "markdown",
   "id": "747b9005",
   "metadata": {},
   "source": [
    "Following the initial manipulation of the model, the pertinent reactions and metabolites can be identified, as presented in the tables below."
   ]
  },
  {
   "cell_type": "markdown",
   "id": "994ff98b",
   "metadata": {},
   "source": [
    "| Metabolite identifier | Name | Formula |\n",
    "|----------|----------|----------|\n",
    "| accoa_c  | Acetyl-CoA  | C23H34N7O17P3S |\n",
    "| aacoa_c  | Acetoacetyl-CoA  | C25H36N7O18P3S  |\n",
    "| 3hbcoa_c  | (S)-3-Hydroxybutanoyl-CoA  | C25H38N7O18P3S |\n",
    "| P3HB_c  | poly-3-Hydroxybutanoate  | C40H62O21  |"
   ]
  },
  {
   "cell_type": "markdown",
   "id": "81d5c884",
   "metadata": {},
   "source": [
    "| Reaction identifier | Name | Stoichiometry |\n",
    "|----------|----------|----------|\n",
    "| ACACT1r  | Acetyl-CoA C-acetyltransferase  | 2.0 Acetyl-CoA <=> Acetoacetyl-CoA + Coenzyme A |\n",
    "| HACD1 | 3-hydroxyacyl-CoA dehydrogenase (acetoacetyl-CoA)  | Acetoacetyl-CoA + H+ + Nicotinamide adenine dinucleotide - reduced <=> (S)-3-Hydroxybutanoyl-CoA + Nicotinamide adenine dinucleotide |\n",
    "| phaC  | 3-Hydroxybutyryl-CoA: P3HB polymerization  | 10 (S)-3-Hydroxybutanoyl-CoA --> poly-3-Hydroxybutanoate + 10 Coenzyme A \n",
    "\n"
   ]
  },
  {
   "cell_type": "markdown",
   "id": "65b868c4",
   "metadata": {},
   "source": [
    "This model is saved as iML1515_het.xml and can be found [here](data/iML1515_het.xml)."
   ]
  },
  {
   "cell_type": "markdown",
   "id": "a10e042e",
   "metadata": {},
   "source": [
    "The preliminary exploratory analysis of the new heterologous method reveals a maximum P3HB production rate of 1.25 mmol gDW^-1 h^-1 and a theoretical maximum yield of 0.125 mmol P3HB per mmol glucose. Additionally, a phenotype phase plane (PPP) plot for P3HB was generated to analyze the optimal point where both the biomass yield and the highest production of P3HB converge. The PPP plot [(Figure)](data/PPP_plot.png) provides a visual representation of the trade-off between these two objectives, helping identify the 'sweet spot' where the model achieves an optimal balance between robust biomass yield and enhanced P3HB production. This graphical analysis aids in pinpointing strategic points for further exploration and optimization in the heterologous method. "
   ]
  },
  {
   "cell_type": "markdown",
   "id": "4cfb10ea",
   "metadata": {},
   "source": [
    "Based on our analysis, we have chosen to use the intersection of both trends as our reference point. Upon calculating the biomass value at this intersection, we find that the total biomass corresponds to 78% of the maximal biomass point. Consequently, moving forward, we will employ this 78% value as the reference for setting the lower bound on biomass growth. This strategic decision aims to restrict the reduction in biomass production that the model can enact, ensuring a balanced approach that prioritizes increased P3HB production without compromising overall cellular growth."
   ]
  },
  {
   "cell_type": "markdown",
   "id": "ac50d53c",
   "metadata": {},
   "source": [
    "![PPP](data/PPP_plot.png)"
   ]
  },
  {
   "cell_type": "code",
   "execution_count": null,
   "id": "6d102a1e",
   "metadata": {},
   "outputs": [],
   "source": []
  },
  {
   "cell_type": "code",
   "execution_count": 2,
   "id": "aa72a7c8",
   "metadata": {},
   "outputs": [
    {
     "name": "stderr",
     "output_type": "stream",
     "text": [
      "C:\\Users\\vfier\\AppData\\Local\\Temp\\ipykernel_37468\\281768124.py:6: MatplotlibDeprecationWarning: The seaborn styles shipped by Matplotlib are deprecated since 3.6, as they no longer correspond to the styles shipped by seaborn. However, they will remain available as 'seaborn-v0_8-<style>'. Alternatively, directly use the seaborn API instead.\n",
      "  plt.style.use('seaborn')\n"
     ]
    }
   ],
   "source": []
  },
  {
   "cell_type": "markdown",
   "id": "9cb17f86",
   "metadata": {},
   "source": []
  },
  {
   "cell_type": "code",
   "execution_count": 23,
   "id": "191151de",
   "metadata": {
    "scrolled": true
   },
   "outputs": [
    {
     "data": {
      "image/png": "[encoded data removed]",
      "text/plain": [
       "<Figure size 800x550 with 1 Axes>"
      ]
     },
     "metadata": {},
     "output_type": "display_data"
    }
   ],
   "source": []
  },
  {
   "cell_type": "code",
   "execution_count": 67,
   "id": "106a0f21",
   "metadata": {},
   "outputs": [],
   "source": [
    "essentiallity = {}\n",
    "for gene in model.genes:\n",
    "    with model:\n",
    "        gene.knock_out()\n",
    "        essentiallity[gene] = model.slim_optimize(error_value = 0.)"
   ]
  },
  {
   "cell_type": "markdown",
   "id": "6fb78946",
   "metadata": {},
   "source": [
    "## 5. Discussion (<500 words)"
   ]
  },
  {
   "cell_type": "markdown",
   "id": "15621478",
   "metadata": {},
   "source": [
    "Gene Regulation\n",
    "Kinetics\n",
    "Toxicity of substrate/Products\n",
    "Next steps, continue on combinatory strategies"
   ]
  },
  {
   "cell_type": "markdown",
   "id": "30739dba",
   "metadata": {},
   "source": [
    "## 6. Conclusion (<200 words)"
   ]
  },
  {
   "cell_type": "markdown",
   "id": "fbbf34cc",
   "metadata": {},
   "source": [
    "## References"
   ]
  },
  {
   "cell_type": "code",
   "execution_count": null,
   "id": "539ef5ad",
   "metadata": {},
   "outputs": [],
   "source": []
  }
 ],
 "metadata": {
  "kernelspec": {
   "display_name": "Python 3 (ipykernel)",
   "language": "python",
   "name": "python3"
  },
  "language_info": {
   "codemirror_mode": {
    "name": "ipython",
    "version": 3
   },
   "file_extension": ".py",
   "mimetype": "text/x-python",
   "name": "python",
   "nbconvert_exporter": "python",
   "pygments_lexer": "ipython3",
   "version": "3.9.12"
  }
 },
 "nbformat": 4,
 "nbformat_minor": 5
}

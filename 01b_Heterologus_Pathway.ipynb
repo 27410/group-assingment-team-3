{
 "cells": [
  {
   "cell_type": "code",
   "execution_count": 4,
   "id": "5bd54141",
   "metadata": {},
   "outputs": [],
   "source": [
    "# First, we can import some functions so we can use the model\n",
    "from cobra.io import read_sbml_model, write_sbml_model\n",
    "from cobra import Reaction, Metabolite"
   ]
  },
  {
   "cell_type": "code",
   "execution_count": 5,
   "id": "e7ba5b75",
   "metadata": {},
   "outputs": [
    {
     "data": {
      "text/html": [
       "\n",
       "        <table>\n",
       "            <tr>\n",
       "                <td><strong>Name</strong></td>\n",
       "                <td>iML1515</td>\n",
       "            </tr><tr>\n",
       "                <td><strong>Memory address</strong></td>\n",
       "                <td>1d93d581580</td>\n",
       "            </tr><tr>\n",
       "                <td><strong>Number of metabolites</strong></td>\n",
       "                <td>1877</td>\n",
       "            </tr><tr>\n",
       "                <td><strong>Number of reactions</strong></td>\n",
       "                <td>2712</td>\n",
       "            </tr><tr>\n",
       "                <td><strong>Number of genes</strong></td>\n",
       "                <td>1516</td>\n",
       "            </tr><tr>\n",
       "                <td><strong>Number of groups</strong></td>\n",
       "                <td>0</td>\n",
       "            </tr><tr>\n",
       "                <td><strong>Objective expression</strong></td>\n",
       "                <td>1.0*BIOMASS_Ec_iML1515_core_75p37M - 1.0*BIOMASS_Ec_iML1515_core_75p37M_reverse_35685</td>\n",
       "            </tr><tr>\n",
       "                <td><strong>Compartments</strong></td>\n",
       "                <td>cytosol, extracellular space, periplasm</td>\n",
       "            </tr>\n",
       "          </table>"
      ],
      "text/plain": [
       "<Model iML1515 at 0x1d93d581580>"
      ]
     },
     "execution_count": 5,
     "metadata": {},
     "output_type": "execute_result"
    }
   ],
   "source": [
    "# Second, we can read the GEM and save it as ‘model’\n",
    "model = read_sbml_model('data/iML1515.xml')\n",
    "\n",
    "# Third, we can show general information about the loaded model\n",
    "model"
   ]
  },
  {
   "cell_type": "code",
   "execution_count": 6,
   "id": "5f2d276c",
   "metadata": {},
   "outputs": [],
   "source": [
    "reaction_phacr = Reaction('PHACr')\n",
    "reaction_phacr.name = '3-Hydroxybutyryl-CoA reductase'\n",
    "reaction_phacr.subsystem = 'P3HB polymerization'\n",
    "reaction_phacr.lower_bound = 0.  # This is the default\n",
    "reaction_phacr.upper_bound = 1000.  # This is the default"
   ]
  },
  {
   "cell_type": "code",
   "execution_count": 7,
   "id": "7902830b",
   "metadata": {},
   "outputs": [
    {
     "data": {
      "text/plain": [
       "'10.0 3hbcoa_c --> P3HB_c + 10 coa_c'"
      ]
     },
     "execution_count": 7,
     "metadata": {},
     "output_type": "execute_result"
    }
   ],
   "source": [
    "# 10*3-Hydroxybutyryl-CoA <=> P3HB + 10*CoA\n",
    "\n",
    "P3HB_c = Metabolite(id='P3HB_c', name='poly-3-Hydroxybutanoate', compartment='c', formula='C40H62O21')\n",
    "reaction_phacr.add_metabolites({\n",
    "    model.metabolites.get_by_id(\"3hbcoa_c\"): -10.0,\n",
    "    P3HB_c: 1,\n",
    "    model.metabolites.get_by_id(\"coa_c\"): 10\n",
    "})\n",
    "\n",
    "reaction_phacr.reaction"
   ]
  },
  {
   "cell_type": "code",
   "execution_count": 8,
   "id": "6e9794b9",
   "metadata": {},
   "outputs": [
    {
     "data": {
      "text/plain": [
       "frozenset({<Gene phaC at 0x1d93eeffeb0>})"
      ]
     },
     "execution_count": 8,
     "metadata": {},
     "output_type": "execute_result"
    }
   ],
   "source": [
    "reaction_phacr.gene_reaction_rule = 'phaC'\n",
    "reaction_phacr.genes"
   ]
  },
  {
   "cell_type": "code",
   "execution_count": 9,
   "id": "2dd88e5b",
   "metadata": {},
   "outputs": [
    {
     "name": "stdout",
     "output_type": "stream",
     "text": [
      "2712 reactions initially\n",
      "1516 genes initially\n",
      "1877 metabolites initially\n"
     ]
    }
   ],
   "source": [
    "print(f'{len(model.reactions)} reactions initially')\n",
    "print(f'{len(model.genes)} genes initially')\n",
    "print(f'{len(model.metabolites)} metabolites initially')"
   ]
  },
  {
   "cell_type": "code",
   "execution_count": 10,
   "id": "b9d95416",
   "metadata": {},
   "outputs": [],
   "source": [
    "model.add_reactions([reaction_phacr])"
   ]
  },
  {
   "cell_type": "code",
   "execution_count": 11,
   "id": "c3f40e1b",
   "metadata": {},
   "outputs": [
    {
     "name": "stdout",
     "output_type": "stream",
     "text": [
      "2713 reactions\n",
      "1517 genes\n",
      "1878 metabolites\n"
     ]
    }
   ],
   "source": [
    "print(f'{len(model.reactions)} reactions')\n",
    "print(f'{len(model.genes)} genes')\n",
    "print(f'{len(model.metabolites)} metabolites')"
   ]
  },
  {
   "cell_type": "code",
   "execution_count": 12,
   "id": "a44fe686",
   "metadata": {},
   "outputs": [],
   "source": [
    "write_sbml_model(model, \"data/iML1515_het_TESTING.xml\")"
   ]
  },
  {
   "cell_type": "code",
   "execution_count": 13,
   "id": "d082c4ce",
   "metadata": {},
   "outputs": [
    {
     "data": {
      "text/html": [
       "<h3>coa_c</h3><p>C21H32N7O16P3S</p><h4>Producing Reactions</h4><table border=\"1\" class=\"dataframe\">\n",
       "  <thead>\n",
       "    <tr style=\"text-align: right;\">\n",
       "      <th>Percent</th>\n",
       "      <th>Flux</th>\n",
       "      <th>Reaction</th>\n",
       "      <th>Definition</th>\n",
       "    </tr>\n",
       "  </thead>\n",
       "  <tbody>\n",
       "    <tr>\n",
       "      <td>1.92%</td>\n",
       "      <td>0.3121</td>\n",
       "      <td>ACACT1r</td>\n",
       "      <td>2.0 accoa_c &lt;=&gt; aacoa_c + coa_c</td>\n",
       "    </tr>\n",
       "    <tr>\n",
       "      <td>1.92%</td>\n",
       "      <td>0.3121</td>\n",
       "      <td>ACACT2r</td>\n",
       "      <td>accoa_c + btcoa_c &lt;=&gt; 3ohcoa_c + coa_c</td>\n",
       "    </tr>\n",
       "    <tr>\n",
       "      <td>1.92%</td>\n",
       "      <td>0.3121</td>\n",
       "      <td>ACACT3r</td>\n",
       "      <td>accoa_c + hxcoa_c &lt;=&gt; 3oocoa_c + coa_c</td>\n",
       "    </tr>\n",
       "    <tr>\n",
       "      <td>1.92%</td>\n",
       "      <td>0.3121</td>\n",
       "      <td>ACACT4r</td>\n",
       "      <td>accoa_c + occoa_c &lt;=&gt; 3odcoa_c + coa_c</td>\n",
       "    </tr>\n",
       "    <tr>\n",
       "      <td>1.92%</td>\n",
       "      <td>0.3121</td>\n",
       "      <td>ACACT5r</td>\n",
       "      <td>accoa_c + dcacoa_c &lt;=&gt; 3oddcoa_c + coa_c</td>\n",
       "    </tr>\n",
       "    <tr>\n",
       "      <td>1.50%</td>\n",
       "      <td>0.2439</td>\n",
       "      <td>ACACT6r</td>\n",
       "      <td>accoa_c + ddcacoa_c &lt;=&gt; 3otdcoa_c + coa_c</td>\n",
       "    </tr>\n",
       "    <tr>\n",
       "      <td>1.50%</td>\n",
       "      <td>0.2439</td>\n",
       "      <td>ACACT7r</td>\n",
       "      <td>accoa_c + tdcoa_c &lt;=&gt; 3ohdcoa_c + coa_c</td>\n",
       "    </tr>\n",
       "    <tr>\n",
       "      <td>1.59%</td>\n",
       "      <td>0.2594</td>\n",
       "      <td>ACGS</td>\n",
       "      <td>accoa_c + glu__L_c --&gt; acglu_c + coa_c + h_c</td>\n",
       "    </tr>\n",
       "    <tr>\n",
       "      <td>42.50%</td>\n",
       "      <td>6.913</td>\n",
       "      <td>CS</td>\n",
       "      <td>accoa_c + h2o_c + oaa_c --&gt; cit_c + coa_c + h_c</td>\n",
       "    </tr>\n",
       "    <tr>\n",
       "      <td>0.00%</td>\n",
       "      <td>0.0005911</td>\n",
       "      <td>DPCOAK</td>\n",
       "      <td>atp_c + dpcoa_c --&gt; adp_c + coa_c + h_c</td>\n",
       "    </tr>\n",
       "    <tr>\n",
       "      <td>0.42%</td>\n",
       "      <td>0.06825</td>\n",
       "      <td>FACOAE120</td>\n",
       "      <td>ddcacoa_c + h2o_c --&gt; coa_c + ddca_c + h_c</td>\n",
       "    </tr>\n",
       "    <tr>\n",
       "      <td>0.69%</td>\n",
       "      <td>0.1119</td>\n",
       "      <td>FACOAE160</td>\n",
       "      <td>h2o_c + pmtcoa_c --&gt; coa_c + h_c + hdca_c</td>\n",
       "    </tr>\n",
       "    <tr>\n",
       "      <td>0.81%</td>\n",
       "      <td>0.1319</td>\n",
       "      <td>FACOAE161</td>\n",
       "      <td>h2o_c + hdcoa_c --&gt; coa_c + h_c + hdcea_c</td>\n",
       "    </tr>\n",
       "    <tr>\n",
       "      <td>0.51%</td>\n",
       "      <td>0.08287</td>\n",
       "      <td>G1PACT</td>\n",
       "      <td>accoa_c + gam1p_c --&gt; acgam1p_c + coa_c + h_c</td>\n",
       "    </tr>\n",
       "    <tr>\n",
       "      <td>0.83%</td>\n",
       "      <td>0.135</td>\n",
       "      <td>HSST</td>\n",
       "      <td>hom__L_c + succoa_c --&gt; coa_c + suchms_c</td>\n",
       "    </tr>\n",
       "    <tr>\n",
       "      <td>2.43%</td>\n",
       "      <td>0.3951</td>\n",
       "      <td>IPPS</td>\n",
       "      <td>3mob_c + accoa_c + h2o_c --&gt; 3c3hmp_c + coa_c + h_c</td>\n",
       "    </tr>\n",
       "    <tr>\n",
       "      <td>0.42%</td>\n",
       "      <td>0.06825</td>\n",
       "      <td>MCOATA</td>\n",
       "      <td>ACP_c + malcoa_c &lt;=&gt; coa_c + malACP_c</td>\n",
       "    </tr>\n",
       "    <tr>\n",
       "      <td>0.00%</td>\n",
       "      <td>1.754E-06</td>\n",
       "      <td>OGMEACPS</td>\n",
       "      <td>h_c + malACP_c + malcoame_c --&gt; co2_c + coa_c + ogmeACP_c</td>\n",
       "    </tr>\n",
       "    <tr>\n",
       "      <td>1.33%</td>\n",
       "      <td>0.217</td>\n",
       "      <td>SERAT</td>\n",
       "      <td>accoa_c + ser__L_c &lt;=&gt; acser_c + coa_c</td>\n",
       "    </tr>\n",
       "    <tr>\n",
       "      <td>33.87%</td>\n",
       "      <td>5.51</td>\n",
       "      <td>SUCOAS</td>\n",
       "      <td>atp_c + coa_c + succ_c &lt;=&gt; adp_c + pi_c + succoa_c</td>\n",
       "    </tr>\n",
       "    <tr>\n",
       "      <td>2.00%</td>\n",
       "      <td>0.3253</td>\n",
       "      <td>THDPS</td>\n",
       "      <td>h2o_c + succoa_c + thdp_c --&gt; coa_c + sl2a6o_c</td>\n",
       "    </tr>\n",
       "  </tbody>\n",
       "</table><h4>Consuming Reactions</h4><table border=\"1\" class=\"dataframe\">\n",
       "  <thead>\n",
       "    <tr style=\"text-align: right;\">\n",
       "      <th>Percent</th>\n",
       "      <th>Flux</th>\n",
       "      <th>Reaction</th>\n",
       "      <th>Definition</th>\n",
       "    </tr>\n",
       "  </thead>\n",
       "  <tbody>\n",
       "    <tr>\n",
       "      <td>36.70%</td>\n",
       "      <td>-5.97</td>\n",
       "      <td>AKGDH</td>\n",
       "      <td>akg_c + coa_c + nad_c --&gt; co2_c + nadh_c + succoa_c</td>\n",
       "    </tr>\n",
       "    <tr>\n",
       "      <td>0.00%</td>\n",
       "      <td>-0.0005052</td>\n",
       "      <td>BIOMASS_Ec_iML1515_core_75p37M</td>\n",
       "      <td>0.000223 10fthf_c + 2.6e-05 2fe2s_c + 0.000223 2ohph_c + 0.00026 4fe4s_c + 0.513689 ala__L_c + 0.000223 amet_c + 0.295792 arg__L_c + 0.241055 asn__L_c + 0.241055 asp__L_c + 75.55223 atp_c + 2e-06 btn_c + 0.005205 ca2_c + 0.005205 cl_c + 0.000576 coa_c + 2.5e-05 cobalt2_c + 0.133508 ctp_c + 0.000709 cu2_c + 0.09158 cys__L_c + 0.026166 datp_c + 0.027017 dctp_c + 0.027017 dgtp_c + 0.026166 dttp_c + 0.000223 fad_c + 0.006715 fe2_c + 0.007808 fe3_c + 0.26316 gln__L_c + 0.26316 glu__L_c + 0.612638 gly_c + 0.215096 gtp_c + 70.028756 h2o_c + 0.094738 his__L_c + 0.290529 ile__L_c + 0.195193 k_c + 0.019456 kdo2lipid4_e + 0.450531 leu__L_c + 0.343161 lys__L_c + 0.153686 met__L_c + 0.008675 mg2_c + 0.000223 mlthf_c + 0.000691 mn2_c + 7e-06 mobd_c + 0.013894 murein5px4p_p + 0.001831 nad_c + 0.000447 nadp_c + 0.013013 nh4_c + 0.000323 ni2_c + 0.063814 pe160_p + 0.075214 pe161_p + 0.185265 phe__L_c + 0.000223 pheme_c + 0.221055 pro__L_c + 0.000223 pydx5p_c + 0.000223 ribflv_c + 0.215792 ser__L_c + 0.000223 sheme_c + 0.004338 so4_c + 9.8e-05 succoa_c + 0.000223 thf_c + 0.000223 thmpp_c + 0.253687 thr__L_c + 0.056843 trp__L_c + 0.137896 tyr__L_c + 5.5e-05 udcpdp_c + 0.144104 utp_c + 0.423162 val__L_c + 0.000341 zn2_c --&gt; 75.37723 adp_c + 75.37723 h_c + 75.37323 pi_c + 0.773903 ppi_c</td>\n",
       "    </tr>\n",
       "    <tr>\n",
       "      <td>0.00%</td>\n",
       "      <td>-0.0003929</td>\n",
       "      <td>PAI2T</td>\n",
       "      <td>coa_c + dhptdd_c --&gt; accoa_c + dhap_c</td>\n",
       "    </tr>\n",
       "    <tr>\n",
       "      <td>59.57%</td>\n",
       "      <td>-9.69</td>\n",
       "      <td>PDH</td>\n",
       "      <td>coa_c + nad_c + pyr_c --&gt; accoa_c + co2_c + nadh_c</td>\n",
       "    </tr>\n",
       "    <tr>\n",
       "      <td>0.59%</td>\n",
       "      <td>-0.09538</td>\n",
       "      <td>POR5</td>\n",
       "      <td>coa_c + 2.0 flxso_c + pyr_c &lt;=&gt; accoa_c + co2_c + 2.0 flxr_c + h_c</td>\n",
       "    </tr>\n",
       "    <tr>\n",
       "      <td>3.14%</td>\n",
       "      <td>-0.5106</td>\n",
       "      <td>PTAr</td>\n",
       "      <td>accoa_c + pi_c &lt;=&gt; actp_c + coa_c</td>\n",
       "    </tr>\n",
       "  </tbody>\n",
       "</table>"
      ],
      "text/plain": [
       "<cobra.summary.metabolite_summary.MetaboliteSummary at 0x1d92664f070>"
      ]
     },
     "execution_count": 13,
     "metadata": {},
     "output_type": "execute_result"
    }
   ],
   "source": [
    "model.metabolites.get_by_id(\"coa_c\").summary()"
   ]
  },
  {
   "cell_type": "code",
   "execution_count": 14,
   "id": "0500bf2e",
   "metadata": {},
   "outputs": [
    {
     "data": {
      "text/html": [
       "\n",
       "        <table>\n",
       "            <tr>\n",
       "                <td><strong>Reaction identifier</strong></td><td>PHACr</td>\n",
       "            </tr><tr>\n",
       "                <td><strong>Name</strong></td><td>3-Hydroxybutyryl-CoA reductase</td>\n",
       "            </tr><tr>\n",
       "                <td><strong>Memory address</strong></td>\n",
       "                <td>0x1d93f8c1ca0</td>\n",
       "            </tr><tr>\n",
       "                <td><strong>Stoichiometry</strong></td>\n",
       "                <td>\n",
       "                    <p style='text-align:right'>10.0 3hbcoa_c --> P3HB_c + 10 coa_c</p>\n",
       "                    <p style='text-align:right'>10.0 (S)-3-Hydroxybutanoyl-CoA --> poly-3-Hydroxybutanoate + 10 Coenzyme A</p>\n",
       "                </td>\n",
       "            </tr><tr>\n",
       "                <td><strong>GPR</strong></td><td>phaC</td>\n",
       "            </tr><tr>\n",
       "                <td><strong>Lower bound</strong></td><td>0.0</td>\n",
       "            </tr><tr>\n",
       "                <td><strong>Upper bound</strong></td><td>1000.0</td>\n",
       "            </tr>\n",
       "        </table>\n",
       "        "
      ],
      "text/plain": [
       "<Reaction PHACr at 0x1d93f8c1ca0>"
      ]
     },
     "execution_count": 14,
     "metadata": {},
     "output_type": "execute_result"
    }
   ],
   "source": [
    "model.reactions.PHACr"
   ]
  }
 ],
 "metadata": {
  "kernelspec": {
   "display_name": "Python 3 (ipykernel)",
   "language": "python",
   "name": "python3"
  },
  "language_info": {
   "codemirror_mode": {
    "name": "ipython",
    "version": 3
   },
   "file_extension": ".py",
   "mimetype": "text/x-python",
   "name": "python",
   "nbconvert_exporter": "python",
   "pygments_lexer": "ipython3",
   "version": "3.9.12"
  }
 },
 "nbformat": 4,
 "nbformat_minor": 5
}

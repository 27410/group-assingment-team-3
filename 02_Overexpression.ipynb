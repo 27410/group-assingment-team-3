{
 "cells": [
  {
   "cell_type": "code",
   "execution_count": 60,
   "id": "78f1d7ca",
   "metadata": {},
   "outputs": [],
   "source": [
    "# First, we can import some functions so we can use the model\n",
    "from cobra.io import read_sbml_model, write_sbml_model\n",
    "from cobra import Reaction, Metabolite\n",
    "\n",
    "# Second, we can read the GEM and save it as ‘model’\n",
    "model = read_sbml_model('data/iML1515_het.xml')"
   ]
  },
  {
   "cell_type": "code",
   "execution_count": 61,
   "id": "90bec1f4",
   "metadata": {},
   "outputs": [
    {
     "name": "stdout",
     "output_type": "stream",
     "text": [
      "0.0\n",
      "0.8769972144269769\n",
      "0.0\n",
      "Growth reduction is: -8.770761894538737e-15\n"
     ]
    }
   ],
   "source": [
    "#phaC\n",
    "with model:\n",
    "    model.objective = model.reactions.SK_P3HB_c\n",
    "    solution = model.optimize()\n",
    "\n",
    "solution = model.optimize()\n",
    "phaC_flux = solution.fluxes[\"SK_P3HB_c\"]\n",
    "print(phaC_flux)\n",
    "growth = solution.objective_value\n",
    "with model:\n",
    "    model.reactions.phaC.lower_bound = phaC_flux * 2\n",
    "    solution_overexpression = model.optimize()\n",
    "    growth_overexpression = solution_overexpression.objective_value\n",
    "    \n",
    "growth_reduction = growth - growth_overexpression\n",
    "print(growth)\n",
    "print(phaC_flux)\n",
    "print(f\"Growth reduction is: {growth_reduction}\")\n"
   ]
  },
  {
   "cell_type": "code",
   "execution_count": 50,
   "id": "960b4448",
   "metadata": {},
   "outputs": [
    {
     "data": {
      "text/html": [
       "<h3>P3HB_c</h3><p>[C4H6O2]n</p><h4>Producing Reactions</h4><table border=\"1\" class=\"dataframe\">\n",
       "  <thead>\n",
       "    <tr style=\"text-align: right;\">\n",
       "      <th>Percent</th>\n",
       "      <th>Flux</th>\n",
       "      <th>Reaction</th>\n",
       "      <th>Definition</th>\n",
       "    </tr>\n",
       "  </thead>\n",
       "  <tbody>\n",
       "  </tbody>\n",
       "</table><h4>Consuming Reactions</h4><table border=\"1\" class=\"dataframe\">\n",
       "  <thead>\n",
       "    <tr style=\"text-align: right;\">\n",
       "      <th>Percent</th>\n",
       "      <th>Flux</th>\n",
       "      <th>Reaction</th>\n",
       "      <th>Definition</th>\n",
       "    </tr>\n",
       "  </thead>\n",
       "  <tbody>\n",
       "  </tbody>\n",
       "</table>"
      ],
      "text/plain": [
       "<cobra.summary.metabolite_summary.MetaboliteSummary at 0x1b03ee44160>"
      ]
     },
     "execution_count": 50,
     "metadata": {},
     "output_type": "execute_result"
    }
   ],
   "source": [
    "model.metabolites.P3HB_c.summary()"
   ]
  },
  {
   "cell_type": "code",
   "execution_count": 57,
   "id": "94e357bd",
   "metadata": {},
   "outputs": [
    {
     "data": {
      "text/plain": [
       "0.8769972144269779"
      ]
     },
     "execution_count": 57,
     "metadata": {},
     "output_type": "execute_result"
    }
   ],
   "source": [
    "solution = model.optimize()\n",
    "solution.objective_value #Biomass is the objective value by default"
   ]
  },
  {
   "cell_type": "code",
   "execution_count": null,
   "id": "482657c1",
   "metadata": {},
   "outputs": [],
   "source": []
  }
 ],
 "metadata": {
  "kernelspec": {
   "display_name": "Python 3 (ipykernel)",
   "language": "python",
   "name": "python3"
  },
  "language_info": {
   "codemirror_mode": {
    "name": "ipython",
    "version": 3
   },
   "file_extension": ".py",
   "mimetype": "text/x-python",
   "name": "python",
   "nbconvert_exporter": "python",
   "pygments_lexer": "ipython3",
   "version": "3.9.12"
  }
 },
 "nbformat": 4,
 "nbformat_minor": 5
}

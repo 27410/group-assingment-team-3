{
 "cells": [
  {
   "cell_type": "code",
   "execution_count": 2,
   "id": "6ca67e32",
   "metadata": {},
   "outputs": [
    {
     "ename": "ModuleNotFoundError",
     "evalue": "No module named 'cameo'",
     "output_type": "error",
     "traceback": [
      "\u001b[1;31m---------------------------------------------------------------------------\u001b[0m",
      "\u001b[1;31mModuleNotFoundError\u001b[0m                       Traceback (most recent call last)",
      "\u001b[1;32mc:\\Users\\laiav\\Documents\\group-assingment-team-3\\04_Cofactor Engineering Strategies.ipynb Cell 1\u001b[0m line \u001b[0;36m1\n\u001b[1;32m----> <a href='vscode-notebook-cell:/c%3A/Users/laiav/Documents/group-assingment-team-3/04_Cofactor%20Engineering%20Strategies.ipynb#W0sZmlsZQ%3D%3D?line=0'>1</a>\u001b[0m \u001b[39mfrom\u001b[39;00m \u001b[39mcameo\u001b[39;00m\u001b[39m.\u001b[39;00m\u001b[39mstrain_design\u001b[39;00m\u001b[39m.\u001b[39;00m\u001b[39mheuristic\u001b[39;00m\u001b[39m.\u001b[39;00m\u001b[39mevolutionary_based\u001b[39;00m \u001b[39mimport\u001b[39;00m CofactorSwapOptimization\n",
      "\u001b[1;31mModuleNotFoundError\u001b[0m: No module named 'cameo'"
     ]
    }
   ],
   "source": [
    "from cameo.strain_design.heuristic.evolutionary_based import CofactorSwapOptimization\n"
   ]
  }
 ],
 "metadata": {
  "kernelspec": {
   "display_name": "Python 3 (ipykernel)",
   "language": "python",
   "name": "python3"
  },
  "language_info": {
   "codemirror_mode": {
    "name": "ipython",
    "version": 3
   },
   "file_extension": ".py",
   "mimetype": "text/x-python",
   "name": "python",
   "nbconvert_exporter": "python",
   "pygments_lexer": "ipython3",
   "version": "3.10.7"
  }
 },
 "nbformat": 4,
 "nbformat_minor": 5
}

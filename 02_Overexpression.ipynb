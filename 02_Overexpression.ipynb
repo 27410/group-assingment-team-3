{
 "cells": [
  {
   "cell_type": "code",
   "execution_count": 1,
   "id": "78f1d7ca",
   "metadata": {},
   "outputs": [],
   "source": [
    "# First, we can import some functions so we can use the model\n",
    "from cobra.io import read_sbml_model, write_sbml_model\n",
    "from cobra import Reaction, Metabolite\n",
    "\n",
    "# Second, we can read the GEM and save it as ‘model’\n",
    "model = read_sbml_model('data/iML1515_het.xml')"
   ]
  },
  {
   "cell_type": "code",
   "execution_count": null,
   "id": "90bec1f4",
   "metadata": {},
   "outputs": [],
   "source": [
    "#phaC\n",
    "# with model:\n",
    "#     r_phaC_exp = model.add_boundary(model.metabolites.get_by_id('P3HB_c'), type='demand')\n",
    "#     model.objective = r_phaC_exp\n",
    "#     solution = model.optimize()\n",
    "\n",
    "# phaC_flux = solution.fluxes[\"DM_P3HB_c\"]\n",
    "# print(phaC_flux)\n",
    "# growth = solution.objective_value\n",
    "# with model:\n",
    "#     model.reactions.phaC.lower_bound = phaC_flux * 2\n",
    "#     solution_overexpression = model.optimize()\n",
    "#     growth_overexpression = solution_overexpression.objective_value\n",
    "    \n",
    "# growth_reduction = growth - growth_overexpression\n",
    "# print(growth)\n",
    "# print(phaC_flux)\n",
    "# print(f\"Growth reduction is: {growth_reduction}\")\n"
   ]
  },
  {
   "cell_type": "code",
   "execution_count": 3,
   "id": "94e357bd",
   "metadata": {},
   "outputs": [
    {
     "data": {
      "text/plain": [
       "0.8769972144269724"
      ]
     },
     "execution_count": 3,
     "metadata": {},
     "output_type": "execute_result"
    }
   ],
   "source": [
    "solution = model.optimize()\n",
    "solution.objective_value #Biomass is the objective value by default"
   ]
  },
  {
   "cell_type": "code",
   "execution_count": 5,
   "id": "44a1d912",
   "metadata": {},
   "outputs": [
    {
     "name": "stdout",
     "output_type": "stream",
     "text": [
      "2.7428235294115773\n"
     ]
    }
   ],
   "source": [
    "with model:\n",
    "    max_growth = model.optimize().objective_value\n",
    "    min_growth = 0.8 * max_growth  \n",
    "    max_growth = 1.0 * max_growth  \n",
    "    \n",
    "    model.objective = model.reactions.get_by_id(\"BIOMASS_Ec_iML1515_core_75p37M\")\n",
    "    model.reactions.get_by_id(\"BIOMASS_Ec_iML1515_core_75p37M\").bounds = min_growth, max_growth\n",
    "    max_growth = model.optimize().objective_value\n",
    "    \n",
    "    r_phaC_exp = model.add_boundary(model.metabolites.get_by_id('P3HB_c'), type='sink')\n",
    "    model.objective = r_phaC_exp\n",
    "    produce_P3HB = model.optimize().objective_value\n",
    "    \n",
    "print(produce_P3HB)\n"
   ]
  },
  {
   "cell_type": "code",
   "execution_count": null,
   "id": "2865ff4a",
   "metadata": {},
   "outputs": [],
   "source": []
  }
 ],
 "metadata": {
  "kernelspec": {
   "display_name": "Python 3 (ipykernel)",
   "language": "python",
   "name": "python3"
  },
  "language_info": {
   "codemirror_mode": {
    "name": "ipython",
    "version": 3
   },
   "file_extension": ".py",
   "mimetype": "text/x-python",
   "name": "python",
   "nbconvert_exporter": "python",
   "pygments_lexer": "ipython3",
   "version": "3.9.12"
  }
 },
 "nbformat": 4,
 "nbformat_minor": 5
}

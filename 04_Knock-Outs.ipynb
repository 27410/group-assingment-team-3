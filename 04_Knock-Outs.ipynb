{
 "cells": [
  {
   "cell_type": "code",
   "execution_count": 22,
   "id": "47cba661",
   "metadata": {},
   "outputs": [],
   "source": [
    "from cobra.io import read_sbml_model, write_sbml_model\n",
    "from cobra import Reaction, Metabolite\n",
    "import pandas as pd\n",
    "import matplotlib.pyplot as plt "
   ]
  },
  {
   "cell_type": "code",
   "execution_count": 2,
   "id": "bccfbba3",
   "metadata": {},
   "outputs": [],
   "source": [
    "model = read_sbml_model('data/iML1515_het.xml')"
   ]
  },
  {
   "cell_type": "markdown",
   "id": "d93677f2",
   "metadata": {},
   "source": [
    "# All genes single KO:"
   ]
  },
  {
   "cell_type": "code",
   "execution_count": 3,
   "id": "ca167a78",
   "metadata": {},
   "outputs": [
    {
     "name": "stdout",
     "output_type": "stream",
     "text": [
      "Basal P3HB production:  2.7428235294114476\n",
      "Top 5 genes whose KO causes p3HB production increase:\n",
      "hemL (b0154): 0.010012%\n",
      "ubiD (b3843): 0.010009%\n",
      "ispB (b3187): 0.010009%\n",
      "ubiA (b4040): 0.010009%\n",
      "cysG (b3368): 0.010007%\n"
     ]
    }
   ],
   "source": [
    "higher_production_KO = {}\n",
    "lower_production_KO = {}\n",
    "\n",
    "# We set a limit for Biomass to drop: 80% of max Biomass production\n",
    "# This is very important because since production P3HB has a tradeoff with Biomass production, not setting this \n",
    "# 80% biomass lower limit would cause the model to produce NO Biomass to maximize the production of P3HB. \n",
    "max_growth = model.optimize().objective_value\n",
    "min_growth = 0.8 * max_growth  \n",
    "max_growth = 1.0 * max_growth  \n",
    "model.reactions.get_by_id(\"BIOMASS_Ec_iML1515_core_75p37M\").bounds = min_growth, max_growth\n",
    "\n",
    "with model:\n",
    "    # We optimize for P3HB production:\n",
    "    r_phaC_exp = model.add_boundary(model.metabolites.get_by_id('P3HB_c'), type='sink')\n",
    "    model.objective = r_phaC_exp\n",
    "    Basal_P3HB_production = model.optimize().objective_value\n",
    "    print('Basal P3HB production: ', Basal_P3HB_production)\n",
    "\n",
    "    # Now we iterate through every gene and perform a single KO and recheck P3HB production:\n",
    "    for gene in model.genes:\n",
    "        \n",
    "        with model:\n",
    "        \n",
    "            gene.knock_out()\n",
    "            KO_P3HB_production = model.slim_optimize(error_value=0.)\n",
    "            \n",
    "            # We keep those genes whose KO increases P3HB production in a dictionary containing the gene ID and the P3HB production\n",
    "            if KO_P3HB_production > Basal_P3HB_production:\n",
    "                higher_production_KO[gene.id] = KO_P3HB_production\n",
    "            else:\n",
    "                lower_production_KO[gene.id] = KO_P3HB_production\n",
    "\n",
    "# We sort the dictionary with descending P3HB production values:                \n",
    "sorted_items = sorted(higher_production_KO.items(), key=lambda x: x[1], reverse=True)\n",
    "higher_production_KO_sorted = dict(sorted_items)\n",
    "\n",
    "# We transform production values into percentages of produciton increase:\n",
    "for key in higher_production_KO_sorted:\n",
    "    higher_production_KO_sorted[key] /= Basal_P3HB_production*100\n",
    "\n",
    "# We show Top 5 performing KO genes:\n",
    "print('Top 5 genes whose KO causes p3HB production increase:')\n",
    "for key, value in list(higher_production_KO_sorted.items())[:5]:\n",
    "    print(f'{model.genes.get_by_id(key).name} ({key}): {round(value, 6)}%')\n",
    "\n",
    "KO_hemL = higher_production_KO_sorted['b0154']\n",
    "KO_ubiD = higher_production_KO_sorted['b3843']\n",
    "KO_ispB = higher_production_KO_sorted['b3187']\n",
    "KO_ubiA = higher_production_KO_sorted['b4040']\n",
    "KO_cysG = higher_production_KO_sorted['b3368']"
   ]
  },
  {
   "cell_type": "markdown",
   "id": "065c4031",
   "metadata": {},
   "source": [
    "## Overview of the best performing genes:"
   ]
  },
  {
   "cell_type": "markdown",
   "id": "8ee0aed5",
   "metadata": {},
   "source": [
    "### hemL:"
   ]
  },
  {
   "cell_type": "code",
   "execution_count": 4,
   "id": "dbb6a916",
   "metadata": {},
   "outputs": [
    {
     "data": {
      "text/html": [
       "\n",
       "        <table>\n",
       "            <tr>\n",
       "                <td><strong>Gene identifier</strong></td><td>b0154</td>\n",
       "            </tr><tr>\n",
       "                <td><strong>Name</strong></td><td>hemL</td>\n",
       "            </tr><tr>\n",
       "                <td><strong>Memory address</strong></td>\n",
       "                <td>0x2b0a20078d0</td>\n",
       "            </tr><tr>\n",
       "                <td><strong>Functional</strong></td><td>True</td>\n",
       "            </tr><tr>\n",
       "                <td><strong>In 1 reaction(s)</strong></td><td>\n",
       "                    G1SAT\n",
       "                    </td>\n",
       "            </tr>\n",
       "        </table>"
      ],
      "text/plain": [
       "<Gene b0154 at 0x2b0a20078d0>"
      ]
     },
     "execution_count": 4,
     "metadata": {},
     "output_type": "execute_result"
    }
   ],
   "source": [
    "model.genes.b0154"
   ]
  },
  {
   "cell_type": "code",
   "execution_count": 5,
   "id": "1b4387e2",
   "metadata": {
    "scrolled": true
   },
   "outputs": [
    {
     "data": {
      "text/html": [
       "\n",
       "        <table>\n",
       "            <tr>\n",
       "                <td><strong>Reaction identifier</strong></td><td>G1SAT</td>\n",
       "            </tr><tr>\n",
       "                <td><strong>Name</strong></td><td>Glutamate-1-semialdehyde aminotransferase</td>\n",
       "            </tr><tr>\n",
       "                <td><strong>Memory address</strong></td>\n",
       "                <td>0x2b0a243dc50</td>\n",
       "            </tr><tr>\n",
       "                <td><strong>Stoichiometry</strong></td>\n",
       "                <td>\n",
       "                    <p style='text-align:right'>glu1sa_c <=> 5aop_c</p>\n",
       "                    <p style='text-align:right'>L-Glutamate 1-semialdehyde <=> 5-Amino-4-oxopentanoate</p>\n",
       "                </td>\n",
       "            </tr><tr>\n",
       "                <td><strong>GPR</strong></td><td>b0154</td>\n",
       "            </tr><tr>\n",
       "                <td><strong>Lower bound</strong></td><td>-1000.0</td>\n",
       "            </tr><tr>\n",
       "                <td><strong>Upper bound</strong></td><td>1000.0</td>\n",
       "            </tr>\n",
       "        </table>\n",
       "        "
      ],
      "text/plain": [
       "<Reaction G1SAT at 0x2b0a243dc50>"
      ]
     },
     "execution_count": 5,
     "metadata": {},
     "output_type": "execute_result"
    }
   ],
   "source": [
    "model.reactions.G1SAT"
   ]
  },
  {
   "cell_type": "markdown",
   "id": "4340ebbe",
   "metadata": {},
   "source": [
    "Encodes glutamate 1-semialdehyde aminotransferase and is involved in the Porphyrin-containing compound metabolism P23893 (UniProt)."
   ]
  },
  {
   "cell_type": "markdown",
   "id": "921cba9e",
   "metadata": {},
   "source": [
    "### ubiD:"
   ]
  },
  {
   "cell_type": "code",
   "execution_count": 6,
   "id": "2b7c9b70",
   "metadata": {},
   "outputs": [
    {
     "data": {
      "text/html": [
       "\n",
       "        <table>\n",
       "            <tr>\n",
       "                <td><strong>Gene identifier</strong></td><td>b3843</td>\n",
       "            </tr><tr>\n",
       "                <td><strong>Name</strong></td><td>ubiD</td>\n",
       "            </tr><tr>\n",
       "                <td><strong>Memory address</strong></td>\n",
       "                <td>0x2b0a1f4bd90</td>\n",
       "            </tr><tr>\n",
       "                <td><strong>Functional</strong></td><td>True</td>\n",
       "            </tr><tr>\n",
       "                <td><strong>In 1 reaction(s)</strong></td><td>\n",
       "                    OPHBDC\n",
       "                    </td>\n",
       "            </tr>\n",
       "        </table>"
      ],
      "text/plain": [
       "<Gene b3843 at 0x2b0a1f4bd90>"
      ]
     },
     "execution_count": 6,
     "metadata": {},
     "output_type": "execute_result"
    }
   ],
   "source": [
    "model.genes.b3843"
   ]
  },
  {
   "cell_type": "code",
   "execution_count": 7,
   "id": "a960d87e",
   "metadata": {
    "scrolled": true
   },
   "outputs": [
    {
     "data": {
      "text/html": [
       "\n",
       "        <table>\n",
       "            <tr>\n",
       "                <td><strong>Reaction identifier</strong></td><td>OPHBDC</td>\n",
       "            </tr><tr>\n",
       "                <td><strong>Name</strong></td><td>Octaprenyl-hydroxybenzoate decarboxylase</td>\n",
       "            </tr><tr>\n",
       "                <td><strong>Memory address</strong></td>\n",
       "                <td>0x2b0a2588d90</td>\n",
       "            </tr><tr>\n",
       "                <td><strong>Stoichiometry</strong></td>\n",
       "                <td>\n",
       "                    <p style='text-align:right'>3ophb_c + h_c --> 2oph_c + co2_c</p>\n",
       "                    <p style='text-align:right'>3-Octaprenyl-4-hydroxybenzoate + H+ --> 2-Octaprenylphenol + CO2 CO2</p>\n",
       "                </td>\n",
       "            </tr><tr>\n",
       "                <td><strong>GPR</strong></td><td>b3843</td>\n",
       "            </tr><tr>\n",
       "                <td><strong>Lower bound</strong></td><td>0.0</td>\n",
       "            </tr><tr>\n",
       "                <td><strong>Upper bound</strong></td><td>1000.0</td>\n",
       "            </tr>\n",
       "        </table>\n",
       "        "
      ],
      "text/plain": [
       "<Reaction OPHBDC at 0x2b0a2588d90>"
      ]
     },
     "execution_count": 7,
     "metadata": {},
     "output_type": "execute_result"
    }
   ],
   "source": [
    "model.reactions.OPHBDC"
   ]
  },
  {
   "cell_type": "markdown",
   "id": "3f56b58d",
   "metadata": {},
   "source": [
    "Encondes for Octaprenyl-hydroxybenzoate decarboxylase and is involved in Ubiquinone biosynthesis. P0AAB4 (UniProt)"
   ]
  },
  {
   "cell_type": "markdown",
   "id": "ca22c33f",
   "metadata": {},
   "source": [
    "### ispB:"
   ]
  },
  {
   "cell_type": "code",
   "execution_count": 8,
   "id": "ed780670",
   "metadata": {},
   "outputs": [
    {
     "data": {
      "text/html": [
       "\n",
       "        <table>\n",
       "            <tr>\n",
       "                <td><strong>Gene identifier</strong></td><td>b3187</td>\n",
       "            </tr><tr>\n",
       "                <td><strong>Name</strong></td><td>ispB</td>\n",
       "            </tr><tr>\n",
       "                <td><strong>Memory address</strong></td>\n",
       "                <td>0x2b0a1f81cd0</td>\n",
       "            </tr><tr>\n",
       "                <td><strong>Functional</strong></td><td>True</td>\n",
       "            </tr><tr>\n",
       "                <td><strong>In 1 reaction(s)</strong></td><td>\n",
       "                    OCTDPS\n",
       "                    </td>\n",
       "            </tr>\n",
       "        </table>"
      ],
      "text/plain": [
       "<Gene b3187 at 0x2b0a1f81cd0>"
      ]
     },
     "execution_count": 8,
     "metadata": {},
     "output_type": "execute_result"
    }
   ],
   "source": [
    "model.genes.b3187"
   ]
  },
  {
   "cell_type": "code",
   "execution_count": 9,
   "id": "d109f001",
   "metadata": {
    "scrolled": false
   },
   "outputs": [
    {
     "data": {
      "text/html": [
       "\n",
       "        <table>\n",
       "            <tr>\n",
       "                <td><strong>Reaction identifier</strong></td><td>OCTDPS</td>\n",
       "            </tr><tr>\n",
       "                <td><strong>Name</strong></td><td>Octaprenyl pyrophosphate synthase</td>\n",
       "            </tr><tr>\n",
       "                <td><strong>Memory address</strong></td>\n",
       "                <td>0x2b0a2666090</td>\n",
       "            </tr><tr>\n",
       "                <td><strong>Stoichiometry</strong></td>\n",
       "                <td>\n",
       "                    <p style='text-align:right'>frdp_c + 5.0 ipdp_c --> octdp_c + 5.0 ppi_c</p>\n",
       "                    <p style='text-align:right'>Farnesyl diphosphate + 5.0 Isopentenyl diphosphate --> All-trans-Octaprenyl diphosphate + 5.0 Diphosphate</p>\n",
       "                </td>\n",
       "            </tr><tr>\n",
       "                <td><strong>GPR</strong></td><td>b3187</td>\n",
       "            </tr><tr>\n",
       "                <td><strong>Lower bound</strong></td><td>0.0</td>\n",
       "            </tr><tr>\n",
       "                <td><strong>Upper bound</strong></td><td>1000.0</td>\n",
       "            </tr>\n",
       "        </table>\n",
       "        "
      ],
      "text/plain": [
       "<Reaction OCTDPS at 0x2b0a2666090>"
      ]
     },
     "execution_count": 9,
     "metadata": {},
     "output_type": "execute_result"
    }
   ],
   "source": [
    "model.reactions.OCTDPS"
   ]
  },
  {
   "cell_type": "markdown",
   "id": "2bb7fdb7",
   "metadata": {},
   "source": [
    "Supplies octaprenyl diphosphate, the precursor for the side chain of the isoprenoid quinones ubiquinone and menaquinone. P0AD57 (UniProt)"
   ]
  },
  {
   "cell_type": "markdown",
   "id": "107f32b8",
   "metadata": {},
   "source": [
    "### ubiA:"
   ]
  },
  {
   "cell_type": "code",
   "execution_count": 10,
   "id": "5e4ac246",
   "metadata": {},
   "outputs": [
    {
     "data": {
      "text/html": [
       "\n",
       "        <table>\n",
       "            <tr>\n",
       "                <td><strong>Gene identifier</strong></td><td>b4040</td>\n",
       "            </tr><tr>\n",
       "                <td><strong>Name</strong></td><td>ubiA</td>\n",
       "            </tr><tr>\n",
       "                <td><strong>Memory address</strong></td>\n",
       "                <td>0x2b0a1fde810</td>\n",
       "            </tr><tr>\n",
       "                <td><strong>Functional</strong></td><td>True</td>\n",
       "            </tr><tr>\n",
       "                <td><strong>In 1 reaction(s)</strong></td><td>\n",
       "                    HBZOPT\n",
       "                    </td>\n",
       "            </tr>\n",
       "        </table>"
      ],
      "text/plain": [
       "<Gene b4040 at 0x2b0a1fde810>"
      ]
     },
     "execution_count": 10,
     "metadata": {},
     "output_type": "execute_result"
    }
   ],
   "source": [
    "model.genes.b4040"
   ]
  },
  {
   "cell_type": "code",
   "execution_count": 11,
   "id": "0b6e76ab",
   "metadata": {
    "scrolled": false
   },
   "outputs": [
    {
     "data": {
      "text/html": [
       "\n",
       "        <table>\n",
       "            <tr>\n",
       "                <td><strong>Reaction identifier</strong></td><td>HBZOPT</td>\n",
       "            </tr><tr>\n",
       "                <td><strong>Name</strong></td><td>Hydroxybenzoate octaprenyltransferase</td>\n",
       "            </tr><tr>\n",
       "                <td><strong>Memory address</strong></td>\n",
       "                <td>0x2b0a2659bd0</td>\n",
       "            </tr><tr>\n",
       "                <td><strong>Stoichiometry</strong></td>\n",
       "                <td>\n",
       "                    <p style='text-align:right'>4hbz_c + octdp_c --> 3ophb_c + ppi_c</p>\n",
       "                    <p style='text-align:right'>4-Hydroxybenzoate + All-trans-Octaprenyl diphosphate --> 3-Octaprenyl-4-hydroxybenzoate + Diphosphate</p>\n",
       "                </td>\n",
       "            </tr><tr>\n",
       "                <td><strong>GPR</strong></td><td>b4040</td>\n",
       "            </tr><tr>\n",
       "                <td><strong>Lower bound</strong></td><td>0.0</td>\n",
       "            </tr><tr>\n",
       "                <td><strong>Upper bound</strong></td><td>1000.0</td>\n",
       "            </tr>\n",
       "        </table>\n",
       "        "
      ],
      "text/plain": [
       "<Reaction HBZOPT at 0x2b0a2659bd0>"
      ]
     },
     "execution_count": 11,
     "metadata": {},
     "output_type": "execute_result"
    }
   ],
   "source": [
    "model.reactions.HBZOPT"
   ]
  },
  {
   "cell_type": "markdown",
   "id": "1ff64b22",
   "metadata": {},
   "source": [
    "Mediates the second step in the final reaction sequence of ubiquinone-8 (UQ-8) biosynthesis. P0AGK1 (UniProt)"
   ]
  },
  {
   "cell_type": "markdown",
   "id": "7eb6582d",
   "metadata": {},
   "source": [
    "### cysG:"
   ]
  },
  {
   "cell_type": "code",
   "execution_count": 12,
   "id": "9c09406b",
   "metadata": {},
   "outputs": [
    {
     "data": {
      "text/html": [
       "\n",
       "        <table>\n",
       "            <tr>\n",
       "                <td><strong>Gene identifier</strong></td><td>b3368</td>\n",
       "            </tr><tr>\n",
       "                <td><strong>Name</strong></td><td>cysG</td>\n",
       "            </tr><tr>\n",
       "                <td><strong>Memory address</strong></td>\n",
       "                <td>0x2b0a1f55090</td>\n",
       "            </tr><tr>\n",
       "                <td><strong>Functional</strong></td><td>True</td>\n",
       "            </tr><tr>\n",
       "                <td><strong>In 3 reaction(s)</strong></td><td>\n",
       "                    SHCHF, SHCHD2, UPP3MT\n",
       "                    </td>\n",
       "            </tr>\n",
       "        </table>"
      ],
      "text/plain": [
       "<Gene b3368 at 0x2b0a1f55090>"
      ]
     },
     "execution_count": 12,
     "metadata": {},
     "output_type": "execute_result"
    }
   ],
   "source": [
    "model.genes.b3368"
   ]
  },
  {
   "cell_type": "code",
   "execution_count": 13,
   "id": "9226e0ec",
   "metadata": {
    "scrolled": true
   },
   "outputs": [
    {
     "data": {
      "text/html": [
       "\n",
       "        <table>\n",
       "            <tr>\n",
       "                <td><strong>Reaction identifier</strong></td><td>UPP3MT</td>\n",
       "            </tr><tr>\n",
       "                <td><strong>Name</strong></td><td>Uroporphyrinogen methyltransferase</td>\n",
       "            </tr><tr>\n",
       "                <td><strong>Memory address</strong></td>\n",
       "                <td>0x2b0a32fb210</td>\n",
       "            </tr><tr>\n",
       "                <td><strong>Stoichiometry</strong></td>\n",
       "                <td>\n",
       "                    <p style='text-align:right'>2.0 amet_c + uppg3_c --> 2.0 ahcys_c + dscl_c + h_c</p>\n",
       "                    <p style='text-align:right'>2.0 S-Adenosyl-L-methionine + Uroporphyrinogen III --> 2.0 S-Adenosyl-L-homocysteine + Dihydrosirohydrochlorin + H+</p>\n",
       "                </td>\n",
       "            </tr><tr>\n",
       "                <td><strong>GPR</strong></td><td>b3368</td>\n",
       "            </tr><tr>\n",
       "                <td><strong>Lower bound</strong></td><td>0.0</td>\n",
       "            </tr><tr>\n",
       "                <td><strong>Upper bound</strong></td><td>1000.0</td>\n",
       "            </tr>\n",
       "        </table>\n",
       "        "
      ],
      "text/plain": [
       "<Reaction UPP3MT at 0x2b0a32fb210>"
      ]
     },
     "execution_count": 13,
     "metadata": {},
     "output_type": "execute_result"
    }
   ],
   "source": [
    "model.reactions.SHCHD2\n",
    "model.reactions.SHCHF\n",
    "model.reactions.UPP3MT"
   ]
  },
  {
   "cell_type": "markdown",
   "id": "66590fba",
   "metadata": {},
   "source": [
    "Involved in the following pathways:\n",
    "- Cofactor biosynthesis; adenosylcobalamin biosynthesis; precorrin-2 from uroporphyrinogen III.\n",
    "- Cofactor biosynthesis; adenosylcobalamin biosynthesis; sirohydrochlorin from precorrin-2.\n",
    "- Porphyrin-containing compound metabolism; siroheme biosynthesis; precorrin-2 from uroporphyrinogen III.\n",
    "- Porphyrin-containing compound metabolism; siroheme biosynthesis; siroheme from sirohydrochlorin.\n",
    "- Porphyrin-containing compound metabolism; siroheme biosynthesis; sirohydrochlorin from precorrin-2."
   ]
  },
  {
   "cell_type": "markdown",
   "id": "fbe2fa1c",
   "metadata": {},
   "source": [
    "### Conclussion:\n",
    "What we can see from the most influent KO genes from the analysis is:\n",
    "- The Top 5 are involved in cofactor metabolism.\n",
    "- Top 2 to 4 is involved in ubiquinone metabolism.\n",
    "- Top 1 and Top 5 is involved in porphyrin metabolism."
   ]
  },
  {
   "cell_type": "markdown",
   "id": "d57ff694",
   "metadata": {},
   "source": [
    "# KO Combinations:"
   ]
  },
  {
   "cell_type": "markdown",
   "id": "aab5beb5",
   "metadata": {},
   "source": [
    "## Ubiquinone genes KO (ubiD, ispB, ubiA):\n",
    "- ubiD (b3843): 0.010009%\n",
    "- ispB (b3187): 0.010009%\n",
    "- ubiA (b4040): 0.010009%"
   ]
  },
  {
   "cell_type": "code",
   "execution_count": 16,
   "id": "3bc21070",
   "metadata": {},
   "outputs": [
    {
     "name": "stdout",
     "output_type": "stream",
     "text": [
      "Basal P3HB production:  2.74282\n",
      "KO P3HB production:  2.74538\n",
      "ubiD, ispB and ubiA KO generates a P3HB flux increase of:\n",
      "0.09311 %\n"
     ]
    }
   ],
   "source": [
    "with model:\n",
    "    \n",
    "    # We optimize for P3HB production:\n",
    "    r_phaC_exp = model.add_boundary(model.metabolites.get_by_id('P3HB_c'), type='sink')\n",
    "    model.objective = r_phaC_exp\n",
    "    Basal_P3HB_production = model.optimize().objective_value\n",
    "    print('Basal P3HB production: ', round(Basal_P3HB_production, 5))\n",
    "    \n",
    "    # we KO the 3 genes at the same time:\n",
    "    model.genes.b3843.knock_out()    # ubiD\n",
    "    model.genes.b3187.knock_out()    # ispB\n",
    "    model.genes.b4040.knock_out()    # ubiA\n",
    "    KO_P3HB_production = model.optimize().objective_value\n",
    "    print('KO P3HB production: ', round(KO_P3HB_production, 5))\n",
    "\n",
    "\n",
    "# We show Top 5 performing KO genes:\n",
    "print('ubiD, ispB and ubiA KO generates a P3HB flux increase of:')\n",
    "print(round((KO_P3HB_production-Basal_P3HB_production)/Basal_P3HB_production*100, 5), \"%\")\n",
    "KO_ubiquinone_genes = (KO_P3HB_production-Basal_P3HB_production)/Basal_P3HB_production*100\n"
   ]
  },
  {
   "cell_type": "markdown",
   "id": "18f97814",
   "metadata": {},
   "source": [
    "We see the effect of the 3 combined KO is not additive, but rather bigger than that. "
   ]
  },
  {
   "cell_type": "markdown",
   "id": "a63246f2",
   "metadata": {},
   "source": [
    "## Porphirin genes KO (hemL, cysG)\n",
    "\n",
    "- hemL (b0154): 0.010012%\n",
    "- cysG (b3368): 0.010007%"
   ]
  },
  {
   "cell_type": "code",
   "execution_count": 17,
   "id": "fec7099c",
   "metadata": {},
   "outputs": [
    {
     "name": "stdout",
     "output_type": "stream",
     "text": [
      "Basal P3HB production:  2.74282\n",
      "KO P3HB production:  nan\n",
      "hemL and cysG KO generates a P3HB flux increase of:\n",
      "nan %\n"
     ]
    }
   ],
   "source": [
    "with model:\n",
    "    \n",
    "    # We optimize for P3HB production:\n",
    "    r_phaC_exp = model.add_boundary(model.metabolites.get_by_id('P3HB_c'), type='sink')\n",
    "    model.objective = r_phaC_exp\n",
    "    Basal_P3HB_production = model.optimize().objective_value\n",
    "    print('Basal P3HB production: ', round(Basal_P3HB_production, 5))\n",
    "    \n",
    "    # we KO the 2 genes at the same time:\n",
    "    model.genes.b0154.knock_out()    # hemL\n",
    "    model.genes.b3368.knock_out()    # cysG\n",
    "    KO_P3HB_production = model.slim_optimize()\n",
    "    print('KO P3HB production: ', round(KO_P3HB_production, 5))\n",
    "\n",
    "\n",
    "# We show Top 5 performing KO genes:\n",
    "print('hemL and cysG KO generates a P3HB flux increase of:')\n",
    "print(round((KO_P3HB_production-Basal_P3HB_production)/Basal_P3HB_production*100, 5), \"%\")\n",
    "KO_porphirin_genes = (KO_P3HB_production-Basal_P3HB_production)/Basal_P3HB_production*100"
   ]
  },
  {
   "cell_type": "raw",
   "id": "fe14fe04",
   "metadata": {},
   "source": [
    "As we can see, this combination of KO is not compatible. Reason for that is unclear."
   ]
  },
  {
   "cell_type": "markdown",
   "id": "7a74ff18",
   "metadata": {},
   "source": [
    "## Ubiquinone and hemL KO (ubiD, ispB, ubiA, hemL):"
   ]
  },
  {
   "cell_type": "code",
   "execution_count": 18,
   "id": "346d6acc",
   "metadata": {},
   "outputs": [
    {
     "name": "stdout",
     "output_type": "stream",
     "text": [
      "Basal P3HB production:  2.74282\n",
      "KO P3HB production:  2.74879\n",
      "ubiD, ispB and ubiA KO generates a P3HB flux increase of:\n",
      "0.2176 %\n"
     ]
    }
   ],
   "source": [
    "with model:\n",
    "    \n",
    "    # We optimize for P3HB production:\n",
    "    r_phaC_exp = model.add_boundary(model.metabolites.get_by_id('P3HB_c'), type='sink')\n",
    "    model.objective = r_phaC_exp\n",
    "    Basal_P3HB_production = model.optimize().objective_value\n",
    "    print('Basal P3HB production: ', round(Basal_P3HB_production, 5))\n",
    "    \n",
    "    # we KO the 3 genes at the same time:\n",
    "    model.genes.b3843.knock_out()    # ubiD\n",
    "    model.genes.b3187.knock_out()    # ispB\n",
    "    model.genes.b4040.knock_out()    # ubiA\n",
    "    model.genes.b0154.knock_out()    # hemL\n",
    "    KO_P3HB_production = model.optimize().objective_value\n",
    "    print('KO P3HB production: ', round(KO_P3HB_production, 5))\n",
    "\n",
    "\n",
    "# We show Top 5 performing KO genes:\n",
    "print('ubiD, ispB and ubiA KO generates a P3HB flux increase of:')\n",
    "print(round((KO_P3HB_production-Basal_P3HB_production)/Basal_P3HB_production*100, 5), \"%\")\n",
    "KO_ubiquinone_hemL_genes = (KO_P3HB_production-Basal_P3HB_production)/Basal_P3HB_production*100"
   ]
  },
  {
   "cell_type": "code",
   "execution_count": 21,
   "id": "b9e06d72",
   "metadata": {},
   "outputs": [
    {
     "data": {
      "image/png": "[encoded data removed]",
      "text/plain": [
       "<Figure size 640x480 with 1 Axes>"
      ]
     },
     "metadata": {},
     "output_type": "display_data"
    }
   ],
   "source": [
    "# Example data\n",
    "KOs = ['hemL', 'ubiD', 'ispB', 'ubiA', 'cysG', 'ubiD, ispB, ubiA', 'hemL, cysG', 'ubiD, ispB, ubiA, hemL']\n",
    "values = [KO_hemL, KO_ubiD, KO_ispB, KO_ubiA, KO_cysG, KO_ubiquinone_genes, KO_porphirin_genes, KO_ubiquinone_hemL_genes]\n",
    "\n",
    "# Create a bar plot\n",
    "plt.bar(KOs, values, color='blue')\n",
    "plt.xticks(rotation=45, ha='right')\n",
    "\n",
    "plt.xlabel('Knock_Out')\n",
    "plt.ylabel('% of P3HB production increase')\n",
    "plt.title('Single and Combinatory KOs P3HB production increase')\n",
    "plt.show()"
   ]
  },
  {
   "cell_type": "markdown",
   "id": "6368d510",
   "metadata": {},
   "source": [
    "As we can see, little by little we manage to increase production. Although it seems marginal for the amount of laboratory work that this would suppose. \n",
    "\n",
    "The production increase is by no means liniar < f.e. P3HB(2KO) != 2xP3HB(1KO) > or additive < f.e.  P3HB(ubiD, ispB, ubiA, hemL) != P3HB(ubiD, ispB, ubiA) + P3HB(hemL) >. This suggests that, if had been possible, running a combinatorial algorithm to try all possible KO combinations for 2, 3, 4 or 5 genes would have likely resulted in combinations with even higher effect on P3HB production."
   ]
  }
 ],
 "metadata": {
  "kernelspec": {
   "display_name": "Python 3 (ipykernel)",
   "language": "python",
   "name": "python3"
  },
  "language_info": {
   "codemirror_mode": {
    "name": "ipython",
    "version": 3
   },
   "file_extension": ".py",
   "mimetype": "text/x-python",
   "name": "python",
   "nbconvert_exporter": "python",
   "pygments_lexer": "ipython3",
   "version": "3.9.12"
  }
 },
 "nbformat": 4,
 "nbformat_minor": 5
}

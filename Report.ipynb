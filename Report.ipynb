{
 "cells": [
  {
   "cell_type": "markdown",
   "id": "98bd8e29",
   "metadata": {},
   "source": [
    "# Biotin porduction in E. coli K12"
   ]
  },
  {
   "cell_type": "markdown",
   "id": "298555a0",
   "metadata": {},
   "source": [
    "## 1. Introduction"
   ]
  },
  {
   "cell_type": "markdown",
   "id": "280ef973",
   "metadata": {},
   "source": [
    "### 1.1 Literature review of the compound (<500 words)"
   ]
  },
  {
   "cell_type": "markdown",
   "id": "902fa23d",
   "metadata": {},
   "source": [
    "The newe text that we can add here + 1\n",
    "Hello this is just a test "
   ]
  },
  {
   "cell_type": "markdown",
   "id": "6ca663d7",
   "metadata": {},
   "source": [
    "### 1.2 Literature review of the cell factory (<500 words)"
   ]
  },
  {
   "cell_type": "markdown",
   "id": "dab79581",
   "metadata": {},
   "source": [
    "•\tGeneral advantages\n",
    "\n",
    "1.\tLow energy requirements\n",
    "\n",
    "2.\tIncreased output\n",
    "\n",
    "3.\tShorter lead time\n",
    "\n",
    "4.\tConsistent quality and purity of the product\n",
    "\n",
    "5.\tSustainability of product production\n",
    "\n",
    "6.\tPotentail customization of production\n",
    "\n",
    "•\tGeneral disadvantages\n",
    "\n",
    "1.\tDifficulties in maintaining in vitro cells in particular conditions\n",
    "\n",
    "2.\tSometimes the process is not profitable\n",
    "\n",
    "3.\tComplexity in establishing the proper proces\n",
    "\n",
    "4.\tRegulatory difficulties with related strains and its modifications\n",
    "\n",
    "•\tSuitability of the cell factory for the product\n",
    "\n",
    "The traditional method of biotin production involves chemical synthesis, which is energy-intensive and environmentally hazardous .\n",
    "In contrast, microbial cell factories offer a sustainable and eco-friendly alternative for biotin production.\n",
    "They are engineered microbes that can produce biotin in closed bioreactors with high efficiency, specificity, and low energy requirements .\n",
    "The use of cell factories for biotin production has several advantages over traditional methods.\n",
    "Firstly, it is a green and sustainable process that reduces the environmental impact of biotin production.\n",
    "Secondly, it offers higher productivity and improved quality control compared to chemical synthesis methods.\n",
    "Thirdly, it provides greater flexibility in terms of product customization and optimization.\n",
    "Finally, it is a cost-effective approach that reduces the overall production cost of biotin.\n"
   ]
  },
  {
   "cell_type": "markdown",
   "id": "bf9fba4c",
   "metadata": {},
   "source": [
    "## 2. Problem definition (<300 words)"
   ]
  },
  {
   "cell_type": "markdown",
   "id": "ce036303",
   "metadata": {},
   "source": [
    "## 3. *If Project category I:* Reconstruction of a new GSM for your cell factory host of interest (<1500 words)"
   ]
  },
  {
   "cell_type": "markdown",
   "id": "e9a6e086",
   "metadata": {},
   "source": [
    "or"
   ]
  },
  {
   "cell_type": "markdown",
   "id": "697c83f4",
   "metadata": {},
   "source": [
    "## 3. *If Project category II:* Selection and assessment of existing GSM (<500 words)"
   ]
  },
  {
   "cell_type": "markdown",
   "id": "5cd0bd45",
   "metadata": {},
   "source": [
    "## 4. Computer-Aided Cell Factory Engineering (<1500 words if Category II project; <500 words for Category I project)"
   ]
  },
  {
   "cell_type": "markdown",
   "id": "0755a46d",
   "metadata": {},
   "source": [
    "Import needed libreries"
   ]
  },
  {
   "cell_type": "code",
   "execution_count": 1,
   "id": "aa72a7c8",
   "metadata": {},
   "outputs": [
    {
     "name": "stderr",
     "output_type": "stream",
     "text": [
      "C:\\Users\\vfier\\AppData\\Local\\Temp\\ipykernel_22576\\281768124.py:6: MatplotlibDeprecationWarning: The seaborn styles shipped by Matplotlib are deprecated since 3.6, as they no longer correspond to the styles shipped by seaborn. However, they will remain available as 'seaborn-v0_8-<style>'. Alternatively, directly use the seaborn API instead.\n",
      "  plt.style.use('seaborn')\n"
     ]
    }
   ],
   "source": [
    "import pandas as pd\n",
    "import matplotlib.pyplot as plt\n",
    "import requests\n",
    "import os\n",
    "from cobra.io import read_sbml_model\n",
    "plt.style.use('seaborn')\n",
    "%matplotlib inline"
   ]
  },
  {
   "cell_type": "markdown",
   "id": "75a9d1a2",
   "metadata": {},
   "source": [
    "Read the model "
   ]
  },
  {
   "cell_type": "code",
   "execution_count": 4,
   "id": "c43ac6b4",
   "metadata": {},
   "outputs": [],
   "source": [
    "from cobra.io import read_sbml_model\n",
    "model = read_sbml_model('data/iML1515.xml')"
   ]
  },
  {
   "cell_type": "code",
   "execution_count": 2,
   "id": "3e22ca69",
   "metadata": {},
   "outputs": [
    {
     "name": "stdout",
     "output_type": "stream",
     "text": [
      "C:\\Users\\vfier\\Desktop\\DTU\\27410_Computer-aided Cell Factory\\Project\\group-assingment-team-3\n",
      "C:\\Users\\vfier\\Desktop\\DTU\\27410_Computer-aided Cell Factory\\Project\\group-assingment-team-3\\iML1515.xml\n"
     ]
    },
    {
     "ename": "CobraSBMLError",
     "evalue": "Something went wrong reading the SBML model. Most likely the SBML model is not valid. Please check that your model is valid using the `cobra.io.sbml.validate_sbml_model` function or via the online validator at https://sbml.org/validator_servlet/ .\n\t`(model, errors) = validate_sbml_model(filename)`\nIf the model is valid and cannot be read please open an issue at https://github.com/opencobra/cobrapy/issues .",
     "output_type": "error",
     "traceback": [
      "\u001b[1;31m---------------------------------------------------------------------------\u001b[0m",
      "\u001b[1;31mCobraSBMLError\u001b[0m                            Traceback (most recent call last)",
      "File \u001b[1;32m~\\anaconda3\\Lib\\site-packages\\cobra\\io\\sbml.py:458\u001b[0m, in \u001b[0;36mread_sbml_model\u001b[1;34m(filename, number, f_replace, **kwargs)\u001b[0m\n\u001b[0;32m    457\u001b[0m     doc \u001b[38;5;241m=\u001b[39m _get_doc_from_filename(filename)\n\u001b[1;32m--> 458\u001b[0m     \u001b[38;5;28;01mreturn\u001b[39;00m _sbml_to_model(doc, number\u001b[38;5;241m=\u001b[39mnumber, f_replace\u001b[38;5;241m=\u001b[39mf_replace, \u001b[38;5;241m*\u001b[39m\u001b[38;5;241m*\u001b[39mkwargs)\n\u001b[0;32m    459\u001b[0m \u001b[38;5;28;01mexcept\u001b[39;00m \u001b[38;5;167;01mIOError\u001b[39;00m \u001b[38;5;28;01mas\u001b[39;00m e:\n",
      "File \u001b[1;32m~\\anaconda3\\Lib\\site-packages\\cobra\\io\\sbml.py:563\u001b[0m, in \u001b[0;36m_sbml_to_model\u001b[1;34m(doc, number, f_replace, set_missing_bounds, **kwargs)\u001b[0m\n\u001b[0;32m    562\u001b[0m \u001b[38;5;28;01mif\u001b[39;00m model \u001b[38;5;129;01mis\u001b[39;00m \u001b[38;5;28;01mNone\u001b[39;00m:\n\u001b[1;32m--> 563\u001b[0m     \u001b[38;5;28;01mraise\u001b[39;00m CobraSBMLError(\u001b[38;5;124m\"\u001b[39m\u001b[38;5;124mNo SBML model detected in file.\u001b[39m\u001b[38;5;124m\"\u001b[39m)\n\u001b[0;32m    564\u001b[0m model_fbc: \u001b[38;5;124m\"\u001b[39m\u001b[38;5;124mlibsbml.FbcModelPlugin\u001b[39m\u001b[38;5;124m\"\u001b[39m \u001b[38;5;241m=\u001b[39m model\u001b[38;5;241m.\u001b[39mgetPlugin(\u001b[38;5;124m\"\u001b[39m\u001b[38;5;124mfbc\u001b[39m\u001b[38;5;124m\"\u001b[39m)\n",
      "\u001b[1;31mCobraSBMLError\u001b[0m: No SBML model detected in file.",
      "\nThe above exception was the direct cause of the following exception:\n",
      "\u001b[1;31mCobraSBMLError\u001b[0m                            Traceback (most recent call last)",
      "Cell \u001b[1;32mIn[2], line 8\u001b[0m\n\u001b[0;32m      6\u001b[0m \u001b[38;5;28mprint\u001b[39m(document_path)\n\u001b[0;32m      7\u001b[0m \u001b[38;5;66;03m#\u001b[39;00m\n\u001b[1;32m----> 8\u001b[0m model \u001b[38;5;241m=\u001b[39m read_sbml_model(\u001b[38;5;124m\"\u001b[39m\u001b[38;5;124mC:/Users/vfier/Desktop/DTU/27410_Computer-aided Cell Factory/Project/group-assingment-team-3/iML1515.xml\u001b[39m\u001b[38;5;124m\"\u001b[39m)\n",
      "File \u001b[1;32m~\\anaconda3\\Lib\\site-packages\\cobra\\io\\sbml.py:472\u001b[0m, in \u001b[0;36mread_sbml_model\u001b[1;34m(filename, number, f_replace, **kwargs)\u001b[0m\n\u001b[0;32m    462\u001b[0m \u001b[38;5;28;01mexcept\u001b[39;00m \u001b[38;5;167;01mException\u001b[39;00m \u001b[38;5;28;01mas\u001b[39;00m original_error:\n\u001b[0;32m    463\u001b[0m     cobra_error \u001b[38;5;241m=\u001b[39m CobraSBMLError(\n\u001b[0;32m    464\u001b[0m         \u001b[38;5;124m\"\u001b[39m\u001b[38;5;124mSomething went wrong reading the SBML model. Most likely the SBML\u001b[39m\u001b[38;5;124m\"\u001b[39m\n\u001b[0;32m    465\u001b[0m         \u001b[38;5;124m\"\u001b[39m\u001b[38;5;124m model is not valid. Please check that your model is valid using \u001b[39m\u001b[38;5;124m\"\u001b[39m\n\u001b[1;32m   (...)\u001b[0m\n\u001b[0;32m    470\u001b[0m         \u001b[38;5;124m\"\u001b[39m\u001b[38;5;124mat https://github.com/opencobra/cobrapy/issues .\u001b[39m\u001b[38;5;124m\"\u001b[39m\n\u001b[0;32m    471\u001b[0m     )\n\u001b[1;32m--> 472\u001b[0m     \u001b[38;5;28;01mraise\u001b[39;00m cobra_error \u001b[38;5;28;01mfrom\u001b[39;00m \u001b[38;5;21;01moriginal_error\u001b[39;00m\n",
      "\u001b[1;31mCobraSBMLError\u001b[0m: Something went wrong reading the SBML model. Most likely the SBML model is not valid. Please check that your model is valid using the `cobra.io.sbml.validate_sbml_model` function or via the online validator at https://sbml.org/validator_servlet/ .\n\t`(model, errors) = validate_sbml_model(filename)`\nIf the model is valid and cannot be read please open an issue at https://github.com/opencobra/cobrapy/issues ."
     ]
    }
   ],
   "source": [
    "current_directory=os.getcwd()\n",
    "print(current_directory)\n",
    "document_name= 'iML1515.xml'\n",
    "\n",
    "document_path = os.path.join(current_directory, document_name)\n",
    "print(document_path)\n",
    "#\n",
    "model = read_sbml_model(\"C:/Users/vfier/Desktop/DTU/27410_Computer-aided Cell Factory/Project/group-assingment-team-3/iML1515.xml\")\n",
    "#model = read_sbml_model(\"/iML1515\")\n"
   ]
  },
  {
   "cell_type": "markdown",
   "id": "6fb78946",
   "metadata": {},
   "source": [
    "## 5. Discussion (<500 words)"
   ]
  },
  {
   "cell_type": "markdown",
   "id": "30739dba",
   "metadata": {},
   "source": [
    "## 6. Conclusion (<200 words)"
   ]
  },
  {
   "cell_type": "markdown",
   "id": "fbbf34cc",
   "metadata": {},
   "source": [
    "## References"
   ]
  },
  {
   "cell_type": "code",
   "execution_count": null,
   "id": "539ef5ad",
   "metadata": {},
   "outputs": [],
   "source": []
  },
  {
   "cell_type": "code",
   "execution_count": null,
   "id": "42bbd2b9",
   "metadata": {},
   "outputs": [],
   "source": []
  }
 ],
 "metadata": {
  "kernelspec": {
   "display_name": "Python 3 (ipykernel)",
   "language": "python",
   "name": "python3"
  },
  "language_info": {
   "codemirror_mode": {
    "name": "ipython",
    "version": 3
   },
   "file_extension": ".py",
   "mimetype": "text/x-python",
   "name": "python",
   "nbconvert_exporter": "python",
   "pygments_lexer": "ipython3",
   "version": "3.11.4"
  }
 },
 "nbformat": 4,
 "nbformat_minor": 5
}

{
 "cells": [
  {
   "cell_type": "code",
   "execution_count": 65,
   "id": "78f1d7ca",
   "metadata": {},
   "outputs": [],
   "source": [
    "# First, we can import some functions so we can use the model\n",
    "from cobra.io import read_sbml_model, write_sbml_model\n",
    "from cobra import Reaction, Metabolite\n",
    "\n",
    "# Second, we can read the GEM and save it as ‘model’\n",
    "model = read_sbml_model('data/iML1515_het.xml')"
   ]
  },
  {
   "cell_type": "code",
   "execution_count": 76,
   "id": "90bec1f4",
   "metadata": {},
   "outputs": [
    {
     "name": "stdout",
     "output_type": "stream",
     "text": [
      "12.28313043478247\n",
      "12.28313043478247\n",
      "12.28313043478247\n",
      "Growth reduction is: 12.28313043478247\n"
     ]
    },
    {
     "name": "stderr",
     "output_type": "stream",
     "text": [
      "C:\\Users\\bierk\\anaconda3\\lib\\site-packages\\cobra\\util\\solver.py:554: UserWarning: Solver status is 'infeasible'.\n",
      "  warn(f\"Solver status is '{status}'.\", UserWarning)\n"
     ]
    }
   ],
   "source": [
    "#phaC\n",
    "with model:\n",
    "    r_phaC_exp = model.add_boundary(model.metabolites.get_by_id('P3HB_c'), type='demand')\n",
    "    model.objective = r_phaC_exp\n",
    "    solution = model.optimize()\n",
    "\n",
    "phaC_flux = solution.fluxes[\"DM_P3HB_c\"]\n",
    "print(phaC_flux)\n",
    "growth = solution.objective_value\n",
    "with model:\n",
    "    model.reactions.phaC.lower_bound = phaC_flux * 2\n",
    "    solution_overexpression = model.optimize()\n",
    "    growth_overexpression = solution_overexpression.objective_value\n",
    "    \n",
    "growth_reduction = growth - growth_overexpression\n",
    "print(growth)\n",
    "print(phaC_flux)\n",
    "print(f\"Growth reduction is: {growth_reduction}\")\n"
   ]
  },
  {
   "cell_type": "code",
   "execution_count": null,
   "id": "94e357bd",
   "metadata": {},
   "outputs": [],
   "source": [
    "solution = model.optimize()\n",
    "solution.objective_value #Biomass is the objective value by default"
   ]
  },
  {
   "cell_type": "code",
   "execution_count": 95,
   "id": "9677738b",
   "metadata": {},
   "outputs": [
    {
     "name": "stdout",
     "output_type": "stream",
     "text": [
      "0.7015977715415835 0.8769972144269793\n",
      "0.8769972144269795\n",
      "0.7015977715415835\n",
      "2.7428235294117687\n"
     ]
    }
   ],
   "source": [
    "with model:\n",
    "    max_growth = model.optimize().objective_value\n",
    "    min_growth = 0.8 * max_growth  \n",
    "    max_growth = 1.0 * max_growth  \n",
    "    print(min_growth, max_growth)\n",
    "    model.objective = model.reactions.get_by_id(\"BIOMASS_Ec_iML1515_core_75p37M\")\n",
    "    model.reactions.get_by_id(\"BIOMASS_Ec_iML1515_core_75p37M\").bounds = min_growth, max_growth\n",
    "    max_growth = model.optimize().objective_value\n",
    "    print(max_growth)\n",
    "    \n",
    "    r_phaC_exp = model.add_boundary(model.metabolites.get_by_id('P3HB_c'), type='sink')\n",
    "    model.objective = r_phaC_exp\n",
    "    print(model.reactions.BIOMASS_Ec_iML1515_core_75p37M.lower_bound)\n",
    "    produce_P3HB = model.optimize().objective_value\n",
    "\n",
    "print(produce_P3HB)\n"
   ]
  }
 ],
 "metadata": {
  "kernelspec": {
   "display_name": "Python 3 (ipykernel)",
   "language": "python",
   "name": "python3"
  },
  "language_info": {
   "codemirror_mode": {
    "name": "ipython",
    "version": 3
   },
   "file_extension": ".py",
   "mimetype": "text/x-python",
   "name": "python",
   "nbconvert_exporter": "python",
   "pygments_lexer": "ipython3",
   "version": "3.9.12"
  }
 },
 "nbformat": 4,
 "nbformat_minor": 5
}

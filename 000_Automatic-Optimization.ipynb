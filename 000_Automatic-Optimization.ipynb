{
 "cells": [
  {
   "cell_type": "code",
   "execution_count": null,
   "id": "d7f27730",
   "metadata": {},
   "outputs": [],
   "source": [
    "from cobra.io import read_sbml_model, write_sbml_model\n",
    "from cobra import Reaction, Metabolite"
   ]
  },
  {
   "cell_type": "code",
   "execution_count": null,
   "id": "5d13c39c",
   "metadata": {},
   "outputs": [],
   "source": [
    "model = read_sbml_model('data/iML1515_het.xml')\n",
    "\n",
    "model"
   ]
  },
  {
   "cell_type": "code",
   "execution_count": null,
   "id": "c1e0d23d",
   "metadata": {},
   "outputs": [],
   "source": [
    "# In this block, we are finding a list of the essential reactions and the non-essential reactions. \n",
    "# By looping over all reactions in the model and seeing whether they can grow, we can sort them into the two different lists\n",
    "\n",
    "#%%time\n",
    "\n",
    "essential = []\n",
    "non_essential = []\n",
    "\n",
    "for reaction in model.reactions:\n",
    "    with model:\n",
    "        reaction.knock_out()\n",
    "        if model.slim_optimize(error_value=0.) == 0.0:\n",
    "            essential.append(reaction)\n",
    "        else:\n",
    "            non_essential.append(reaction)"
   ]
  },
  {
   "cell_type": "code",
   "execution_count": null,
   "id": "362dc4e1",
   "metadata": {},
   "outputs": [],
   "source": [
    "# Following this, we can find the genes associated with all of the essential reactions\n",
    "\n",
    "#%%time\n",
    "ess = []\n",
    "for i in range (1,len(essential)):\n",
    "    for gene in list(essential[i].genes):\n",
    "        ess.append(gene)"
   ]
  },
  {
   "cell_type": "code",
   "execution_count": null,
   "id": "3d209383",
   "metadata": {},
   "outputs": [],
   "source": [
    "from cameo.strain_design import OptGene\n",
    "optgene = OptGene(model,essential_genes=essential)\n",
    "result = optgene.run(target=model.reactions.R07215,\n",
    "                     biomass=model.reactions.r_2111,\n",
    "                     substrate=model.reactions.r_1714,\n",
    "                     max_evaluations=5000,\n",
    "                     plot=False)"
   ]
  },
  {
   "cell_type": "code",
   "execution_count": null,
   "id": "0fe55eea",
   "metadata": {},
   "outputs": [],
   "source": []
  }
 ],
 "metadata": {
  "kernelspec": {
   "display_name": "Python 3 (ipykernel)",
   "language": "python",
   "name": "python3"
  },
  "language_info": {
   "codemirror_mode": {
    "name": "ipython",
    "version": 3
   },
   "file_extension": ".py",
   "mimetype": "text/x-python",
   "name": "python",
   "nbconvert_exporter": "python",
   "pygments_lexer": "ipython3",
   "version": "3.7.16"
  }
 },
 "nbformat": 4,
 "nbformat_minor": 5
}

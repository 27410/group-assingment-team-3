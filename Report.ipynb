{
 "cells": [
  {
   "cell_type": "markdown",
   "id": "98bd8e29",
   "metadata": {},
   "source": [
    "# Bioplastic porduction in E. coli K12"
   ]
  },
  {
   "cell_type": "markdown",
   "id": "29b3670d",
   "metadata": {},
   "source": [
    "#### Authors: (group 03)\n",
    "- Grzegorz Adam (s230229)\n",
    "- Carlos Bierkens (s223202)\n",
    "- Víctor Fiérrez (s223196)\n",
    "- Laia Vila (s222711)"
   ]
  },
  {
   "cell_type": "markdown",
   "id": "298555a0",
   "metadata": {},
   "source": [
    "## 1. Introduction"
   ]
  },
  {
   "cell_type": "markdown",
   "id": "280ef973",
   "metadata": {},
   "source": [
    "### 1.1 Literature review of the compound (<500 words)"
   ]
  },
  {
   "cell_type": "markdown",
   "id": "09bbd0bb",
   "metadata": {},
   "source": [
    "#### Applications of the product\n",
    "\n",
    "The proposed product in this project is Poly(3-hydroxybutyrate), also known as P3HB. It is one of the most studied and characterized microbial biopolymers from the family of polyhydroxyalkanoates (PHAs) (Alves et al. 2017). Microorganisms synthesize it as intracellular organic inclusions serving as energy storage (Perret et al. 2019). P3HB is a natural polymer and a biodegradable aliphatic homopolymer composed of monomers of four carbon atoms (Alves et al. 2017).\n",
    "\n",
    "P3HB possesses a structure similar to polypropylene, making it insoluble in water. It offers a similar high-melting temperature and shear stress while also possessing high crystallinity. Its distinctive ability from other biodegradable plastics is hydrolytic degradation, making it less sensitive to light, moisture, or water solubility (Alves et al. 2017).\n",
    "\n",
    "Currently, Poly(3-hydroxybutyrate) is commercially implemented as a biodegradable and/or biocompatible material for biomedical, pharmaceutical, and packaging applications (Tang et al. 2018). This green thermoplastic is widely used for medical implants, food packing, and is currently tested to be possibly implemented in drug delivery systems.\n",
    "\n",
    "#### Evaluation of market potential\n",
    "\n",
    "The compound annual growth rate (CAGR) of the polyhydroxyalkanoate (PHA) market size is expected to grow from 32.14 kilotons in 2023 to 92.41 kilotons by 2028, at a rate of 23.52% during the forecast period (2023-2028) (Polyhydroxyalkanoate Market 2023). This is an improvement over prior global PHA market analysis, which indicated that the estimated CAGR for the period of 2020-2025 was 14.2% (Global PHA market 2020). \n",
    "\n",
    "Currently, several companies are committed to the production of PHA and its copolymers, at pilot and industrial scale. The biggest companies are located in China, where companies such as the Tian company, GreenBio-DSM, and the Tianzhu company are producing annually around 50,000 tons per year of different P3HB copolymers (Alves et al. 2017). \n",
    "\n",
    "It is expected that the most promising and biggest market for PHA will be Europe, due to its strict government laws against single-use plastic and increasing concerns over human health and safety being the key driving factors responsible for the market growth in that region (Global PHA market 2020).\n",
    "\n",
    "#### Biosynthetic pathway/gene\n",
    "\n",
    "The biosynthetic pathway of Poly(3-hydroxybutyrate) involves enzymatic steps through smaller pathways to synthesize P3HB from acetate. The phospotransacetylase/acetate kinase pathway (pta-ackA pathway) or AMP-forming acetyl CoaA synthetase (acs pathway) is the first element. In it, the precursor acetate is transformed accordingly, first to acetyl-1-P and then to acetyl-CoA in the pta-ackA pathway or directly to acetyl-CoA, if we follow the acs pathway. During the pta-ackA pathway, only one molecule of ATP is consumed during acetyl-CoA synthesis; otherwise, in the acs pathway, two molecules of ATP are required. The next element is the transition of acetyl-CoA to acetoacetyl-CoA by the expression of acetate kinase (phaA) gene. The third step is mediated by β-ketiolase (pha-B), where acetoacetyl-CoA is transformed into 3-hydroxybutyryl-CoA. The last step is performed by acetyl-CoA reductase (phaC), where 3-hydroxybutyryl-CoA is converted into P3HB (Chen et al. 2018). The whole biosynthetic pathway of P3HB can be seen in the following [(Figure 1)](./data/P3HB_route.png).![P3HB PRODUCTION](./data/P3HB_route.png)\n",
    "**Figure. 1**: P3HB, P3HB4HB, and PHBV synthesis pathway in engineered Escherichia coli. Genes: acs, acetyl-CoA synthetase; pta, phosphotransacetylase; ackA, acetate kinase; phaA, β-ketothiolase; phaB, acetoacetyl-CoA reductase; phaC, PHA synthase; sucD, succinate semialdehyde dehydrogenase; 4hbD, 4-hydroxybutyrate dehydrogenase; orfZ, 4-hydroxybutyryl-CoA:CoA transferase; sad and gabD, succinate semialdehyde dehydrogenase of E. coli; pct, propionyl-CoA transferase; prpP, propionate permease. The reactions and intermediates shown in green are associated with 3HB precursor biosynthesis, those in gold with 4HB precursor biosynthesis, those in purple with 3HV precursor biosynthesis, and those in blue with acetate assimilation and TCA cycle"
   ]
  },
  {
   "cell_type": "markdown",
   "id": "6ca663d7",
   "metadata": {},
   "source": [
    "### 1.2 Literature review of the cell factory (<500 words)"
   ]
  },
  {
   "cell_type": "markdown",
   "id": "dab79581",
   "metadata": {},
   "source": [
    "#### The cell factory used in this report: Escherichia coli\n",
    "Escherichia Coli is a rod shaped Gram-negative proteobacterium, whose size is measuring a few microns in length and 0.5 µm wide (Neidhart et al. 2017).  It has 4377 genes witch are contained on a single circular, double-stranded DNA molecule tightly packed within the cytosol in the cell.  This strain was originally isolated 100 years ago in 1922 from a convalescent diphtheria and later in the 1940s, adopted by Charles Clifton and Edward Tatum as a model organism (Browning et al. 2023). It is classified in Group 1 of Risk in terms of biosafety guidelines.It is exceslively used in molecular biology research and in a large numer of industrial applications, including the production of specialty chemicals (e.g. L-aspartic, inosinic , and adelynic acid) and human drugs such as insulina somatostatic (Risk assesment of E.coli K12 1997). \n",
    "#### General advantages\n",
    "The advantage of suggest cell factory is the fact of well-known molecular pathway inside cells. E. Coli  can be rapidly grown in simple medium, as they have really simple nutrition requirements and also the short generation time ranging between 15 and 20 minutes (Acheson et al. 2011), makes E. Coli greatly suitable to perform several processes on them. Relatively small genome, which ranges about 5k bp is a huge advantage, as making it easier to actually fully understand the underlaying processes inside the cel (Riley et al. 2006).  General knowledge related to possible mutations techniques, which could be used on E. coli, makes it a great starting point for possible tools, that could be used in the proces. \n",
    "#### General disadvantages\n",
    "General disadvatange related to the use of suggested cell factory is the production of endotoxins (lipopolysacharides), which could be difficult to purified from in downstream proces (Riley et al. 2006). The other limitation is not enough numer of secretory pathways, making it harder to actually obtained the desired product during production proces (Riley et al. 2006).\n"
   ]
  },
  {
   "cell_type": "markdown",
   "id": "bf9fba4c",
   "metadata": {},
   "source": [
    "## 2. Problem definition (<300 words)"
   ]
  },
  {
   "cell_type": "markdown",
   "id": "88e23f12",
   "metadata": {},
   "source": [
    "Currently Poly(3-hydroksybutyrate) is produced mainly with the use of Azotobacter vinelandii (Gomez-Hernandez et al. 2021). The current cost of production of P3HB can range from 4.1-6.8 dollars per kg (Levette et al. 2016) to 15.4-18.7 dollars per kg (Listewnik et al. 2016), making it still costly substitute for currently used plastics.\n",
    "\n",
    "In this project, we will focus on engineering E. coli to produce a P3HB. Our final goal is to achieve on optimized biomass production with industrially efficient yield, which could be an economical competitor for currently used methods in production of P3HB.\n"
   ]
  },
  {
   "cell_type": "markdown",
   "id": "697c83f4",
   "metadata": {},
   "source": [
    "## 3. Selection and assessment of existing GSM (<500 words)"
   ]
  },
  {
   "cell_type": "markdown",
   "id": "3a86c107",
   "metadata": {},
   "source": [
    "Currently there are a lot of industrially used strain of Escherichia Coli, and some of the most common ones are K-12, which is used in production of insulin and somatostatin (Risk assesment E.Coli K-12), and BL21, which is used for membranę proteins production (Zhang et al. 2015). In this report we will choose a K-12 strain. There were choosen four GSMs. All of them will be evaluated using Memote (Lieven et al. 2020) to determine which option will be the most suitable. \n",
    "\n",
    "The taken GSM is iAF1260, which covers a total numer of metabolites at 1668, total numer of reactions at 2382 and total numer of genes at 1261.\n",
    "\n",
    "All of the given models obtain the same same level of quality, ranging around 91 %, from memote analysis. xxxx\n",
    "\n"
   ]
  },
  {
   "cell_type": "markdown",
   "id": "5cd0bd45",
   "metadata": {},
   "source": [
    "## 4. Computer-Aided Cell Factory Engineering (<1500 words)"
   ]
  },
  {
   "cell_type": "markdown",
   "id": "032c662e",
   "metadata": {},
   "source": [
    "Not all reactions required for P3HB production are homologous to the chosen model. The initial engineering step involves incorporating these reactions into the model to facilitate exploratory analysis and enable subsequent modifications."
   ]
  },
  {
   "cell_type": "markdown",
   "id": "ef344d20",
   "metadata": {},
   "source": [
    "### 4.1. Addition of the heterologous reaction"
   ]
  },
  {
   "cell_type": "markdown",
   "id": "ac1757dd",
   "metadata": {},
   "source": [
    "It appears that, based on your literature research, P3HB monomers can be synthesized from the universal precursor acetyl-CoA through a series of three reactions facilitated by the genes phaA, phaB, and phaC. For the sake of simplification, the current report often treats P3HB monomers and the polymer as interchangeable entities. [(Figure 1)](./data/P3HB_route.png)"
   ]
  },
  {
   "cell_type": "markdown",
   "id": "0755a46d",
   "metadata": {},
   "source": [
    "The selected model includes all the necessary reactions except the one responsible for converting 3-hydroxybutyryl-CoA to P3HB. This final reaction has been manually added as outlined [01_Heterologous_Pathway](01_Heterologous_Pathway.ipynb)."
   ]
  },
  {
   "cell_type": "markdown",
   "id": "65d6d6fb",
   "metadata": {},
   "source": [
    "Following the initial manipulation of the model, the pertinent reactions and metabolites can be identified, as presented in the tables below."
   ]
  },
  {
   "cell_type": "markdown",
   "id": "d1b906ca",
   "metadata": {},
   "source": [
    "| Metabolite identifier | Name | Formula |\n",
    "|----------|----------|----------|\n",
    "| accoa_c  | Acetyl-CoA  | C23H34N7O17P3S |\n",
    "| aacoa_c  | Acetoacetyl-CoA  | C25H36N7O18P3S  |\n",
    "| 3hbcoa_c  | (S)-3-Hydroxybutanoyl-CoA  | C25H38N7O18P3S |\n",
    "| P3HB_c  | poly-3-Hydroxybutanoate  | C40H62O21  |"
   ]
  },
  {
   "cell_type": "markdown",
   "id": "3bd78857",
   "metadata": {},
   "source": [
    "| Reaction identifier | Name | Stoichiometry |\n",
    "|----------|----------|----------|\n",
    "| ACACT1r  | Acetyl-CoA C-acetyltransferase  | 2.0 Acetyl-CoA <=> Acetoacetyl-CoA + Coenzyme A |\n",
    "| HACD1 | 3-hydroxyacyl-CoA dehydrogenase (acetoacetyl-CoA)  | Acetoacetyl-CoA + H+ + Nicotinamide adenine dinucleotide - reduced <=> (S)-3-Hydroxybutanoyl-CoA + Nicotinamide adenine dinucleotide |\n",
    "| phaC  | 3-Hydroxybutyryl-CoA: P3HB polymerization  | 10 (S)-3-Hydroxybutanoyl-CoA --> poly-3-Hydroxybutanoate + 10 Coenzyme A \n",
    "\n"
   ]
  },
  {
   "cell_type": "markdown",
   "id": "9d2c220c",
   "metadata": {},
   "source": [
    "This model is saved as iML1515_het.xml and can be found in the \"data/\" folder of the repository."
   ]
  },
  {
   "cell_type": "markdown",
   "id": "4e610ddc",
   "metadata": {},
   "source": [
    "The preliminary exploratory analysis of the new heterologous method reveals a maximum P3HB production rate of 1.25 mmol gDW^-1 h^-1 and a theoretical maximum yield of 0.125 mmol P3HB per mmol glucose. Additionally, a phenotype phase plane (PPP) plot for P3HB was generated to analyze the optimal point where both the biomass yield and the highest production of P3HB converge. The [PPP plot](data/PPP_plot.png) provides a visual representation of the trade-off between these two objectives, helping identify the 'sweet spot' where the model achieves an optimal balance between robust biomass yield and enhanced P3HB production. This graphical analysis aids in pinpointing strategic points for further exploration and optimization in the heterologous method. "
   ]
  },
  {
   "cell_type": "markdown",
   "id": "6a5e3ab6",
   "metadata": {},
   "source": [
    "Based on our analysis, we have chosen to use the intersection of both trends as our reference point. Upon calculating the biomass value at this intersection, we find that the total biomass corresponds to 78% of the maximal biomass point. Consequently, moving forward, we will employ this 78% value as the reference for setting the lower bound on biomass growth. This strategic decision aims to restrict the reduction in biomass production that the model can enact, ensuring a balanced approach that prioritizes increased P3HB production without compromising overall cellular growth. For more details on how the PPP was built, click here: [02_Model_Exploration_(Base_Yields_and_PPP)](02_Model_Exploration_(Base_Yields_and_PPP).ipynb)."
   ]
  },
  {
   "cell_type": "markdown",
   "id": "1e0fd7d4",
   "metadata": {},
   "source": [
    "![PPP](data/PPP_plot.png)\n",
    "**Figure. 2**: PPP plot"
   ]
  },
  {
   "cell_type": "markdown",
   "id": "ccdf7204",
   "metadata": {},
   "source": [
    "### 4.2 Overexpresion and knock-outs"
   ]
  },
  {
   "cell_type": "markdown",
   "id": "3f97e8bf",
   "metadata": {},
   "source": [
    "Various approaches can be employed to determine the selection of genes for overexpression or knockout. Faced with challenges in implementing automated model optimization due to unsuccessful installation of Cameo, alternative strategies have been developed. These include manual coding methodologies and a thorough review of existing literature to identify genes suitable for overexpression. Additionally, iterative processes involving loops have been implemented to evaluate and detect optimal candidates for gene knockout."
   ]
  },
  {
   "cell_type": "markdown",
   "id": "1b276155",
   "metadata": {},
   "source": [
    "We opted to initially focus on developing an overexpression strategy. To do this, our first step involved examining the turnover rates of various enzymes involved in the production of product to identify any potential bottlenecks in the process. We found that acetyl-CoA C-acetyltransferase (EC 2.3.1.9) was significantly lower with a value of 6.5 1/s per mg of protein. You can find more details in [03_Overexpression](03_Overexpression.ipynb). After overexpression of acetyl-CoA C-acetyltransferase, we observed a growth reduction of 4.01 and a flux through the targeted enzyme of 0.1495. Additionally, we observed by protting the growth reduction over the overexpression factor that there is a tradeoff between overexpressing the gene and a reduction in growth."
   ]
  },
  {
   "cell_type": "markdown",
   "id": "d69c84ff",
   "metadata": {},
   "source": [
    "After a thorough review of the literature, we identified acetate as a suitable feedstock for bioplastics production due to its non-competitive nature with food sources, unlike other substrates such as glucose. Previous reports suggest that the overexpression of acetate uptake genes, such as ackA and pta, can enhance carbon utilization, leading to improved yields and productivities. As a result, our second overexpression strategy focused on incorporating these genes, which are homologous to the selected model. Find in the following details the targeted reactions and metabolites."
   ]
  },
  {
   "cell_type": "markdown",
   "id": "f4be31d4",
   "metadata": {},
   "source": [
    "| Metabolite identifier | Name | Formula |\n",
    "|----------|----------|----------|\n",
    "| ac_c  | Acetate  | C2H3O2 |\n",
    "| actp_c   | Acetyl phosphate  | C2H3O5P  |\n",
    "| accoa_c  | Acetyl-CoA  | C23H34N7O17P3S |"
   ]
  },
  {
   "cell_type": "markdown",
   "id": "9cb17f86",
   "metadata": {},
   "source": [
    "| Reaction identifier | Name | Stoichiometry |\n",
    "|----------|----------|----------|\n",
    "| ACKr  | Acetate kinase  | ac_c + atp_c <=> actp_c + adp_c |\n",
    "| PTAr | Phosphotransacetylase  | accoa_c + pi_c <=> actp_c + coa_c |\n",
    "| phaA  | Acetyl-CoA C-acetyltransferase  | 2.0 accoa_c <=> aacoa_c + coa_c\n"
   ]
  },
  {
   "cell_type": "markdown",
   "id": "a204c37a",
   "metadata": {},
   "source": [
    "Similar to the previous overexpression strategy, we first investigated which enzyme had the lowest turnover number. Phosphate acetyltransferase turns out to have the lowest value at 29.6 1/s. Therefore, overexpressing PTAr can potentially alleviate the bottleneck and increase the overall flux through the pathway, leading to higher production of the desired product. After overexpression, we observed no growth reduction and an overexpressed flux of 20.2446. We observed no growth reduction with an increase of overexpression factor."
   ]
  },
  {
   "cell_type": "markdown",
   "id": "13f71573",
   "metadata": {},
   "source": [
    "As a last approach, a combination of both overexpression strategies was conducted. As a result, the growth was reduced by 4% and fluxes involved in the acetate uptake and P3HB production were both increased by two-fold, identically to what had been seen previously. You can see a comparison of the fluxes yielded by the three strategies in [Figure 3](data/OV_comparison.png). We decided to not proceed with the third strategy as we don't believe it is a good representation of what would happen in reality. ![Figure 3](data/OV_comparison.png)\n",
    "**Fig. 3**: Where O1 is the first strategy (OV of pha pathway), O2 is the second strategy (OV of acetate uptake genes) and O3 is the third strategy which combines O1 and O2."
   ]
  },
  {
   "cell_type": "markdown",
   "id": "0d462b52",
   "metadata": {},
   "source": [
    "In addition to our overexpression strategy, we also explored knockouts. Since automatic strategies were not accessible to us due to difficulties in installing some packages, the model was run through a loop that systematically knocked out each gene one by one, and those with the highest improvements were stored. They were assessed based on P3HB production and the highest scoring knock outs where:"
   ]
  },
  {
   "cell_type": "markdown",
   "id": "146024e2",
   "metadata": {},
   "source": [
    "| Gene (key) | P3HB production increase | \n",
    "|----------|----------|\n",
    "|hemL (b0154)| 0.010012% |\n",
    "|ubiD (b3843)| 0.010009% |\n",
    "|ispB (b3187)| 0.010009% |\n",
    "|ubiA (b4040)| 0.010009% |\n",
    "|cysG (b3368)| 0.010007% |"
   ]
  },
  {
   "cell_type": "markdown",
   "id": "156f0e03",
   "metadata": {},
   "source": [
    "After looking into the reactions these genes were involved in, we found that the top scoring genes where involved in the following pathways:\n",
    "- **Cofactor biosynthesis;** adenosylcobalamin biosynthesis; precorrin-2 from uroporphyrinogen III.\n",
    "- **Cofactor biosynthesis;** adenosylcobalamin biosynthesis; sirohydrochlorin from precorrin-2.\n",
    "- **Porphyrin-containing compound metabolism;** siroheme biosynthesis; precorrin-2 from uroporphyrinogen III.\n",
    "- **Porphyrin-containing compound metabolism;** siroheme biosynthesis; siroheme from sirohydrochlorin.\n",
    "- **Porphyrin-containing compound metabolism;** siroheme biosynthesis; sirohydrochlorin from precorrin-2.\n",
    "Given the limited improvements observed with individual knockouts on productivity, we opted to combine certain knockouts to assess the potential for achieving higher improvements. A graphical representation can be found below [(Figure 4)](data/Combinatory_KO.png) and more details about the code can be accesed in [04_Knock-Outs](04_Knock-Outs.ipynb)."
   ]
  },
  {
   "cell_type": "markdown",
   "id": "62b425cd",
   "metadata": {},
   "source": [
    "![PPP](data/Combinatory_KO.png)**Fig. 4**: Graphical representation of the improvement in % of each knock out scenario."
   ]
  },
  {
   "cell_type": "markdown",
   "id": "a6c2a686",
   "metadata": {},
   "source": [
    "### 4.3 Carbon Source Optimisation"
   ]
  },
  {
   "cell_type": "markdown",
   "id": "e2fb92b3",
   "metadata": {},
   "source": [
    "Media optimization is crucial as it fine-tunes nutrient composition to enhance microbial performance. By systematically adjusting media components, such as carbon and nitrogen sources, the model predicts optimal conditions for desired outcomes, maximizing productivity or yield. This is of special importance in this report, as we have tested an overexpression strategy to change the carbon source from glucose to acetate. In this section, we analyzed yields, productivity, and flux distributions for growth on glucose, acetate, and glycerol. These analysis are done with the model before the overexpression strategies.\n",
    "[Figure 5](data/TheoreticalYield_cmole.png) shows the theoretical yields for P3HB production on different carbon sources. More details can be found in [05_Carbon_Source_Optimization](05_Carbon_Source_Optimization.ipynb).\n",
    "![Figure 5](data/TheoreticalYield_cmole.png)"
   ]
  },
  {
   "cell_type": "markdown",
   "id": "c359b2ac",
   "metadata": {},
   "source": [
    "To gain a deeper understanding of how the model responds to alterations in the media, we conducted Variable Flux Analysis (FVA) [(06_FVA)](06_FVA.ipynb).. During this analysis, we compared the growth patterns on glucose and acetate, identifying the top 10 flux differences, which are presented in the table.\n",
    "\n",
    "\n",
    "| Reaction ID | Reaction stochiometry | Flux Difference |\n",
    "|-------------|------------------------|------------------|\n",
    "| ATPS4rpp    | adp_c + 4.0 h_p + pi_c <=> atp_c + h2... | -37.924311 |\n",
    "| EX_h2o_e    | h2o_e <=> | -34.265553 |\n",
    "| H2Otex      | h2o_e <=> h2o_p | 30.237833 |\n",
    "| H2Otpp      | h2o_p <=> h2o_c | 30.237833 |\n",
    "| FRD2        | fum_c + mql8_c --> mqn8_c + succ_c | -23.272483 |\n",
    "| NADH16pp    | 4.0 h_c + nadh_c + q8_c --> 3.0 h_p +... | -23.050357 |\n",
    "| NADH18pp    | 2dmmq8_c + 4.0 h_c + nadh_c --> 2dmmq... | -23.050357 |\n",
    "| FRD3        | 2dmmql8_c + fum_c --> 2dmmq8_c + succ_c | -23.050357 |\n",
    "| NADH17pp    | 4.0 h_c + mqn8_c + nadh_c --> 3.0 h_p... | -23.050357 |\n",
    "| SUCDi       | q8_c + succ_c --> fum_c + q8h2_c | -22.404552 |\n",
    "\n",
    "Within the list on top of reactions affected by the usage of acetate on the media, we have 5 types of reactions:\n",
    "1. **ATP synthase:**\n",
    "   - Function: Catalyzes the synthesis of ATP from ADP.\n",
    "   - Possible Reduction: Due to changes in the availability of NADH or FADH2 coming from the metabolism of acetate or glucose.\n",
    "\n",
    "2. **H2O exchange and H2O transport via diffusion:**\n",
    "   - Function: Exchange and diffusion of water.\n",
    "   - Possible Reduction: Changes in the carbon source may affect ion transport and energy metabolism.\n",
    "\n",
    "3. **Fumarate reductase:**\n",
    "   - Function: Catalyzes the conversion of fumarate to succinate in the electron transport chain.\n",
    "   - Possible Reduction: The reduction may be associated with the availability of electron donors and acceptors in the ETC when using acetate.\n",
    "\n",
    "4. **NADH dehydrogenase:**\n",
    "   - Function: Enzymes involved in the transfer of electrons from NADH to the ETC, generating the proton gradient.\n",
    "   - Possible Reduction: Flux reduction may be due to the availability of NADH and/or specific electron carriers.\n",
    "\n",
    "5. **Succinate dehydrogenase:**\n",
    "   - Function: Catalyzes the conversion of succinate to fumarate in the TCA cycle. Also participates in the ETC.\n",
    "   - Possible Reduction: A lower flux might be due to alterations in the TCA cycle activity, mainly because of the usage of a different carbon source (less efficient in this case).\n"
   ]
  },
  {
   "cell_type": "markdown",
   "id": "6fb78946",
   "metadata": {},
   "source": [
    "## 5. Discussion (<500 words)"
   ]
  },
  {
   "cell_type": "markdown",
   "id": "15621478",
   "metadata": {},
   "source": [
    "- Gene Regulation\n",
    "- Kinetics\n",
    "- Toxicity of substrate/Products\n",
    "- Fluxes are per amount of biomass (1.5 flux at 0.8 biomass is more in amount than 1.5 at 0.5 biomass) Laia\n",
    "- Next steps, continue on combinatory strategies"
   ]
  },
  {
   "cell_type": "markdown",
   "id": "30739dba",
   "metadata": {},
   "source": [
    "## 6. Conclusion (<200 words)"
   ]
  },
  {
   "cell_type": "markdown",
   "id": "0cda93c9",
   "metadata": {},
   "source": [
    "Several conclusions can be extracted from this project:\n",
    "- GSM are far from reality, and still need a lot of data integrated like gene regulation, enzyme kinetics or compound toxicity.\n",
    "- Escherichia coli already contains most of the necessary genes to produce bioplastic apart from phaC gene encoding for the polymerizing enzyme. \n",
    "- There is a trade-off between the production of bioplastic and biomass generation. The optimal point where both productions are maximized is at 78% of maximal biomass production. \n",
    "- When overexpressing the pha pathway genes by 2-fold, there is a growth reduction of 4%, which is acceptable considering the 78% biomass limit. \n",
    "- There is no observable biomass reduction when expressing the acetate uptake genes by 2-fold. \n",
    "- The combination of overexpression strategies yields an addition of consequences due to the model being purely stoquiometrically based.\n",
    "- The knockouts with the highest impact on bioplastic production are related to porphyrin and ubiquinone metabolism. \n",
    "- Combination of knockouts do not yield linear consequences, we observe a synergy between the KO of some genes. \n",
    "- Bioplastic production yield on acetate is slightly lower than on glucose but much higher than on glycerol and can be considered as a strategy for bioplastic production on more sustainable carbon sources.\n",
    "- There is a big change in the metabolism of E. coli when growing on acetate or glucose and this can be seen by FVA. \n",
    "\n",
    "None of the approaches we have tried on this project have yielded enough bioplastic production for us to think there is the possibility to compete against the standard of bioplastic production or oil-based plastics."
   ]
  },
  {
   "cell_type": "markdown",
   "id": "fbbf34cc",
   "metadata": {},
   "source": [
    "## References"
   ]
  },
  {
   "cell_type": "code",
   "execution_count": null,
   "id": "539ef5ad",
   "metadata": {},
   "outputs": [],
   "source": []
  }
 ],
 "metadata": {
  "kernelspec": {
   "display_name": "Python 3 (ipykernel)",
   "language": "python",
   "name": "python3"
  },
  "language_info": {
   "codemirror_mode": {
    "name": "ipython",
    "version": 3
   },
   "file_extension": ".py",
   "mimetype": "text/x-python",
   "name": "python",
   "nbconvert_exporter": "python",
   "pygments_lexer": "ipython3",
   "version": "3.11.4"
  }
 },
 "nbformat": 4,
 "nbformat_minor": 5
}

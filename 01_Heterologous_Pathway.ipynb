{
 "cells": [
  {
   "cell_type": "markdown",
   "id": "7bf75081",
   "metadata": {},
   "source": [
    "We read model:"
   ]
  },
  {
   "cell_type": "code",
   "execution_count": 21,
   "id": "99bdc09e",
   "metadata": {},
   "outputs": [
    {
     "data": {
      "text/html": [
       "\n",
       "        <table>\n",
       "            <tr>\n",
       "                <td><strong>Name</strong></td>\n",
       "                <td>iML1515</td>\n",
       "            </tr><tr>\n",
       "                <td><strong>Memory address</strong></td>\n",
       "                <td>281184d9f90</td>\n",
       "            </tr><tr>\n",
       "                <td><strong>Number of metabolites</strong></td>\n",
       "                <td>1877</td>\n",
       "            </tr><tr>\n",
       "                <td><strong>Number of reactions</strong></td>\n",
       "                <td>2712</td>\n",
       "            </tr><tr>\n",
       "                <td><strong>Number of genes</strong></td>\n",
       "                <td>1516</td>\n",
       "            </tr><tr>\n",
       "                <td><strong>Number of groups</strong></td>\n",
       "                <td>0</td>\n",
       "            </tr><tr>\n",
       "                <td><strong>Objective expression</strong></td>\n",
       "                <td>1.0*BIOMASS_Ec_iML1515_core_75p37M - 1.0*BIOMASS_Ec_iML1515_core_75p37M_reverse_35685</td>\n",
       "            </tr><tr>\n",
       "                <td><strong>Compartments</strong></td>\n",
       "                <td>cytosol, extracellular space, periplasm</td>\n",
       "            </tr>\n",
       "          </table>"
      ],
      "text/plain": [
       "<Model iML1515 at 0x281184d9f90>"
      ]
     },
     "execution_count": 21,
     "metadata": {},
     "output_type": "execute_result"
    }
   ],
   "source": [
    "# First, we can import some functions so we can use the model\n",
    "from cobra.io import read_sbml_model, write_sbml_model\n",
    "from cobra import Reaction, Metabolite\n",
    "\n",
    "# Second, we can read the GEM and save it as ‘model’\n",
    "model = read_sbml_model('data/iML1515.xml')\n",
    "\n",
    "# Third, we can show general information about the loaded model\n",
    "model"
   ]
  },
  {
   "cell_type": "markdown",
   "id": "42daf0f0",
   "metadata": {},
   "source": [
    "We add reactions and metabolites:"
   ]
  },
  {
   "cell_type": "code",
   "execution_count": 22,
   "id": "944c5d7f",
   "metadata": {
    "scrolled": true
   },
   "outputs": [
    {
     "name": "stdout",
     "output_type": "stream",
     "text": [
      "Acetate ac_c\n",
      "Acetate ac_e\n",
      "Acetate ac_p\n",
      "Acetyl-CoA accoa_c\n",
      "Acetoacetyl-CoA aacoa_c\n",
      "Acetyl-CoA synthetase ACS: ac_c + atp_c + coa_c --> accoa_c + amp_c + ppi_c\n",
      "Acetyl-CoA carboxylase ACCOAC: accoa_c + atp_c + hco3_c --> adp_c + h_c + malcoa_c + pi_c\n",
      "Acetyl-CoA:acetoacetyl-CoA transferase ACACCT: acac_c + accoa_c --> aacoa_c + ac_c\n",
      "Acetyl-CoA:butyrate-CoA transferase BUTCT: accoa_c + but_c --> ac_c + btcoa_c\n",
      "Acetyl-CoA ACP transacylase ACOATA: ACP_c + accoa_c <=> acACP_c + coa_c\n",
      "Acetyl-CoA C-acyltransferase (tetradecanoyl-CoA) (r) ACACT7r: accoa_c + tdcoa_c <=> 3ohdcoa_c + coa_c\n",
      "Acetyl-CoA C-acyltransferase (butanoyl-CoA) (r) ACACT2r: accoa_c + btcoa_c <=> 3ohcoa_c + coa_c\n",
      "Acetyl-CoA C-acyltransferase (hexanoyl-CoA) (r) ACACT3r: accoa_c + hxcoa_c <=> 3oocoa_c + coa_c\n",
      "Acetyl-CoA C-acyltransferase (octanoyl-CoA) (r) ACACT4r: accoa_c + occoa_c <=> 3odcoa_c + coa_c\n",
      "Acetyl-CoA C-acyltransferase (decanoyl-CoA) (r) ACACT5r: accoa_c + dcacoa_c <=> 3oddcoa_c + coa_c\n",
      "Acetyl-CoA C-acyltransferase (dodecanoyl-CoA) (r) ACACT6r: accoa_c + ddcacoa_c <=> 3otdcoa_c + coa_c\n",
      "Acetyl-CoA:anthranilate acetyltransferase ACANTHAT: accoa_c + anth_c --> acanth_c + coa_c\n",
      "Acetyl-CoA C-acetyltransferase ACACT1r: 2.0 accoa_c <=> aacoa_c + coa_c\n",
      "Acetyl-CoA:hexanoate-CoA transferase HXCT: accoa_c + hxa_c --> ac_c + hxcoa_c\n",
      "Acetyl-CoA acyltransferase (hexadecanoyl-CoA), (r) ACACT8r: 3ohodcoa_c + coa_c <=> accoa_c + pmtcoa_c\n",
      "Acetyl-CoA:oxalate CoA-transferase ACOXT: accoa_c + oxa_c <=> ac_c + oxalcoa_c\n",
      "Acetate kinase ACKr: ac_c + atp_c <=> actp_c + adp_c\n",
      "Acetate exchange EX_ac_e: ac_e --> \n",
      "Acetate-CoA ligase (ADP-forming) ACCOAL: atp_c + coa_c + ppa_c --> adp_c + pi_c + ppcoa_c\n",
      "Acetate transport via diffusion (extracellular to periplasm) ACtex: ac_e <=> ac_p\n",
      "Na+/Acetate symport (periplasm) ACt4pp: ac_p + na1_p --> ac_c + na1_c\n",
      "Acetate reversible transport via proton symport (periplasm) ACt2rpp: ac_p + h_p <=> ac_c + h_c\n"
     ]
    }
   ],
   "source": [
    "for metabolite in model.metabolites.query('Acetate', 'name'):\n",
    "    print(metabolite.name, metabolite.id)                           # ac_c\n",
    "\n",
    "for metabolite in model.metabolites.query('Acetyl-CoA', 'name'):\n",
    "    print(metabolite.name, metabolite.id)                           # accoa_c\n",
    "    \n",
    "for metabolite in model.metabolites.query('Acetoacetyl-CoA', 'name'):\n",
    "    print(metabolite.name, metabolite.id)                           # aacoa_c\n",
    "    \n",
    "for metabolite in model.metabolites.query('3-hydroxybutyryl-CoA', 'name'):\n",
    "    print(metabolite.name, metabolite.id)                           # NA\n",
    "    \n",
    "for reaction in model.reactions.query('Acetyl-CoA', 'name'):\n",
    "    print(reaction.name, reaction)                                  # Reaction for phaA corresponds to ACACT1r\n",
    "    \n",
    "for reaction in model.reactions.query('Acetate', 'name'):\n",
    "    print(reaction.name, reaction)                                  # Reaction for acs ACS"
   ]
  },
  {
   "cell_type": "code",
   "execution_count": 23,
   "id": "b416529b",
   "metadata": {},
   "outputs": [],
   "source": [
    "# phaB reaction\n",
    "\n",
    "new_reaction1 = Reaction('phaB', 'Acetoacetyl-CoA: 3-Hydroxybutyryl-CoA reductase')  # The reaction corresponding to phaB\n",
    "\n",
    "# phaB uses:\n",
    "## Acetoacetyl-CoA + NADPH + H+ <=> 3-Hydroxybutyryl-CoA + NADP+\n",
    "## We can find these as: (Note: All of these are in the cytoplasm)\n",
    "### Acetoacetyl-CoA      = aacoa_c\n",
    "### NADPH                = nadph_c\n",
    "### H+                   = h_c\n",
    "### \n",
    "### 3-Hydroxybutyryl-CoA = Not yet defined\n",
    "### NADP+                = nadp_c\n",
    "\n",
    "# Since 3-Hydroxybutyryl-CoA does not exist in the model, we will have to define it before.\n",
    "hydroxybutyrylCoA = Metabolite(id='hbtcoa_c', name='3-Hydroxybutyryl-CoA', compartment='c', formula='C25H42N7O18P3S')\n",
    "\n",
    "\n",
    "# We can now define the reaction stoichiometry:\n",
    "new_reaction1.add_metabolites({\n",
    "                            model.metabolites.get_by_id(\"aacoa_c\"): -1,\n",
    "                            model.metabolites.get_by_id(\"nadph_c\"): -1,\n",
    "                            model.metabolites.get_by_id(\"h_c\"): -1,\n",
    "                            hydroxybutyrylCoA: 1,\n",
    "                            model.metabolites.get_by_id(\"nadp_c\"): 1\n",
    "                             })\n",
    "\n",
    "model.add_reactions([new_reaction1])"
   ]
  },
  {
   "cell_type": "code",
   "execution_count": 24,
   "id": "1f482056",
   "metadata": {},
   "outputs": [
    {
     "data": {
      "text/html": [
       "\n",
       "        <table>\n",
       "            <tr>\n",
       "                <td><strong>Reaction identifier</strong></td><td>phaB</td>\n",
       "            </tr><tr>\n",
       "                <td><strong>Name</strong></td><td>Acetoacetyl-CoA: 3-Hydroxybutyryl-CoA reductase</td>\n",
       "            </tr><tr>\n",
       "                <td><strong>Memory address</strong></td>\n",
       "                <td>0x2811b1d9f90</td>\n",
       "            </tr><tr>\n",
       "                <td><strong>Stoichiometry</strong></td>\n",
       "                <td>\n",
       "                    <p style='text-align:right'>aacoa_c + h_c + nadph_c --> hbtcoa_c + nadp_c</p>\n",
       "                    <p style='text-align:right'>Acetoacetyl-CoA + H+ + Nicotinamide adenine dinucleotide phosphate - reduced --> 3-Hydroxybutyryl-CoA + Nicotinamide adenine dinucleotide phosphate</p>\n",
       "                </td>\n",
       "            </tr><tr>\n",
       "                <td><strong>GPR</strong></td><td></td>\n",
       "            </tr><tr>\n",
       "                <td><strong>Lower bound</strong></td><td>0.0</td>\n",
       "            </tr><tr>\n",
       "                <td><strong>Upper bound</strong></td><td>1000.0</td>\n",
       "            </tr>\n",
       "        </table>\n",
       "        "
      ],
      "text/plain": [
       "<Reaction phaB at 0x2811b1d9f90>"
      ]
     },
     "execution_count": 24,
     "metadata": {},
     "output_type": "execute_result"
    }
   ],
   "source": [
    "model.reactions.phaB"
   ]
  },
  {
   "cell_type": "code",
   "execution_count": 25,
   "id": "b082a6c1",
   "metadata": {
    "scrolled": true
   },
   "outputs": [
    {
     "data": {
      "text/html": [
       "\n",
       "        <table>\n",
       "            <tr>\n",
       "                <td><strong>Metabolite identifier</strong></td><td>hbtcoa_c</td>\n",
       "            </tr><tr>\n",
       "                <td><strong>Name</strong></td><td>3-Hydroxybutyryl-CoA</td>\n",
       "            </tr><tr>\n",
       "                <td><strong>Memory address</strong></td>\n",
       "                <td>0x2811b1b9150</td>\n",
       "            </tr><tr>\n",
       "                <td><strong>Formula</strong></td><td>C25H42N7O18P3S</td>\n",
       "            </tr><tr>\n",
       "                <td><strong>Compartment</strong></td><td>c</td>\n",
       "            </tr><tr>\n",
       "                <td><strong>In 1 reaction(s)</strong></td><td>\n",
       "                    phaB\n",
       "                    </td>\n",
       "            </tr>\n",
       "        </table>"
      ],
      "text/plain": [
       "<Metabolite hbtcoa_c at 0x2811b1b9150>"
      ]
     },
     "execution_count": 25,
     "metadata": {},
     "output_type": "execute_result"
    }
   ],
   "source": [
    "model.metabolites.hbtcoa_c"
   ]
  },
  {
   "cell_type": "code",
   "execution_count": 26,
   "id": "59014933",
   "metadata": {},
   "outputs": [],
   "source": [
    "# phaC reaction\n",
    "\n",
    "new_reaction2 = Reaction('phaC', '3-Hydroxybutyryl-CoA: P3HB polymerization')  # The reaction corresponding to phaC\n",
    "\n",
    "# phaC uses:\n",
    "## 3-Hydroxybutyryl-CoA <=> P3HB + CoA\n",
    "## We can find these as: (Note: All of these are in the cytoplasm)\n",
    "### 3-Hydroxybutyryl-CoA = hbtcoa_c\n",
    "\n",
    "### P3HB                 = Not Defined yet\n",
    "### CoA                  = coa_c\n",
    "\n",
    "\n",
    "# Since 3-Hydroxybutyryl-CoA does not exist in the model, we will have to define it before.\n",
    "P3HB = Metabolite(id='P3HB_c', name='poly-3-Hydroxybutanoate', compartment='c', formula='[C4H6O2]n')\n",
    "\n",
    "\n",
    "# We can now define the reaction stoichiometry:\n",
    "new_reaction2.add_metabolites({\n",
    "                            model.metabolites.get_by_id(\"hbtcoa_c\"): -1,\n",
    "                            P3HB: 1,\n",
    "                            model.metabolites.get_by_id(\"coa_c\"): 1\n",
    "                             })\n",
    "\n",
    "model.add_reactions([new_reaction2])"
   ]
  },
  {
   "cell_type": "code",
   "execution_count": 27,
   "id": "c4d5972f",
   "metadata": {
    "scrolled": true
   },
   "outputs": [
    {
     "data": {
      "text/html": [
       "\n",
       "        <table>\n",
       "            <tr>\n",
       "                <td><strong>Reaction identifier</strong></td><td>phaC</td>\n",
       "            </tr><tr>\n",
       "                <td><strong>Name</strong></td><td>3-Hydroxybutyryl-CoA: P3HB polymerization</td>\n",
       "            </tr><tr>\n",
       "                <td><strong>Memory address</strong></td>\n",
       "                <td>0x2811b191450</td>\n",
       "            </tr><tr>\n",
       "                <td><strong>Stoichiometry</strong></td>\n",
       "                <td>\n",
       "                    <p style='text-align:right'>hbtcoa_c --> P3HB_c + coa_c</p>\n",
       "                    <p style='text-align:right'>3-Hydroxybutyryl-CoA --> poly-3-Hydroxybutanoate + Coenzyme A</p>\n",
       "                </td>\n",
       "            </tr><tr>\n",
       "                <td><strong>GPR</strong></td><td></td>\n",
       "            </tr><tr>\n",
       "                <td><strong>Lower bound</strong></td><td>0.0</td>\n",
       "            </tr><tr>\n",
       "                <td><strong>Upper bound</strong></td><td>1000.0</td>\n",
       "            </tr>\n",
       "        </table>\n",
       "        "
      ],
      "text/plain": [
       "<Reaction phaC at 0x2811b191450>"
      ]
     },
     "execution_count": 27,
     "metadata": {},
     "output_type": "execute_result"
    }
   ],
   "source": [
    "model.reactions.phaC"
   ]
  },
  {
   "cell_type": "code",
   "execution_count": 28,
   "id": "3216b0b7",
   "metadata": {
    "scrolled": true
   },
   "outputs": [
    {
     "data": {
      "text/html": [
       "\n",
       "        <table>\n",
       "            <tr>\n",
       "                <td><strong>Metabolite identifier</strong></td><td>P3HB_c</td>\n",
       "            </tr><tr>\n",
       "                <td><strong>Name</strong></td><td>poly-3-Hydroxybutanoate</td>\n",
       "            </tr><tr>\n",
       "                <td><strong>Memory address</strong></td>\n",
       "                <td>0x2811b190410</td>\n",
       "            </tr><tr>\n",
       "                <td><strong>Formula</strong></td><td>[C4H6O2]n</td>\n",
       "            </tr><tr>\n",
       "                <td><strong>Compartment</strong></td><td>c</td>\n",
       "            </tr><tr>\n",
       "                <td><strong>In 1 reaction(s)</strong></td><td>\n",
       "                    phaC\n",
       "                    </td>\n",
       "            </tr>\n",
       "        </table>"
      ],
      "text/plain": [
       "<Metabolite P3HB_c at 0x2811b190410>"
      ]
     },
     "execution_count": 28,
     "metadata": {},
     "output_type": "execute_result"
    }
   ],
   "source": [
    "model.metabolites.P3HB_c"
   ]
  },
  {
   "cell_type": "code",
   "execution_count": 29,
   "id": "81b647b2",
   "metadata": {},
   "outputs": [],
   "source": [
    "# # Here, we are testing if the intermediate compound can be produced\n",
    "# r_phaA_exp = model.add_boundary(model.metabolites.get_by_id('aacoa_c'), type='demand')\n",
    "\n",
    "# with model:\n",
    "#     model.objective = r_phaA_exp\n",
    "#     sol = model.optimize()\n",
    "#     print(sol.objective_value)"
   ]
  },
  {
   "cell_type": "code",
   "execution_count": 30,
   "id": "4e9707fc",
   "metadata": {},
   "outputs": [],
   "source": [
    "# # Here, we are testing if the intermediate compound can be produced\n",
    "# r_phaB_exp = model.add_boundary(model.metabolites.get_by_id('hbtcoa_c'), type='demand')\n",
    "\n",
    "# with model:\n",
    "#     model.objective = r_phaB_exp\n",
    "#     sol = model.optimize()\n",
    "#     print(sol.objective_value)"
   ]
  },
  {
   "cell_type": "code",
   "execution_count": 31,
   "id": "362bb738",
   "metadata": {},
   "outputs": [],
   "source": [
    "# # Here, we are testing if the intermediate compound can be accomulated\n",
    "# r_phaC_exp = model.add_boundary(model.metabolites.get_by_id('P3HB_c'), type='sink')\n",
    "\n",
    "# with model:\n",
    "#     model.objective = r_phaC_exp\n",
    "#     sol = model.optimize()\n",
    "#     print(sol.objective_value)"
   ]
  },
  {
   "cell_type": "code",
   "execution_count": 32,
   "id": "2785958e",
   "metadata": {},
   "outputs": [],
   "source": [
    "# with model:\n",
    "#     model.objective = model.reactions.phaC\n",
    "#     P3HB_production = model.optimize().objective_value\n",
    "#     print(\"Max. p3HB production [mmol gDW^-1 h^-1]:\", P3HB_production)\n",
    "#     print(\"Theoretical max. yield [mmol-P3HB / mmol-glucose]:\", P3HB_production / (-1*model.reactions.2dglc_e.flux))\n",
    "#     max_yield_mmol=P3HB_production / (-1*model.reactions.2dglc_e.flux)"
   ]
  },
  {
   "cell_type": "code",
   "execution_count": 39,
   "id": "d9ad48e1",
   "metadata": {},
   "outputs": [
    {
     "name": "stderr",
     "output_type": "stream",
     "text": [
      "Ignoring reaction 'ackA' since it already exists.\n"
     ]
    }
   ],
   "source": [
    "# ackA reaction\n",
    "\n",
    "new_reaction3 = Reaction('ackA', 'Acetate kinase into Acetyl-1-P')  # The reaction corresponding to phaC\n",
    "\n",
    "# ackA uses:\n",
    "## Acetate + ATP <=> Acetyl-1-P + ADP\n",
    "## We can find these as: (Note: All of these are in the cytoplasm)\n",
    "### Acetate              = ac_c\n",
    "### ATP                  = atp_c\n",
    "\n",
    "### Acetyl-1-P           = Not Defined yet\n",
    "### ADP                  = adp_c\n",
    "\n",
    "\n",
    "# Since 3-Hydroxybutyryl-CoA does not exist in the model, we will have to define it before.\n",
    "Acetyl1P = Metabolite(id='acp_c', name='Acetyl-1-Phosphate', compartment='c', formula='C2H5O5P')\n",
    "\n",
    "\n",
    "# We can now define the reaction stoichiometry:\n",
    "new_reaction3.add_metabolites({\n",
    "                            model.metabolites.get_by_id(\"ac_c\"): -1,\n",
    "                            model.metabolites.get_by_id(\"atp_c\"): -1,\n",
    "                            Acetyl1P: 1,\n",
    "                            model.metabolites.get_by_id(\"adp_c\"): 1\n",
    "                             })\n",
    "\n",
    "model.add_reactions([new_reaction3])\n",
    "model.reactions.ackA.lower_bound = -1000"
   ]
  },
  {
   "cell_type": "code",
   "execution_count": 34,
   "id": "3609afa1",
   "metadata": {
    "scrolled": true
   },
   "outputs": [
    {
     "data": {
      "text/html": [
       "\n",
       "        <table>\n",
       "            <tr>\n",
       "                <td><strong>Reaction identifier</strong></td><td>ackA</td>\n",
       "            </tr><tr>\n",
       "                <td><strong>Name</strong></td><td>Acetate kinase into Acetyl-1-P</td>\n",
       "            </tr><tr>\n",
       "                <td><strong>Memory address</strong></td>\n",
       "                <td>0x2817fad8ed0</td>\n",
       "            </tr><tr>\n",
       "                <td><strong>Stoichiometry</strong></td>\n",
       "                <td>\n",
       "                    <p style='text-align:right'>ac_c + atp_c --> acp_c + adp_c</p>\n",
       "                    <p style='text-align:right'>Acetate + ATP C10H12N5O13P3 --> Acetyl-1-Phosphate + ADP C10H12N5O10P2</p>\n",
       "                </td>\n",
       "            </tr><tr>\n",
       "                <td><strong>GPR</strong></td><td></td>\n",
       "            </tr><tr>\n",
       "                <td><strong>Lower bound</strong></td><td>0.0</td>\n",
       "            </tr><tr>\n",
       "                <td><strong>Upper bound</strong></td><td>1000.0</td>\n",
       "            </tr>\n",
       "        </table>\n",
       "        "
      ],
      "text/plain": [
       "<Reaction ackA at 0x2817fad8ed0>"
      ]
     },
     "execution_count": 34,
     "metadata": {},
     "output_type": "execute_result"
    }
   ],
   "source": [
    "model.reactions.ackA"
   ]
  },
  {
   "cell_type": "code",
   "execution_count": 40,
   "id": "5e22a3b8",
   "metadata": {},
   "outputs": [
    {
     "name": "stderr",
     "output_type": "stream",
     "text": [
      "Ignoring reaction 'pta' since it already exists.\n"
     ]
    }
   ],
   "source": [
    "# pta reaction\n",
    "\n",
    "new_reaction4 = Reaction('pta', 'Acetyl-1-P: acetylation of CoA')  # The reaction corresponding to phaC\n",
    "\n",
    "# ackA uses:\n",
    "## Acetyl-1-P + CoA <=> Acetyl-CoA + P\n",
    "## We can find these as: (Note: All of these are in the cytoplasm)\n",
    "### Acetyl-1-P           = acp_c\n",
    "### ATP                  = coa_c\n",
    "\n",
    "### Acetyl-CoA           = accoa_c\n",
    "### P                    = pi_c\n",
    "\n",
    "\n",
    "# We can now define the reaction stoichiometry:\n",
    "new_reaction4.add_metabolites({\n",
    "                            model.metabolites.get_by_id(\"acp_c\"): -1,\n",
    "                            model.metabolites.get_by_id(\"coa_c\"): -1,\n",
    "                            model.metabolites.get_by_id(\"accoa_c\"): 1,\n",
    "                            model.metabolites.get_by_id(\"pi_c\"): 1\n",
    "                             })\n",
    "\n",
    "model.add_reactions([new_reaction4])\n",
    "model.reactions.pta.lower_bound = -1000"
   ]
  },
  {
   "cell_type": "code",
   "execution_count": 41,
   "id": "e1d787f3",
   "metadata": {},
   "outputs": [],
   "source": [
    "write_sbml_model(model, \"data/iML1515_het.xml\")"
   ]
  }
 ],
 "metadata": {
  "kernelspec": {
   "display_name": "Python 3 (ipykernel)",
   "language": "python",
   "name": "python3"
  },
  "language_info": {
   "codemirror_mode": {
    "name": "ipython",
    "version": 3
   },
   "file_extension": ".py",
   "mimetype": "text/x-python",
   "name": "python",
   "nbconvert_exporter": "python",
   "pygments_lexer": "ipython3",
   "version": "3.11.4"
  }
 },
 "nbformat": 4,
 "nbformat_minor": 5
}

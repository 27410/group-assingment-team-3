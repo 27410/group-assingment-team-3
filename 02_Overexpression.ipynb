{
 "cells": [
  {
   "cell_type": "code",
   "execution_count": 13,
   "id": "78f1d7ca",
   "metadata": {},
   "outputs": [],
   "source": [
    "# First, we can import some functions so we can use the model\n",
    "from cobra.io import read_sbml_model, write_sbml_model\n",
    "from cobra import Reaction, Metabolite\n",
    "\n"
   ]
  },
  {
   "cell_type": "code",
   "execution_count": 60,
   "id": "19f9a313",
   "metadata": {},
   "outputs": [],
   "source": [
    "# Second, we can read the GEM and save it as ‘model’\n",
    "model = read_sbml_model('data/iML1515_het.xml')"
   ]
  },
  {
   "cell_type": "code",
   "execution_count": 5,
   "id": "94e357bd",
   "metadata": {},
   "outputs": [
    {
     "data": {
      "text/plain": [
       "0.8769972144269836"
      ]
     },
     "execution_count": 5,
     "metadata": {},
     "output_type": "execute_result"
    }
   ],
   "source": [
    "solution = model.optimize()\n",
    "solution.objective_value #Biomass is the objective value by default"
   ]
  },
  {
   "cell_type": "code",
   "execution_count": null,
   "id": "44a1d912",
   "metadata": {},
   "outputs": [],
   "source": [
    "# max_growth = model.optimize().objective_value\n",
    "# min_growth = 0.8 * max_growth  \n",
    "# max_growth = 1.0 * max_growth  \n",
    "    \n",
    "# model.objective = model.reactions.get_by_id(\"BIOMASS_Ec_iML1515_core_75p37M\")\n",
    "# model.reactions.get_by_id(\"BIOMASS_Ec_iML1515_core_75p37M\").bounds = min_growth, max_growth\n",
    "# # Flux of P3HB bassal\n",
    "# r_phaC_exp = model.add_boundary(model.metabolites.get_by_id('P3HB_c'), type='sink')\n",
    "# model.objective = r_phaC_exp\n",
    "# P3HB_flux = model.optimize().objective_value\n",
    "\n",
    "# with model:\n",
    "#     model.objective = model.reactions.get_by_id(\"BIOMASS_Ec_iML1515_core_75p37M\")\n",
    "#     growth = solution.objective_value\n",
    "    \n",
    "#     model.reactions.phaC.lower_bound = P3HB_flux * 2\n",
    "#     solution_overexpression = model.optimize()          \n",
    "    \n",
    "#     growth_overexpression = solution_overexpression.objective_value\n",
    "#     growth_reduction = growth - growth_overexpression\n",
    "# print(f\"Growth reduction is: {round(growth_reduction,3)}\")    \n",
    "# print(f\"The basal P3HB flux is: {round(P3HB_flux,3)}\")\n",
    "\n"
   ]
  },
  {
   "cell_type": "code",
   "execution_count": 37,
   "id": "519f8fb1",
   "metadata": {},
   "outputs": [
    {
     "name": "stdout",
     "output_type": "stream",
     "text": [
      "2.7428235294114476 2.7428235294114476 2.9925081443476675\n",
      "Growth reduction is: 0.175\n",
      "The basal P3HB flux is: 2.743\n",
      "The change in P3HB flux is: -2.041\n",
      "The new P3HB flux is: 0.702\n"
     ]
    },
    {
     "name": "stderr",
     "output_type": "stream",
     "text": [
      "C:\\Users\\bierk\\anaconda3\\lib\\site-packages\\cobra\\util\\solver.py:554: UserWarning: Solver status is 'infeasible'.\n",
      "  warn(f\"Solver status is '{status}'.\", UserWarning)\n",
      "C:\\Users\\bierk\\anaconda3\\lib\\site-packages\\cobra\\util\\solver.py:554: UserWarning: Solver status is 'infeasible'.\n",
      "  warn(f\"Solver status is '{status}'.\", UserWarning)\n"
     ]
    }
   ],
   "source": [
    "max_growth = model.optimize().objective_value\n",
    "min_growth = 0.8 * max_growth  \n",
    "max_growth = 1.0 * max_growth  \n",
    "    \n",
    "model.objective = model.reactions.get_by_id(\"BIOMASS_Ec_iML1515_core_75p37M\")\n",
    "model.reactions.get_by_id(\"BIOMASS_Ec_iML1515_core_75p37M\").bounds = min_growth, max_growth\n",
    "# Flux of P3HB basal\n",
    "r_phaC_exp = model.add_boundary(model.metabolites.get_by_id('P3HB_c'), type='sink')\n",
    "model.objective = r_phaC_exp\n",
    "solution_basal = model.optimize()\n",
    "P3HB_flux_baseline = solution_basal.fluxes[\"phaC\"]\n",
    "hbtcoa_flux_baseline = solution_basal.fluxes[\"phaB\"]\n",
    "aacoa_flux_baseline = solution_basal.fluxes[\"ACACT1r\"]\n",
    "print(P3HB_flux_baseline, hbtcoa_flux_baseline, aacoa_flux_baseline)\n",
    "\n",
    "with model:\n",
    "    model.objective = model.reactions.get_by_id(\"BIOMASS_Ec_iML1515_core_75p37M\")\n",
    "    growth_baseline = model.optimize().objective_value\n",
    "    \n",
    "    model.reactions.phaC.lower_bound = P3HB_flux_baseline * 2\n",
    "    model.reactions.phaB.lower_bound = hbtcoa_flux_baseline * 2\n",
    "    model.reactions.ACACT1r.lower_bound = aacoa_flux_baseline * 2\n",
    "    \n",
    "    solution_overexpression = model.optimize()          \n",
    "    \n",
    "    growth_overexpression = solution_overexpression.objective_value\n",
    "    P3HB_flux_overexpression = model.optimize().objective_value\n",
    "    \n",
    "growth_reduction = growth_baseline - growth_overexpression\n",
    "P3HB_flux_change = P3HB_flux_overexpression - P3HB_flux_baseline\n",
    "\n",
    "print(f\"Growth reduction is: {round(growth_reduction, 3)}\")\n",
    "print(f\"The basal P3HB flux is: {round(P3HB_flux_baseline, 3)}\")\n",
    "print(f\"The change in P3HB flux is: {round(P3HB_flux_change, 3)}\")\n",
    "print(f\"The new P3HB flux is: {round(P3HB_flux_overexpression, 3)}\")\n"
   ]
  },
  {
   "cell_type": "code",
   "execution_count": 61,
   "id": "759d028c",
   "metadata": {},
   "outputs": [
    {
     "name": "stdout",
     "output_type": "stream",
     "text": [
      "2.7428235294114476 2.7428235294114476 2.9925081443476675\n",
      "Lower bounds after overexpression:\n",
      "phaC: 4.114235294117171\n",
      "phaB: 4.114235294117171\n",
      "ACACT1r: 4.4887622165215015\n"
     ]
    },
    {
     "name": "stderr",
     "output_type": "stream",
     "text": [
      "C:\\Users\\bierk\\anaconda3\\lib\\site-packages\\cobra\\util\\solver.py:554: UserWarning: Solver status is 'infeasible'.\n",
      "  warn(f\"Solver status is '{status}'.\", UserWarning)\n",
      "C:\\Users\\bierk\\anaconda3\\lib\\site-packages\\cobra\\util\\solver.py:554: UserWarning: Solver status is 'infeasible'.\n",
      "  warn(f\"Solver status is '{status}'.\", UserWarning)\n"
     ]
    },
    {
     "name": "stdout",
     "output_type": "stream",
     "text": [
      "\n",
      "Growth reduction is: 0.175\n",
      "The basal P3HB flux is: 2.743\n",
      "The change in P3HB flux is: -2.041\n",
      "The new P3HB flux is: 0.702\n"
     ]
    }
   ],
   "source": [
    "max_growth = model.optimize().objective_value\n",
    "min_growth_total = 0.8 * max_growth  \n",
    "max_growth_total = 1.0 * max_growth  \n",
    "    \n",
    "model.objective = model.reactions.get_by_id(\"BIOMASS_Ec_iML1515_core_75p37M\")\n",
    "model.reactions.get_by_id(\"BIOMASS_Ec_iML1515_core_75p37M\").bounds = min_growth_total, max_growth_total\n",
    "# Flux of P3HB basal\n",
    "r_phaC_exp = model.add_boundary(model.metabolites.get_by_id('P3HB_c'), type='sink')\n",
    "model.objective = r_phaC_exp\n",
    "solution_basal = model.optimize()\n",
    "P3HB_flux_baseline = solution_basal.fluxes[\"phaC\"]\n",
    "hbtcoa_flux_baseline = solution_basal.fluxes[\"phaB\"]\n",
    "aacoa_flux_baseline = solution_basal.fluxes[\"ACACT1r\"]\n",
    "print(P3HB_flux_baseline, hbtcoa_flux_baseline, aacoa_flux_baseline)\n",
    "\n",
    "with model:\n",
    "    model.objective = model.reactions.get_by_id(\"BIOMASS_Ec_iML1515_core_75p37M\")\n",
    "    growth_baseline = model.optimize().objective_value\n",
    "    \n",
    "    model.reactions.phaC.lower_bound = P3HB_flux_baseline * 1.5\n",
    "    model.reactions.phaB.lower_bound = hbtcoa_flux_baseline * 1.5\n",
    "    model.reactions.ACACT1r.lower_bound = aacoa_flux_baseline * 1.5\n",
    "    \n",
    "    print(\"Lower bounds after overexpression:\")\n",
    "    print(\"phaC:\", model.reactions.phaC.lower_bound)\n",
    "    print(\"phaB:\", model.reactions.phaB.lower_bound)\n",
    "    print(\"ACACT1r:\", model.reactions.ACACT1r.lower_bound)\n",
    "\n",
    "    solution_overexpression = model.optimize()          \n",
    "    \n",
    "    growth_overexpression = solution_overexpression.objective_value\n",
    "    P3HB_flux_overexpression = model.optimize().objective_value\n",
    "    \n",
    "growth_reduction = growth_baseline - growth_overexpression\n",
    "P3HB_flux_change = P3HB_flux_overexpression - P3HB_flux_baseline\n",
    "\n",
    "print(f\"\\nGrowth reduction is: {round(growth_reduction, 3)}\")\n",
    "print(f\"The basal P3HB flux is: {round(P3HB_flux_baseline, 3)}\")\n",
    "print(f\"The change in P3HB flux is: {round(P3HB_flux_change, 3)}\")\n",
    "print(f\"The new P3HB flux is: {round(P3HB_flux_overexpression, 3)}\")\n"
   ]
  },
  {
   "cell_type": "code",
   "execution_count": null,
   "id": "2865ff4a",
   "metadata": {},
   "outputs": [],
   "source": [
    "sobreexpresar genes de produccion phaC, phaB, phaA\n",
    "sobreexpresar genes de acetate uptake ackA, pta\n",
    "sobreexpresar ambos sublotes"
   ]
  }
 ],
 "metadata": {
  "kernelspec": {
   "display_name": "Python 3 (ipykernel)",
   "language": "python",
   "name": "python3"
  },
  "language_info": {
   "codemirror_mode": {
    "name": "ipython",
    "version": 3
   },
   "file_extension": ".py",
   "mimetype": "text/x-python",
   "name": "python",
   "nbconvert_exporter": "python",
   "pygments_lexer": "ipython3",
   "version": "3.9.12"
  }
 },
 "nbformat": 4,
 "nbformat_minor": 5
}

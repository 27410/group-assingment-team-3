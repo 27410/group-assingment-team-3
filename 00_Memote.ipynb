{
 "cells": [
  {
   "cell_type": "code",
   "execution_count": 2,
   "id": "4c91e827",
   "metadata": {},
   "outputs": [],
   "source": [
    "from cobra.io import read_sbml_model, write_sbml_model\n",
    "from cobra import Reaction, Metabolite"
   ]
  },
  {
   "cell_type": "markdown",
   "id": "64e0ce6c",
   "metadata": {},
   "source": [
    "## iML1515"
   ]
  },
  {
   "cell_type": "code",
   "execution_count": 4,
   "id": "2019082c",
   "metadata": {
    "scrolled": true
   },
   "outputs": [
    {
     "data": {
      "text/html": [
       "\n",
       "        <table>\n",
       "            <tr>\n",
       "                <td><strong>Name</strong></td>\n",
       "                <td>iML1515</td>\n",
       "            </tr><tr>\n",
       "                <td><strong>Memory address</strong></td>\n",
       "                <td>1fc553a4a10</td>\n",
       "            </tr><tr>\n",
       "                <td><strong>Number of metabolites</strong></td>\n",
       "                <td>1877</td>\n",
       "            </tr><tr>\n",
       "                <td><strong>Number of reactions</strong></td>\n",
       "                <td>2712</td>\n",
       "            </tr><tr>\n",
       "                <td><strong>Number of genes</strong></td>\n",
       "                <td>1516</td>\n",
       "            </tr><tr>\n",
       "                <td><strong>Number of groups</strong></td>\n",
       "                <td>0</td>\n",
       "            </tr><tr>\n",
       "                <td><strong>Objective expression</strong></td>\n",
       "                <td>1.0*BIOMASS_Ec_iML1515_core_75p37M - 1.0*BIOMASS_Ec_iML1515_core_75p37M_reverse_35685</td>\n",
       "            </tr><tr>\n",
       "                <td><strong>Compartments</strong></td>\n",
       "                <td>cytosol, extracellular space, periplasm</td>\n",
       "            </tr>\n",
       "          </table>"
      ],
      "text/plain": [
       "<Model iML1515 at 0x1fc553a4a10>"
      ]
     },
     "execution_count": 4,
     "metadata": {},
     "output_type": "execute_result"
    }
   ],
   "source": [
    "# Loading of the iML1515 model\n",
    "iML1515 =  read_sbml_model('data/iML1515.xml')\n",
    "\n",
    "iML1515"
   ]
  },
  {
   "cell_type": "markdown",
   "id": "4bb060dc",
   "metadata": {},
   "source": [
    "[Memote report for: iML1515](Memote_Reports/Report_iML1515.html)"
   ]
  },
  {
   "cell_type": "markdown",
   "id": "e3e279c7",
   "metadata": {},
   "source": [
    "## iJO1366"
   ]
  },
  {
   "cell_type": "code",
   "execution_count": 5,
   "id": "36b3ef29",
   "metadata": {
    "scrolled": true
   },
   "outputs": [
    {
     "data": {
      "text/html": [
       "\n",
       "        <table>\n",
       "            <tr>\n",
       "                <td><strong>Name</strong></td>\n",
       "                <td>iJO1366</td>\n",
       "            </tr><tr>\n",
       "                <td><strong>Memory address</strong></td>\n",
       "                <td>1fc65cbb2d0</td>\n",
       "            </tr><tr>\n",
       "                <td><strong>Number of metabolites</strong></td>\n",
       "                <td>1805</td>\n",
       "            </tr><tr>\n",
       "                <td><strong>Number of reactions</strong></td>\n",
       "                <td>2583</td>\n",
       "            </tr><tr>\n",
       "                <td><strong>Number of genes</strong></td>\n",
       "                <td>1367</td>\n",
       "            </tr><tr>\n",
       "                <td><strong>Number of groups</strong></td>\n",
       "                <td>0</td>\n",
       "            </tr><tr>\n",
       "                <td><strong>Objective expression</strong></td>\n",
       "                <td>1.0*BIOMASS_Ec_iJO1366_core_53p95M - 1.0*BIOMASS_Ec_iJO1366_core_53p95M_reverse_5c8b1</td>\n",
       "            </tr><tr>\n",
       "                <td><strong>Compartments</strong></td>\n",
       "                <td>cytosol, extracellular space, periplasm</td>\n",
       "            </tr>\n",
       "          </table>"
      ],
      "text/plain": [
       "<Model iJO1366 at 0x1fc65cbb2d0>"
      ]
     },
     "execution_count": 5,
     "metadata": {},
     "output_type": "execute_result"
    }
   ],
   "source": [
    "# Loading of the iJO1366 model\n",
    "iJO1366 =  read_sbml_model('data/iJO1366.xml')\n",
    "\n",
    "iJO1366"
   ]
  },
  {
   "cell_type": "markdown",
   "id": "394457a2",
   "metadata": {},
   "source": [
    "[Memote report for: iJO1366](Memote_Reports/Report_iJO1366.html)"
   ]
  },
  {
   "cell_type": "markdown",
   "id": "ef5d6e1a",
   "metadata": {},
   "source": [
    "## iAF1260"
   ]
  },
  {
   "cell_type": "code",
   "execution_count": 6,
   "id": "49987a1f",
   "metadata": {
    "scrolled": false
   },
   "outputs": [
    {
     "data": {
      "text/html": [
       "\n",
       "        <table>\n",
       "            <tr>\n",
       "                <td><strong>Name</strong></td>\n",
       "                <td>iAF1260</td>\n",
       "            </tr><tr>\n",
       "                <td><strong>Memory address</strong></td>\n",
       "                <td>1fc677e9510</td>\n",
       "            </tr><tr>\n",
       "                <td><strong>Number of metabolites</strong></td>\n",
       "                <td>1668</td>\n",
       "            </tr><tr>\n",
       "                <td><strong>Number of reactions</strong></td>\n",
       "                <td>2382</td>\n",
       "            </tr><tr>\n",
       "                <td><strong>Number of genes</strong></td>\n",
       "                <td>1261</td>\n",
       "            </tr><tr>\n",
       "                <td><strong>Number of groups</strong></td>\n",
       "                <td>0</td>\n",
       "            </tr><tr>\n",
       "                <td><strong>Objective expression</strong></td>\n",
       "                <td>1.0*BIOMASS_Ec_iAF1260_core_59p81M - 1.0*BIOMASS_Ec_iAF1260_core_59p81M_reverse_3925e</td>\n",
       "            </tr><tr>\n",
       "                <td><strong>Compartments</strong></td>\n",
       "                <td>cytosol, periplasm, extracellular space</td>\n",
       "            </tr>\n",
       "          </table>"
      ],
      "text/plain": [
       "<Model iAF1260 at 0x1fc677e9510>"
      ]
     },
     "execution_count": 6,
     "metadata": {},
     "output_type": "execute_result"
    }
   ],
   "source": [
    "# Loading of the iAF1260 model\n",
    "iAF1260 =  read_sbml_model('data/iAF1260.xml')\n",
    "\n",
    "iAF1260"
   ]
  },
  {
   "cell_type": "markdown",
   "id": "3c7411cc",
   "metadata": {},
   "source": [
    "[Memote report for: iAF1260](Memote_Reports/Report_iAF1260.html)"
   ]
  },
  {
   "cell_type": "markdown",
   "id": "f62c6ff0",
   "metadata": {},
   "source": [
    "## iAF1260b"
   ]
  },
  {
   "cell_type": "code",
   "execution_count": 7,
   "id": "decaab1a",
   "metadata": {
    "scrolled": true
   },
   "outputs": [
    {
     "data": {
      "text/html": [
       "\n",
       "        <table>\n",
       "            <tr>\n",
       "                <td><strong>Name</strong></td>\n",
       "                <td>iAF1260b</td>\n",
       "            </tr><tr>\n",
       "                <td><strong>Memory address</strong></td>\n",
       "                <td>1fc68fb4990</td>\n",
       "            </tr><tr>\n",
       "                <td><strong>Number of metabolites</strong></td>\n",
       "                <td>1668</td>\n",
       "            </tr><tr>\n",
       "                <td><strong>Number of reactions</strong></td>\n",
       "                <td>2388</td>\n",
       "            </tr><tr>\n",
       "                <td><strong>Number of genes</strong></td>\n",
       "                <td>1261</td>\n",
       "            </tr><tr>\n",
       "                <td><strong>Number of groups</strong></td>\n",
       "                <td>0</td>\n",
       "            </tr><tr>\n",
       "                <td><strong>Objective expression</strong></td>\n",
       "                <td>1.0*BIOMASS_Ec_iAF1260_core_59p81M - 1.0*BIOMASS_Ec_iAF1260_core_59p81M_reverse_3925e</td>\n",
       "            </tr><tr>\n",
       "                <td><strong>Compartments</strong></td>\n",
       "                <td>cytosol, periplasm, extracellular space</td>\n",
       "            </tr>\n",
       "          </table>"
      ],
      "text/plain": [
       "<Model iAF1260b at 0x1fc68fb4990>"
      ]
     },
     "execution_count": 7,
     "metadata": {},
     "output_type": "execute_result"
    }
   ],
   "source": [
    "# Loading of the iAF1260b model\n",
    "iAF1260b =  read_sbml_model('data/iAF1260b.xml')\n",
    "\n",
    "iAF1260b"
   ]
  },
  {
   "cell_type": "markdown",
   "id": "8719c2df",
   "metadata": {},
   "source": [
    "[Memote report for: iAF1260b](Memote_Reports/Report_iAF1260b.html)"
   ]
  },
  {
   "cell_type": "markdown",
   "id": "4a5b53ad",
   "metadata": {},
   "source": [
    "We can now make ourself an overview of our models:\n",
    "\n",
    "**Table 1: Overview of metabolic models**\n",
    "\n",
    "| Model | # Metabolites | # Reactions | Memote analysis |\n",
    "| --- | --- | --- | --- |\n",
    "| iML1515 | 1877 | 2712 | 91% |\n",
    "| iJO1366 | 1805 | 2583 | 91% |\n",
    "| iAF1260 | 1668 | 2382 | 91% |\n",
    "| iAF1260b | 1668 | 2388 | 91% |"
   ]
  }
 ],
 "metadata": {
  "kernelspec": {
   "display_name": "Python 3 (ipykernel)",
   "language": "python",
   "name": "python3"
  },
  "language_info": {
   "codemirror_mode": {
    "name": "ipython",
    "version": 3
   },
   "file_extension": ".py",
   "mimetype": "text/x-python",
   "name": "python",
   "nbconvert_exporter": "python",
   "pygments_lexer": "ipython3",
   "version": "3.11.4"
  }
 },
 "nbformat": 4,
 "nbformat_minor": 5
}

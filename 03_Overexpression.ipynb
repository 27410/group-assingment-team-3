{
 "cells": [
  {
   "cell_type": "code",
   "execution_count": 1,
   "id": "78f1d7ca",
   "metadata": {},
   "outputs": [],
   "source": [
    "# First, we can import some functions so we can use the model\n",
    "from cobra.io import read_sbml_model, write_sbml_model\n",
    "from cobra import Reaction, Metabolite\n",
    "import matplotlib.pyplot as plt\n",
    "from cobra.flux_analysis import production_envelope"
   ]
  },
  {
   "cell_type": "code",
   "execution_count": 9,
   "id": "19f9a313",
   "metadata": {},
   "outputs": [],
   "source": [
    "# Second, we can read the GEM and save it as ‘model’\n",
    "model = read_sbml_model('data/iML1515_het.xml')"
   ]
  },
  {
   "cell_type": "markdown",
   "id": "2451d16d",
   "metadata": {},
   "source": [
    "# Production enzymes: P3HB"
   ]
  },
  {
   "cell_type": "markdown",
   "id": "66f820d0",
   "metadata": {},
   "source": [
    "    · ENZYME 1: Reaction ACACT1r is already present in E.coli. Enzyme EC 2.3.1.9 - acetyl-CoA C-acetyltransferase catalyses the Claisen condensation of an acetyl-CoA and an acyl-CoA (often another acetyl-CoA), leading to the formation of an acyl-CoA. Km = 0.14 mM; Turnover number = 6.5 1/s per mg of protein.\n",
    "\n",
    "    · ENZYME 2: EC 1.1.1.36 - acetoacetyl-CoA reductase (HACD1) calready present in E.coli and catalyzes the chiral reduction of acetoacetyl-CoA to (R)-3-hydroxybutyryl-CoA. Km = 0.002 mM; Turnover number = 90 1/s per mg of protein.\n",
    "\n",
    "    · ENZYME 3: EC 2.3.1.304 - poly-(R)-3-hydroxyalkanoate polymerase (phaC) coming from Cupriavidus necator which polymerizes (R)-3-hydroxybutyryl-CoA to create polyhydroxybutyrate (PHB). Km = 0.32 mM; Turnover number = 44 1/s per mg of protein.\n",
    "\n",
    "Because we cannot use OptGene to determine which genes to overexpress and thus increase P3HB production, we decided to base the overexpression assay based on the properties of the enzymes. In the sublot of production enzymes, the overexpressed gene is the one corresponding to the ACACT1r reaction.\n",
    "\n",
    "The bottleneck in a metabolic pathway is typically determined by the slowest step, which is often associated with the enzyme that has the lowest turnover number. The turnover number, also known as kcat (catalytic constant), represents the number of substrate molecules converted to product per unit time by a single enzyme molecule.\n",
    "\n",
    "The turnover number for Enzyme 1 is significantly lower than the turnover numbers for other two enzymes. This means that Enzyme 1 processes substrate molecules at a slower rate compared to the other enzymes in the pathway. As a result, Enzyme 1 becomes the bottleneck because it limits the overall rate of the pathway. Therefore is the main objective for this sublot.\n",
    "\n",
    "FROM A BIOLOGICAL POINT OF VIEW."
   ]
  },
  {
   "cell_type": "code",
   "execution_count": 38,
   "id": "3f3ee41b",
   "metadata": {},
   "outputs": [
    {
     "name": "stdout",
     "output_type": "stream",
     "text": [
      "ACACT1r (aacoa_c) flux before setting objective: 0.3121\n",
      "phaC (P3HB_c) flux before setting objective: 0.0\n",
      "\n",
      "Basal optimal growth: 0.877\n",
      "Growth reduction is: 0.1609\n",
      "\n",
      "ACACT1r (aacoa_c) flux after setting objective: 2.809\n"
     ]
    }
   ],
   "source": [
    "solution = model.optimize()\n",
    "growth_reduction_values = []\n",
    "overexpression_factor_values = []\n",
    "#Now that we have set which will be the max biomass reachable...\n",
    "with model:\n",
    "    #Set bounds of biomass inside with model, therefore can be changed for simulation\n",
    "    model.reactions.BIOMASS_Ec_iML1515_core_75p37M.lower_bound = 0.8 * solution.objective_value\n",
    "    model.reactions.BIOMASS_Ec_iML1515_core_75p37M.upper_bound = solution.objective_value\n",
    "    #Max value will always be the optimal value reachable\n",
    "    \n",
    "    #Now we set the set of reactions that lead to P3HB production and are not included in the model\n",
    "    reaction_phaC_P3HB_c = model.add_boundary(model.metabolites.get_by_id(\"P3HB_c\"), type=\"demand\")\n",
    "    \n",
    "    #Before setting the new objective we have to look to basal fluxes of this reactions\n",
    "    flux_summary1 = model.metabolites.aacoa_c.summary()\n",
    "#     flux_summary2 = model.metabolites.get_by_id(\"3hbcoa_c\").summary()\n",
    "#     flux_summary3 = model.metabolites.P3HB_c.summary()\n",
    "    print(f\"ACACT1r (aacoa_c) flux before setting objective: {round(flux_summary1.to_frame().loc['ACACT1r', 'flux'],4)}\")\n",
    "#     print(f\"HACD1 (3hbcoa_c) flux before setting objective: {round(flux_summary2.to_frame().loc['HACD1', 'flux'],4)}\")\n",
    "#     print(f\"phaC (P3HB_c) flux before setting objective: {round(flux_summary3.to_frame().loc['phaC', 'flux'],4)}\")\n",
    "    \n",
    "    growth = solution.objective_value\n",
    "    for i in range(1, 10):\n",
    "        growth = solution.objective_value\n",
    "        aacoa_c_flux = solution.fluxes[\"ACACT1r\"]\n",
    "        model.reactions.ACACT1r.lower_bound = aacoa_c_flux * i\n",
    "        solution_overexpression = model.optimize()\n",
    "        growth_overexpression = solution_overexpression.objective_value\n",
    "\n",
    "        growth_reduction = growth - growth_overexpression \n",
    "        \n",
    "        growth_reduction_values.append(growth_reduction)\n",
    "        overexpression_factor_values.append(i)\n",
    "        \n",
    "    print(f\"\\nBasal optimal growth: {round(growth,4)}\")\n",
    "    print(f\"Growth reduction is: {round(growth_reduction,4)}\")\n",
    "    print(f\"\\nACACT1r (aacoa_c) flux after setting objective: {round(flux_summary1.to_frame().loc['ACACT1r', 'flux'] * i,4)}\")"
   ]
  },
  {
   "cell_type": "code",
   "execution_count": 40,
   "id": "82be58f3",
   "metadata": {},
   "outputs": [
    {
     "data": {
      "image/png": "[encoded data removed]",
      "text/plain": [
       "<Figure size 432x288 with 1 Axes>"
      ]
     },
     "metadata": {
      "needs_background": "light"
     },
     "output_type": "display_data"
    }
   ],
   "source": [
    "plt.plot(overexpression_factor_values, growth_reduction_values, color='blue', linestyle='-', marker='', markersize=2, label='Growth reduction vs Overexpression')\n",
    "\n",
    "# Add labels and title\n",
    "plt.ylabel('Growth reduction')\n",
    "plt.xlabel('OV factor')\n",
    "\n",
    "# Show the plot\n",
    "plt.legend()\n",
    "plt.show()"
   ]
  },
  {
   "cell_type": "markdown",
   "id": "82ca74a0",
   "metadata": {},
   "source": [
    "# Acetate uptake enzymes"
   ]
  },
  {
   "cell_type": "markdown",
   "id": "295d61b9",
   "metadata": {},
   "source": [
    "    · ENZYME 1: Reaction ACKr is already present in E.coli. EC 2.7.2.1 - acetate kinase - Catalyzes the formation of acetyl phosphate from acetate and ATP. Can also catalyze the reverse reaction. During anaerobic growth of the organism, this enzyme is also involved in the synthesis of most of the ATP formed catabolically. Km = 0.67 mM; Turnover number = 908 1/s per mg of protein.\n",
    "\n",
    "    · ENZYME 2: Reaction PTAr is already present in E.coli. EC 2.3.1.8 - phosphate acetyltransferase - Catalyzes the reversible interconversion of acetyl-CoA and acetyl phosphate. On minimal medium acetyl-CoA is generated. In rich medium acetyl-CoA is converted to acetate and allowing the cell to dump the excess of acetylation potential in exchange for energy in the form of ATP. Km = 0.045 mM; Turnover number = 29.6 1/s per mg of protein.\n",
    "    \n",
    "The lower turnover number of PTAr indicates that it processes the substrate at a slower rate compared to ACKr. Therefore, overexpressing PTAr can potentially alleviate the bottleneck and increase the overall flux through the pathway, leading to higher production of the desired product."
   ]
  },
  {
   "cell_type": "code",
   "execution_count": 41,
   "id": "9264414b",
   "metadata": {
    "scrolled": true
   },
   "outputs": [
    {
     "name": "stdout",
     "output_type": "stream",
     "text": [
      "PTAr (accoa_c) flux before setting objective: 0.5106\n",
      "\n",
      "Basal optimal growth: 0.877\n",
      "Growth reduction is: -0.0\n",
      "\n",
      "PTAr (accoa_c) flux after setting objective: 4.5952\n"
     ]
    }
   ],
   "source": [
    "solution = model.optimize()\n",
    "growth_reduction_values = []\n",
    "overexpression_factor_values = []\n",
    "#Now that we have set which will be the max biomass reachable...\n",
    "with model:\n",
    "    #Set bounds of biomass inside with model, therefore can be changed for simulation\n",
    "    model.reactions.BIOMASS_Ec_iML1515_core_75p37M.lower_bound = 0.8 * solution.objective_value\n",
    "    model.reactions.BIOMASS_Ec_iML1515_core_75p37M.upper_bound = solution.objective_value\n",
    "    #Max value will always be the optimal value reachable\n",
    "    \n",
    "    #Now we set the set of reactions that lead to acetate uptake\n",
    "#     reaction_ACKr_actp_c = model.add_boundary(model.metabolites.get_by_id(\"actp_c\"))\n",
    "#     reaction_PTAr_hbtcoa_c = model.add_boundary(model.metabolites.get_by_id(\"accoa_c\"))\n",
    "    \n",
    "    #Before setting the new objective we have to look to basal fluxes of this reactions\n",
    "    flux_summary1 = model.metabolites.accoa_c.summary()\n",
    "#     flux_summary2 = model.metabolites.actp_c.summary()\n",
    "    \n",
    "    print(f\"PTAr (accoa_c) flux before setting objective: {round(flux_summary1.to_frame().loc['PTAr', 'flux'],4)}\")\n",
    "#   print(f\"ACKr (actp_c) flux before setting objective: {round(flux_summary2.to_frame().loc['ACKr', 'flux'],4)}\")\n",
    "    \n",
    "    growth = solution.objective_value\n",
    "    for i in range(1, 10):\n",
    "        growth = solution.objective_value\n",
    "        accoa_c_flux = solution.fluxes[\"PTAr\"]\n",
    "        model.reactions.PTAr.lower_bound = accoa_c_flux * i\n",
    "    \n",
    "        solution_overexpression = model.optimize()\n",
    "        growth_overexpression = solution_overexpression.objective_value\n",
    "\n",
    "        growth_reduction = growth - growth_overexpression \n",
    "        \n",
    "        growth_reduction_values.append(round(growth_reduction,4))\n",
    "        overexpression_factor_values.append(i)\n",
    "        \n",
    "    print(f\"\\nBasal optimal growth: {round(growth,4)}\")\n",
    "    print(f\"Growth reduction is: {round(growth_reduction,4)}\")\n",
    "    print(f\"\\nPTAr (accoa_c) flux after setting objective: {round(flux_summary1.to_frame().loc['PTAr', 'flux'] * i,4)}\")"
   ]
  },
  {
   "cell_type": "code",
   "execution_count": 42,
   "id": "54f89326",
   "metadata": {},
   "outputs": [
    {
     "data": {
      "image/png": "[encoded data removed]",
      "text/plain": [
       "<Figure size 432x288 with 1 Axes>"
      ]
     },
     "metadata": {
      "needs_background": "light"
     },
     "output_type": "display_data"
    }
   ],
   "source": [
    "plt.plot(overexpression_factor_values, growth_reduction_values, color='blue', linestyle='-', marker='', markersize=2, label='Growth reduction vs Overexpression')\n",
    "\n",
    "# Add labels and title\n",
    "plt.ylabel('Growth reduction')\n",
    "plt.xlabel('OV factor')\n",
    "\n",
    "# Show the plot\n",
    "plt.legend()\n",
    "plt.show()"
   ]
  },
  {
   "cell_type": "markdown",
   "id": "321354aa",
   "metadata": {},
   "source": [
    "Apparently, the overexpression on PTAr doesn't have any negative effect on the biomass production. Therefore we can overexpress the gene as much as needed, therefore avoid the bottleneck generated by the reaction itself."
   ]
  },
  {
   "cell_type": "code",
   "execution_count": 54,
   "id": "bc18dcb3",
   "metadata": {},
   "outputs": [
    {
     "name": "stdout",
     "output_type": "stream",
     "text": [
      "ACACT1r (aacoa_c) flux before setting objective: 0.3121\n",
      "PTAr (accoa_c) flux before setting objective: 0.5106\n",
      "\n",
      "Basal optimal growth: 0.877\n",
      "Growth reduction is: 0.0805\n",
      "\n",
      "ACACT1r (aacoa_c) flux after setting objective: 1.5605\n",
      "PTAr (accoa_c) flux after setting objective: 2.5529\n",
      "\n",
      "The percentage of growth reduction is: 8.05%\n",
      "Final growth is: 0.81\n"
     ]
    }
   ],
   "source": [
    "solution = model.optimize()\n",
    "#Now that we have set which will be the max biomass reachable...\n",
    "with model:\n",
    "    #Set bounds of biomass inside with model, therefore can be changed for simulation\n",
    "    model.reactions.BIOMASS_Ec_iML1515_core_75p37M.lower_bound = 0.8 * solution.objective_value\n",
    "    model.reactions.BIOMASS_Ec_iML1515_core_75p37M.upper_bound = solution.objective_value\n",
    "    #Max value will always be the optimal value reachable\n",
    "    \n",
    "    #Now we set the set of reactions that lead to P3HB production and are not included in the model\n",
    "    reaction_phaC_P3HB_c = model.add_boundary(model.metabolites.get_by_id(\"P3HB_c\"), type=\"demand\")\n",
    "    \n",
    "    #Before setting the new objective we have to look to basal fluxes of this reactions\n",
    "    flux_summary1 = model.metabolites.aacoa_c.summary()\n",
    "    flux_summary2 = model.metabolites.accoa_c.summary()\n",
    "\n",
    "    print(f\"ACACT1r (aacoa_c) flux before setting objective: {round(flux_summary1.to_frame().loc['ACACT1r', 'flux'],4)}\")\n",
    "    print(f\"PTAr (accoa_c) flux before setting objective: {round(flux_summary2.to_frame().loc['PTAr', 'flux'],4)}\")\n",
    "    \n",
    "    growth = solution.objective_value\n",
    "    \n",
    "    growth = solution.objective_value\n",
    "    aacoa_c_flux = solution.fluxes[\"ACACT1r\"]\n",
    "    accoa_c_flux = solution.fluxes['PTAr']\n",
    "    \n",
    "    model.reactions.ACACT1r.lower_bound = aacoa_c_flux * 5\n",
    "    model.reactions.PTAr.lower_bound = accoa_c_flux * 5\n",
    "    \n",
    "    solution_overexpression = model.optimize()\n",
    "    growth_overexpression = solution_overexpression.objective_value\n",
    "\n",
    "    growth_reduction = growth - growth_overexpression \n",
    "        \n",
    "    print(f\"\\nBasal optimal growth: {round(growth,4)}\")\n",
    "    print(f\"Growth reduction is: {round(growth_reduction,4)}\")\n",
    "    print(f\"\\nACACT1r (aacoa_c) flux after setting objective: {round(flux_summary1.to_frame().loc['ACACT1r', 'flux'] * 5,4)}\")\n",
    "    print(f\"PTAr (accoa_c) flux after setting objective: {round(flux_summary2.to_frame().loc['PTAr', 'flux'] * 5,4)}\")\n",
    "    print(f\"\\nThe percentage of growth reduction is: {round(growth_reduction * 100, 2)}%\")\n",
    "    print(f\"Final growth is: {round(growth - (growth_reduction * growth), 2)}\")"
   ]
  }
 ],
 "metadata": {
  "kernelspec": {
   "display_name": "Python 3 (ipykernel)",
   "language": "python",
   "name": "python3"
  },
  "language_info": {
   "codemirror_mode": {
    "name": "ipython",
    "version": 3
   },
   "file_extension": ".py",
   "mimetype": "text/x-python",
   "name": "python",
   "nbconvert_exporter": "python",
   "pygments_lexer": "ipython3",
   "version": "3.9.12"
  }
 },
 "nbformat": 4,
 "nbformat_minor": 5
}

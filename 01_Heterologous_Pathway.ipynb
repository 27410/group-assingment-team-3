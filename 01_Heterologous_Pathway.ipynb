{
 "cells": [
  {
   "cell_type": "markdown",
   "id": "3a36ece1",
   "metadata": {},
   "source": [
    "We read model:"
   ]
  },
  {
   "cell_type": "code",
   "execution_count": 25,
   "id": "a6645dad",
   "metadata": {},
   "outputs": [
    {
     "data": {
      "text/html": [
       "\n",
       "        <table>\n",
       "            <tr>\n",
       "                <td><strong>Name</strong></td>\n",
       "                <td>iML1515</td>\n",
       "            </tr><tr>\n",
       "                <td><strong>Memory address</strong></td>\n",
       "                <td>1ec5de2c410</td>\n",
       "            </tr><tr>\n",
       "                <td><strong>Number of metabolites</strong></td>\n",
       "                <td>1877</td>\n",
       "            </tr><tr>\n",
       "                <td><strong>Number of reactions</strong></td>\n",
       "                <td>2712</td>\n",
       "            </tr><tr>\n",
       "                <td><strong>Number of genes</strong></td>\n",
       "                <td>1516</td>\n",
       "            </tr><tr>\n",
       "                <td><strong>Number of groups</strong></td>\n",
       "                <td>0</td>\n",
       "            </tr><tr>\n",
       "                <td><strong>Objective expression</strong></td>\n",
       "                <td>1.0*BIOMASS_Ec_iML1515_core_75p37M - 1.0*BIOMASS_Ec_iML1515_core_75p37M_reverse_35685</td>\n",
       "            </tr><tr>\n",
       "                <td><strong>Compartments</strong></td>\n",
       "                <td>cytosol, extracellular space, periplasm</td>\n",
       "            </tr>\n",
       "          </table>"
      ],
      "text/plain": [
       "<Model iML1515 at 0x1ec5de2c410>"
      ]
     },
     "execution_count": 25,
     "metadata": {},
     "output_type": "execute_result"
    }
   ],
   "source": [
    "# First, we can import some functions so we can use the model\n",
    "from cobra.io import read_sbml_model, write_sbml_model\n",
    "from cobra import Reaction, Metabolite\n",
    "\n",
    "# Second, we can read the GEM and save it as ‘model’\n",
    "model = read_sbml_model('data/iML1515.xml')\n",
    "\n",
    "# Third, we can show general information about the loaded model\n",
    "model"
   ]
  },
  {
   "cell_type": "markdown",
   "id": "fbe03e02",
   "metadata": {},
   "source": [
    "We add reactions and metabolites:"
   ]
  },
  {
   "cell_type": "code",
   "execution_count": 26,
   "id": "3b8dcedc",
   "metadata": {
    "scrolled": true
   },
   "outputs": [
    {
     "name": "stdout",
     "output_type": "stream",
     "text": [
      "Acetate ac_c\n",
      "Acetate ac_e\n",
      "Acetate ac_p\n",
      "Acetyl-CoA accoa_c\n",
      "Acetoacetyl-CoA aacoa_c\n",
      "Acetyl-CoA synthetase ACS: ac_c + atp_c + coa_c --> accoa_c + amp_c + ppi_c\n",
      "Acetyl-CoA carboxylase ACCOAC: accoa_c + atp_c + hco3_c --> adp_c + h_c + malcoa_c + pi_c\n",
      "Acetyl-CoA:acetoacetyl-CoA transferase ACACCT: acac_c + accoa_c --> aacoa_c + ac_c\n",
      "Acetyl-CoA:butyrate-CoA transferase BUTCT: accoa_c + but_c --> ac_c + btcoa_c\n",
      "Acetyl-CoA ACP transacylase ACOATA: ACP_c + accoa_c <=> acACP_c + coa_c\n",
      "Acetyl-CoA C-acyltransferase (tetradecanoyl-CoA) (r) ACACT7r: accoa_c + tdcoa_c <=> 3ohdcoa_c + coa_c\n",
      "Acetyl-CoA C-acyltransferase (butanoyl-CoA) (r) ACACT2r: accoa_c + btcoa_c <=> 3ohcoa_c + coa_c\n",
      "Acetyl-CoA C-acyltransferase (hexanoyl-CoA) (r) ACACT3r: accoa_c + hxcoa_c <=> 3oocoa_c + coa_c\n",
      "Acetyl-CoA C-acyltransferase (octanoyl-CoA) (r) ACACT4r: accoa_c + occoa_c <=> 3odcoa_c + coa_c\n",
      "Acetyl-CoA C-acyltransferase (decanoyl-CoA) (r) ACACT5r: accoa_c + dcacoa_c <=> 3oddcoa_c + coa_c\n",
      "Acetyl-CoA C-acyltransferase (dodecanoyl-CoA) (r) ACACT6r: accoa_c + ddcacoa_c <=> 3otdcoa_c + coa_c\n",
      "Acetyl-CoA:anthranilate acetyltransferase ACANTHAT: accoa_c + anth_c --> acanth_c + coa_c\n",
      "Acetyl-CoA C-acetyltransferase ACACT1r: 2.0 accoa_c <=> aacoa_c + coa_c\n",
      "Acetyl-CoA:hexanoate-CoA transferase HXCT: accoa_c + hxa_c --> ac_c + hxcoa_c\n",
      "Acetyl-CoA acyltransferase (hexadecanoyl-CoA), (r) ACACT8r: 3ohodcoa_c + coa_c <=> accoa_c + pmtcoa_c\n",
      "Acetyl-CoA:oxalate CoA-transferase ACOXT: accoa_c + oxa_c <=> ac_c + oxalcoa_c\n",
      "Acetate kinase ACKr: ac_c + atp_c <=> actp_c + adp_c\n",
      "Acetate exchange EX_ac_e: ac_e --> \n",
      "Acetate-CoA ligase (ADP-forming) ACCOAL: atp_c + coa_c + ppa_c --> adp_c + pi_c + ppcoa_c\n",
      "Acetate transport via diffusion (extracellular to periplasm) ACtex: ac_e <=> ac_p\n",
      "Na+/Acetate symport (periplasm) ACt4pp: ac_p + na1_p --> ac_c + na1_c\n",
      "Acetate reversible transport via proton symport (periplasm) ACt2rpp: ac_p + h_p <=> ac_c + h_c\n"
     ]
    }
   ],
   "source": [
    "for metabolite in model.metabolites.query('Acetate', 'name'):\n",
    "    print(metabolite.name, metabolite.id)                           # ac_c\n",
    "\n",
    "for metabolite in model.metabolites.query('Acetyl-CoA', 'name'):\n",
    "    print(metabolite.name, metabolite.id)                           # accoa_c\n",
    "    \n",
    "for metabolite in model.metabolites.query('Acetoacetyl-CoA', 'name'):\n",
    "    print(metabolite.name, metabolite.id)                           # aacoa_c\n",
    "    \n",
    "for metabolite in model.metabolites.query('3-hydroxybutyryl-CoA', 'name'):\n",
    "    print(metabolite.name, metabolite.id)                           # NA\n",
    "    \n",
    "for reaction in model.reactions.query('Acetyl-CoA', 'name'):\n",
    "    print(reaction.name, reaction)                                  # Reaction for phaA corresponds to ACACT1r\n",
    "    \n",
    "for reaction in model.reactions.query('Acetate', 'name'):\n",
    "    print(reaction.name, reaction)                                  # Reaction for acs ACS"
   ]
  },
  {
   "cell_type": "code",
   "execution_count": 27,
   "id": "90e54082",
   "metadata": {},
   "outputs": [],
   "source": [
    "# phaB reaction\n",
    "\n",
    "new_reaction1 = Reaction('phaB', 'Acetoacetyl-CoA: 3-Hydroxybutyryl-CoA reductase')  # The reaction corresponding to phaB\n",
    "\n",
    "# phaB uses:\n",
    "## Acetoacetyl-CoA + NADPH + H+ <=> 3-Hydroxybutyryl-CoA + NADP+\n",
    "## We can find these as: (Note: All of these are in the cytoplasm)\n",
    "### Acetoacetyl-CoA      = aacoa_c\n",
    "### NADPH                = nadph_c\n",
    "### H+                   = h_c\n",
    "### \n",
    "### 3-Hydroxybutyryl-CoA = Not yet defined\n",
    "### NADP+                = nadp_c\n",
    "\n",
    "# Since 3-Hydroxybutyryl-CoA does not exist in the model, we will have to define it before.\n",
    "hydroxybutyrylCoA = Metabolite(id='hbtcoa_c', name='3-Hydroxybutyryl-CoA', compartment='c', formula='C25H42N7O18P3S')\n",
    "\n",
    "\n",
    "# We can now define the reaction stoichiometry:\n",
    "new_reaction1.add_metabolites({\n",
    "                            model.metabolites.get_by_id(\"aacoa_c\"): -1,\n",
    "                            model.metabolites.get_by_id(\"nadph_c\"): -1,\n",
    "                            model.metabolites.get_by_id(\"h_c\"): -1,\n",
    "                            hydroxybutyrylCoA: 1,\n",
    "                            model.metabolites.get_by_id(\"nadp_c\"): 1\n",
    "                             })\n",
    "\n",
    "model.add_reactions([new_reaction1])"
   ]
  },
  {
   "cell_type": "code",
   "execution_count": 28,
   "id": "67f16ca3",
   "metadata": {},
   "outputs": [
    {
     "data": {
      "text/html": [
       "\n",
       "        <table>\n",
       "            <tr>\n",
       "                <td><strong>Reaction identifier</strong></td><td>phaB</td>\n",
       "            </tr><tr>\n",
       "                <td><strong>Name</strong></td><td>Acetoacetyl-CoA: 3-Hydroxybutyryl-CoA reductase</td>\n",
       "            </tr><tr>\n",
       "                <td><strong>Memory address</strong></td>\n",
       "                <td>0x1ec5d7d4210</td>\n",
       "            </tr><tr>\n",
       "                <td><strong>Stoichiometry</strong></td>\n",
       "                <td>\n",
       "                    <p style='text-align:right'>aacoa_c + h_c + nadph_c --> hbtcoa_c + nadp_c</p>\n",
       "                    <p style='text-align:right'>Acetoacetyl-CoA + H+ + Nicotinamide adenine dinucleotide phosphate - reduced --> 3-Hydroxybutyryl-CoA + Nicotinamide adenine dinucleotide phosphate</p>\n",
       "                </td>\n",
       "            </tr><tr>\n",
       "                <td><strong>GPR</strong></td><td></td>\n",
       "            </tr><tr>\n",
       "                <td><strong>Lower bound</strong></td><td>0.0</td>\n",
       "            </tr><tr>\n",
       "                <td><strong>Upper bound</strong></td><td>1000.0</td>\n",
       "            </tr>\n",
       "        </table>\n",
       "        "
      ],
      "text/plain": [
       "<Reaction phaB at 0x1ec5d7d4210>"
      ]
     },
     "execution_count": 28,
     "metadata": {},
     "output_type": "execute_result"
    }
   ],
   "source": [
    "model.reactions.phaB"
   ]
  },
  {
   "cell_type": "code",
   "execution_count": 29,
   "id": "3206e3f2",
   "metadata": {
    "scrolled": true
   },
   "outputs": [
    {
     "data": {
      "text/html": [
       "\n",
       "        <table>\n",
       "            <tr>\n",
       "                <td><strong>Metabolite identifier</strong></td><td>hbtcoa_c</td>\n",
       "            </tr><tr>\n",
       "                <td><strong>Name</strong></td><td>3-Hydroxybutyryl-CoA</td>\n",
       "            </tr><tr>\n",
       "                <td><strong>Memory address</strong></td>\n",
       "                <td>0x1ec5d7d6210</td>\n",
       "            </tr><tr>\n",
       "                <td><strong>Formula</strong></td><td>C25H42N7O18P3S</td>\n",
       "            </tr><tr>\n",
       "                <td><strong>Compartment</strong></td><td>c</td>\n",
       "            </tr><tr>\n",
       "                <td><strong>In 1 reaction(s)</strong></td><td>\n",
       "                    phaB\n",
       "                    </td>\n",
       "            </tr>\n",
       "        </table>"
      ],
      "text/plain": [
       "<Metabolite hbtcoa_c at 0x1ec5d7d6210>"
      ]
     },
     "execution_count": 29,
     "metadata": {},
     "output_type": "execute_result"
    }
   ],
   "source": [
    "model.metabolites.hbtcoa_c"
   ]
  },
  {
   "cell_type": "code",
   "execution_count": 30,
   "id": "93e07e56",
   "metadata": {},
   "outputs": [],
   "source": [
    "# phaC reaction\n",
    "\n",
    "new_reaction2 = Reaction('phaC', '3-Hydroxybutyryl-CoA: P3HB polymerization')  # The reaction corresponding to phaC\n",
    "\n",
    "# phaC uses:\n",
    "## 3-Hydroxybutyryl-CoA <=> P3HB + CoA\n",
    "## We can find these as: (Note: All of these are in the cytoplasm)\n",
    "### 3-Hydroxybutyryl-CoA = hbtcoa_c\n",
    "\n",
    "### P3HB                 = Not Defined yet\n",
    "### CoA                  = coa_c\n",
    "\n",
    "\n",
    "# Since 3-Hydroxybutyryl-CoA does not exist in the model, we will have to define it before.\n",
    "P3HB = Metabolite(id='P3HB_c', name='poly-3-Hydroxybutanoate', compartment='c', formula='[C4H6O2]n')\n",
    "\n",
    "\n",
    "# We can now define the reaction stoichiometry:\n",
    "new_reaction2.add_metabolites({\n",
    "                            model.metabolites.get_by_id(\"hbtcoa_c\"): -1,\n",
    "                            P3HB: 1,\n",
    "                            model.metabolites.get_by_id(\"coa_c\"): 1\n",
    "                             })\n",
    "\n",
    "model.add_reactions([new_reaction2])"
   ]
  },
  {
   "cell_type": "code",
   "execution_count": 31,
   "id": "6e7b01a3",
   "metadata": {
    "scrolled": true
   },
   "outputs": [
    {
     "data": {
      "text/html": [
       "\n",
       "        <table>\n",
       "            <tr>\n",
       "                <td><strong>Reaction identifier</strong></td><td>phaC</td>\n",
       "            </tr><tr>\n",
       "                <td><strong>Name</strong></td><td>3-Hydroxybutyryl-CoA: P3HB polymerization</td>\n",
       "            </tr><tr>\n",
       "                <td><strong>Memory address</strong></td>\n",
       "                <td>0x1ec5f2da6d0</td>\n",
       "            </tr><tr>\n",
       "                <td><strong>Stoichiometry</strong></td>\n",
       "                <td>\n",
       "                    <p style='text-align:right'>hbtcoa_c --> P3HB_c + coa_c</p>\n",
       "                    <p style='text-align:right'>3-Hydroxybutyryl-CoA --> poly-3-Hydroxybutanoate + Coenzyme A</p>\n",
       "                </td>\n",
       "            </tr><tr>\n",
       "                <td><strong>GPR</strong></td><td></td>\n",
       "            </tr><tr>\n",
       "                <td><strong>Lower bound</strong></td><td>0.0</td>\n",
       "            </tr><tr>\n",
       "                <td><strong>Upper bound</strong></td><td>1000.0</td>\n",
       "            </tr>\n",
       "        </table>\n",
       "        "
      ],
      "text/plain": [
       "<Reaction phaC at 0x1ec5f2da6d0>"
      ]
     },
     "execution_count": 31,
     "metadata": {},
     "output_type": "execute_result"
    }
   ],
   "source": [
    "model.reactions.phaC"
   ]
  },
  {
   "cell_type": "code",
   "execution_count": 32,
   "id": "76586fe6",
   "metadata": {
    "scrolled": true
   },
   "outputs": [
    {
     "data": {
      "text/html": [
       "\n",
       "        <table>\n",
       "            <tr>\n",
       "                <td><strong>Metabolite identifier</strong></td><td>P3HB_c</td>\n",
       "            </tr><tr>\n",
       "                <td><strong>Name</strong></td><td>poly-3-Hydroxybutanoate</td>\n",
       "            </tr><tr>\n",
       "                <td><strong>Memory address</strong></td>\n",
       "                <td>0x1ec5f2db510</td>\n",
       "            </tr><tr>\n",
       "                <td><strong>Formula</strong></td><td>[C4H6O2]n</td>\n",
       "            </tr><tr>\n",
       "                <td><strong>Compartment</strong></td><td>c</td>\n",
       "            </tr><tr>\n",
       "                <td><strong>In 1 reaction(s)</strong></td><td>\n",
       "                    phaC\n",
       "                    </td>\n",
       "            </tr>\n",
       "        </table>"
      ],
      "text/plain": [
       "<Metabolite P3HB_c at 0x1ec5f2db510>"
      ]
     },
     "execution_count": 32,
     "metadata": {},
     "output_type": "execute_result"
    }
   ],
   "source": [
    "model.metabolites.P3HB_c"
   ]
  },
  {
   "cell_type": "code",
   "execution_count": 35,
   "id": "771229ca",
   "metadata": {},
   "outputs": [
    {
     "name": "stdout",
     "output_type": "stream",
     "text": [
      "1.7894206549118252\n"
     ]
    }
   ],
   "source": [
    "# Here, we are testing if the intermediate compound can be produced\n",
    "r_phaA_exp = model.add_boundary(model.metabolites.get_by_id('aacoa_c'), type='demand')\n",
    "\n",
    "with model:\n",
    "    model.objective = r_phaA_exp\n",
    "    sol = model.optimize()\n",
    "    print(sol.objective_value)"
   ]
  },
  {
   "cell_type": "code",
   "execution_count": 33,
   "id": "1c0485a3",
   "metadata": {},
   "outputs": [
    {
     "name": "stdout",
     "output_type": "stream",
     "text": [
      "1.7621545003543546\n"
     ]
    }
   ],
   "source": [
    "# Here, we are testing if the intermediate compound can be produced\n",
    "r_phaB_exp = model.add_boundary(model.metabolites.get_by_id('hbtcoa_c'), type='demand')\n",
    "\n",
    "with model:\n",
    "    model.objective = r_phaB_exp\n",
    "    sol = model.optimize()\n",
    "    print(sol.objective_value)"
   ]
  },
  {
   "cell_type": "code",
   "execution_count": 34,
   "id": "c2ec26f8",
   "metadata": {},
   "outputs": [
    {
     "name": "stdout",
     "output_type": "stream",
     "text": [
      "12.283130434782642\n"
     ]
    }
   ],
   "source": [
    "# Here, we are testing if the intermediate compound can be accomulated\n",
    "r_phaC_exp = model.add_boundary(model.metabolites.get_by_id('P3HB_c'), type='sink')\n",
    "\n",
    "with model:\n",
    "    model.objective = r_phaC_exp\n",
    "    sol = model.optimize()\n",
    "    print(sol.objective_value)"
   ]
  },
  {
   "cell_type": "code",
   "execution_count": 36,
   "id": "0615584a",
   "metadata": {},
   "outputs": [
    {
     "name": "stdout",
     "output_type": "stream",
     "text": [
      "Max. p3HB production [mmol gDW^-1 h^-1]: 12.283130434782572\n"
     ]
    },
    {
     "ename": "AttributeError",
     "evalue": "DictList has no attribute or entry r_1714",
     "output_type": "error",
     "traceback": [
      "\u001b[1;31m---------------------------------------------------------------------------\u001b[0m",
      "\u001b[1;31mKeyError\u001b[0m                                  Traceback (most recent call last)",
      "File \u001b[1;32m~\\anaconda3\\Lib\\site-packages\\cobra\\core\\dictlist.py:525\u001b[0m, in \u001b[0;36mDictList.__getattr__\u001b[1;34m(self, attr)\u001b[0m\n\u001b[0;32m    524\u001b[0m \u001b[38;5;28;01mtry\u001b[39;00m:\n\u001b[1;32m--> 525\u001b[0m     \u001b[38;5;28;01mreturn\u001b[39;00m DictList\u001b[38;5;241m.\u001b[39mget_by_id(\u001b[38;5;28mself\u001b[39m, attr)\n\u001b[0;32m    526\u001b[0m \u001b[38;5;28;01mexcept\u001b[39;00m \u001b[38;5;167;01mKeyError\u001b[39;00m:\n",
      "File \u001b[1;32m~\\anaconda3\\Lib\\site-packages\\cobra\\core\\dictlist.py:73\u001b[0m, in \u001b[0;36mDictList.get_by_id\u001b[1;34m(self, id)\u001b[0m\n\u001b[0;32m     72\u001b[0m \u001b[38;5;250m\u001b[39m\u001b[38;5;124;03m\"\"\"Return the element with a matching id.\"\"\"\u001b[39;00m\n\u001b[1;32m---> 73\u001b[0m \u001b[38;5;28;01mreturn\u001b[39;00m \u001b[38;5;28mlist\u001b[39m\u001b[38;5;241m.\u001b[39m\u001b[38;5;21m__getitem__\u001b[39m(\u001b[38;5;28mself\u001b[39m, \u001b[38;5;28mself\u001b[39m\u001b[38;5;241m.\u001b[39m_dict[\u001b[38;5;28mid\u001b[39m])\n",
      "\u001b[1;31mKeyError\u001b[0m: 'r_1714'",
      "\nDuring handling of the above exception, another exception occurred:\n",
      "\u001b[1;31mAttributeError\u001b[0m                            Traceback (most recent call last)",
      "Cell \u001b[1;32mIn[36], line 5\u001b[0m\n\u001b[0;32m      3\u001b[0m P3HB_production \u001b[38;5;241m=\u001b[39m model\u001b[38;5;241m.\u001b[39moptimize()\u001b[38;5;241m.\u001b[39mobjective_value\n\u001b[0;32m      4\u001b[0m \u001b[38;5;28mprint\u001b[39m(\u001b[38;5;124m\"\u001b[39m\u001b[38;5;124mMax. p3HB production [mmol gDW^-1 h^-1]:\u001b[39m\u001b[38;5;124m\"\u001b[39m, P3HB_production)\n\u001b[1;32m----> 5\u001b[0m \u001b[38;5;28mprint\u001b[39m(\u001b[38;5;124m\"\u001b[39m\u001b[38;5;124mTheoretical max. yield [mmol-DH / mmol-glucose]:\u001b[39m\u001b[38;5;124m\"\u001b[39m, P3HB_production \u001b[38;5;241m/\u001b[39m (\u001b[38;5;241m-\u001b[39m\u001b[38;5;241m1\u001b[39m\u001b[38;5;241m*\u001b[39mmodel\u001b[38;5;241m.\u001b[39mreactions\u001b[38;5;241m.\u001b[39mr_1714\u001b[38;5;241m.\u001b[39mflux))\n\u001b[0;32m      6\u001b[0m max_yield_mmol\u001b[38;5;241m=\u001b[39mP3HB_production \u001b[38;5;241m/\u001b[39m (\u001b[38;5;241m-\u001b[39m\u001b[38;5;241m1\u001b[39m\u001b[38;5;241m*\u001b[39mmodel\u001b[38;5;241m.\u001b[39mreactions\u001b[38;5;241m.\u001b[39mr_1714\u001b[38;5;241m.\u001b[39mflux)\n",
      "File \u001b[1;32m~\\anaconda3\\Lib\\site-packages\\cobra\\core\\dictlist.py:527\u001b[0m, in \u001b[0;36mDictList.__getattr__\u001b[1;34m(self, attr)\u001b[0m\n\u001b[0;32m    525\u001b[0m     \u001b[38;5;28;01mreturn\u001b[39;00m DictList\u001b[38;5;241m.\u001b[39mget_by_id(\u001b[38;5;28mself\u001b[39m, attr)\n\u001b[0;32m    526\u001b[0m \u001b[38;5;28;01mexcept\u001b[39;00m \u001b[38;5;167;01mKeyError\u001b[39;00m:\n\u001b[1;32m--> 527\u001b[0m     \u001b[38;5;28;01mraise\u001b[39;00m \u001b[38;5;167;01mAttributeError\u001b[39;00m(\u001b[38;5;124mf\u001b[39m\u001b[38;5;124m\"\u001b[39m\u001b[38;5;124mDictList has no attribute or entry \u001b[39m\u001b[38;5;132;01m{\u001b[39;00mattr\u001b[38;5;132;01m}\u001b[39;00m\u001b[38;5;124m\"\u001b[39m)\n",
      "\u001b[1;31mAttributeError\u001b[0m: DictList has no attribute or entry r_1714"
     ]
    }
   ],
   "source": [
    "with model:\n",
    "    model.objective = model.reactions.phaC\n",
    "    P3HB_production = model.optimize().objective_value\n",
    "    print(\"Max. p3HB production [mmol gDW^-1 h^-1]:\", P3HB_production)\n",
    "    print(\"Theoretical max. yield [mmol-DH / mmol-glucose]:\", P3HB_production / (-1*model.reactions.r_1714.flux))\n",
    "    max_yield_mmol=P3HB_production / (-1*model.reactions.r_1714.flux)"
   ]
  }
 ],
 "metadata": {
  "kernelspec": {
   "display_name": "Python 3 (ipykernel)",
   "language": "python",
   "name": "python3"
  },
  "language_info": {
   "codemirror_mode": {
    "name": "ipython",
    "version": 3
   },
   "file_extension": ".py",
   "mimetype": "text/x-python",
   "name": "python",
   "nbconvert_exporter": "python",
   "pygments_lexer": "ipython3",
   "version": "3.11.4"
  }
 },
 "nbformat": 4,
 "nbformat_minor": 5
}

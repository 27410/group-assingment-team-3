{
 "cells": [
  {
   "cell_type": "code",
   "execution_count": 44,
   "id": "0353e671",
   "metadata": {},
   "outputs": [],
   "source": [
    "import numpy as np\n",
    "from cobra.flux_analysis import flux_variability_analysis\n",
    "import pandas as pd"
   ]
  },
  {
   "cell_type": "code",
   "execution_count": 64,
   "id": "7d2d40ad",
   "metadata": {},
   "outputs": [],
   "source": [
    "model_glucose = cobra.io.read_sbml_model('data/iML1515_het.xml')\n",
    "model_acetate = cobra.io.read_sbml_model('data/iML1515_het_acetate.xml')"
   ]
  },
  {
   "cell_type": "code",
   "execution_count": 65,
   "id": "97303a43",
   "metadata": {},
   "outputs": [
    {
     "name": "stdout",
     "output_type": "stream",
     "text": [
      "                                                    Flux Difference\n",
      "ATPS4rpp: adp_c + 4.0 h_p + pi_c <=> atp_c + h2...       -37.924311\n",
      "EX_h2o_e: h2o_e <=>                                      -34.265553\n",
      "H2Otex: h2o_e <=> h2o_p                                   30.237833\n",
      "H2Otpp: h2o_p <=> h2o_c                                   30.237833\n",
      "FRD2: fum_c + mql8_c --> mqn8_c + succ_c                 -23.272483\n",
      "NADH16pp: 4.0 h_c + nadh_c + q8_c --> 3.0 h_p +...       -23.050357\n",
      "NADH18pp: 2dmmq8_c + 4.0 h_c + nadh_c --> 2dmmq...       -23.050357\n",
      "FRD3: 2dmmql8_c + fum_c --> 2dmmq8_c + succ_c            -23.050357\n",
      "NADH17pp: 4.0 h_c + mqn8_c + nadh_c --> 3.0 h_p...       -23.050357\n",
      "SUCDi: q8_c + succ_c --> fum_c + q8h2_c                  -22.404552\n"
     ]
    }
   ],
   "source": [
    "fva_glucose = flux_variability_analysis(model_glucose, model_glucose.reactions)\n",
    "fva_acetate = flux_variability_analysis(model_acetate, model_acetate.reactions)\n",
    "\n",
    "# Extract the flux values from the matrices\n",
    "flux_values_glucose = fva_glucose[\"maximum\"].values\n",
    "flux_values_acetate = fva_acetate[\"maximum\"].values\n",
    "\n",
    "# Calculate the matrix of differences\n",
    "flux_differences = flux_values_acetate - flux_values_glucose\n",
    "\n",
    "# Create a DataFrame for better visualization\n",
    "result_matrix = pd.DataFrame(data=flux_differences, index=model_glucose.reactions, columns=[\"Flux Difference\"])\n",
    "\n",
    "# Add a column for absolute flux differences\n",
    "result_matrix[\"Absolute Flux Difference\"] = np.abs(result_matrix[\"Flux Difference\"])\n",
    "\n",
    "# Sort the values by the absolute flux differences in descending order\n",
    "result_matrix = result_matrix.sort_values(by=\"Absolute Flux Difference\", ascending=False)\n",
    "\n",
    "# Keep only the top 10 reactions\n",
    "top_10_reactions = result_matrix.head(10)\n",
    "\n",
    "# Drop the temporary columns used for sorting\n",
    "top_10_reactions = top_10_reactions.drop(columns=[\"Absolute Flux Difference\"])\n",
    "\n",
    "# Save the top 10 reactions to a CSV file\n",
    "top_10_reactions.to_csv(\"top_10_flux_differences.csv\")\n",
    "\n",
    "print(top_10_reactions)\n"
   ]
  },
  {
   "cell_type": "code",
   "execution_count": null,
   "id": "1e0fd3bd",
   "metadata": {},
   "outputs": [],
   "source": [
    "añadir descripcion genes (relacion con el cambio de medio)"
   ]
  }
 ],
 "metadata": {
  "kernelspec": {
   "display_name": "Python 3 (ipykernel)",
   "language": "python",
   "name": "python3"
  },
  "language_info": {
   "codemirror_mode": {
    "name": "ipython",
    "version": 3
   },
   "file_extension": ".py",
   "mimetype": "text/x-python",
   "name": "python",
   "nbconvert_exporter": "python",
   "pygments_lexer": "ipython3",
   "version": "3.9.12"
  }
 },
 "nbformat": 4,
 "nbformat_minor": 5
}

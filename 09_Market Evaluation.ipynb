{
 "cells": [
  {
   "cell_type": "markdown",
   "id": "e7b28b7b",
   "metadata": {},
   "source": [
    "Let's evaluate how much we should produce of bioplastic P3HB to be profitable cost-wise both using glucose or acetate as carbon source. "
   ]
  },
  {
   "cell_type": "markdown",
   "id": "13ed80f5",
   "metadata": {},
   "source": [
    "Market prices:\n",
    "1) P3HB: USD 10536,67/kg.\n",
    "2) Glucose: USD 0,60/kg.\n",
    "3) Glycerol: USD 1,80/kg. \n",
    "4) Acetate: USD 1,20/kg"
   ]
  },
  {
   "cell_type": "markdown",
   "id": "c04d2449",
   "metadata": {},
   "source": [
    "Minimum Yield to be profitable:\n",
    "- P3HB/Glc:\n",
    "- P3HB/Gly:\n",
    "- P3HB/Ace:"
   ]
  },
  {
   "cell_type": "markdown",
   "id": "58e6696f",
   "metadata": {},
   "source": []
  },
  {
   "cell_type": "code",
   "execution_count": null,
   "id": "4734ff7c",
   "metadata": {},
   "outputs": [],
   "source": []
  }
 ],
 "metadata": {
  "kernelspec": {
   "display_name": "Python 3 (ipykernel)",
   "language": "python",
   "name": "python3"
  },
  "language_info": {
   "codemirror_mode": {
    "name": "ipython",
    "version": 3
   },
   "file_extension": ".py",
   "mimetype": "text/x-python",
   "name": "python",
   "nbconvert_exporter": "python",
   "pygments_lexer": "ipython3",
   "version": "3.11.4"
  }
 },
 "nbformat": 4,
 "nbformat_minor": 5
}

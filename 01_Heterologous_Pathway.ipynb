{
 "cells": [
  {
   "cell_type": "markdown",
   "id": "7bf75081",
   "metadata": {},
   "source": [
    "# We read model:"
   ]
  },
  {
   "cell_type": "code",
   "execution_count": 1,
   "id": "99bdc09e",
   "metadata": {},
   "outputs": [
    {
     "data": {
      "text/html": [
       "\n",
       "        <table>\n",
       "            <tr>\n",
       "                <td><strong>Name</strong></td>\n",
       "                <td>iML1515</td>\n",
       "            </tr><tr>\n",
       "                <td><strong>Memory address</strong></td>\n",
       "                <td>1b226d42790</td>\n",
       "            </tr><tr>\n",
       "                <td><strong>Number of metabolites</strong></td>\n",
       "                <td>1877</td>\n",
       "            </tr><tr>\n",
       "                <td><strong>Number of reactions</strong></td>\n",
       "                <td>2712</td>\n",
       "            </tr><tr>\n",
       "                <td><strong>Number of genes</strong></td>\n",
       "                <td>1516</td>\n",
       "            </tr><tr>\n",
       "                <td><strong>Number of groups</strong></td>\n",
       "                <td>0</td>\n",
       "            </tr><tr>\n",
       "                <td><strong>Objective expression</strong></td>\n",
       "                <td>1.0*BIOMASS_Ec_iML1515_core_75p37M - 1.0*BIOMASS_Ec_iML1515_core_75p37M_reverse_35685</td>\n",
       "            </tr><tr>\n",
       "                <td><strong>Compartments</strong></td>\n",
       "                <td>cytosol, extracellular space, periplasm</td>\n",
       "            </tr>\n",
       "          </table>"
      ],
      "text/plain": [
       "<Model iML1515 at 0x1b226d42790>"
      ]
     },
     "execution_count": 1,
     "metadata": {},
     "output_type": "execute_result"
    }
   ],
   "source": [
    "# First, we can import some functions so we can use the model\n",
    "from cobra.io import read_sbml_model, write_sbml_model\n",
    "from cobra import Reaction, Metabolite\n",
    "\n",
    "# Second, we can read the GEM and save it as ‘model’\n",
    "model = read_sbml_model('data/iML1515.xml')\n",
    "\n",
    "# Third, we can show general information about the loaded model\n",
    "model"
   ]
  },
  {
   "cell_type": "markdown",
   "id": "d4d20cb1",
   "metadata": {},
   "source": [
    "## We frist check for the needed reactions and metabolites already existing in the model:"
   ]
  },
  {
   "cell_type": "markdown",
   "id": "a563ccf7",
   "metadata": {},
   "source": [
    "### The pathway:"
   ]
  },
  {
   "cell_type": "markdown",
   "id": "06058bf4",
   "metadata": {},
   "source": [
    "ac_c <--ACKr--> actp_c <--PTAr--> accoa_c <--ACACT1r--> aacoa_c <--HACD1--> 3hbcoa_c --phaC--> P3HB"
   ]
  },
  {
   "cell_type": "code",
   "execution_count": 2,
   "id": "ae34fa5b",
   "metadata": {},
   "outputs": [
    {
     "name": "stdout",
     "output_type": "stream",
     "text": [
      "Acetate ac_c C2H3O2\n",
      "Phenylacetic acid pac_c C8H7O2\n",
      "Sulfoacetate sulfac_c C2H2O5S\n",
      "Isethionic acid isetac_c C2H5O4S\n",
      "Acetoacetate acac_c C4H5O3\n",
      "3-Aminoacrylate 3amac_c C3H4NO2\n",
      "Nicotinate nac_c C6H4NO2\n",
      "Peroxyaminoacrylate poaac_c C3H5NO3\n"
     ]
    }
   ],
   "source": [
    "for metabolite in model.metabolites.query('ac_c', 'id'):\n",
    "    print(metabolite.name, metabolite.id, metabolite.formula)"
   ]
  },
  {
   "cell_type": "code",
   "execution_count": 3,
   "id": "799fb9ab",
   "metadata": {},
   "outputs": [
    {
     "name": "stdout",
     "output_type": "stream",
     "text": [
      "Acetate kinase ACKr: ac_c + atp_c <=> actp_c + adp_c\n"
     ]
    }
   ],
   "source": [
    "for reaction in model.reactions.query('ACKr', 'id'):\n",
    "    print(reaction.name, reaction)"
   ]
  },
  {
   "cell_type": "code",
   "execution_count": 4,
   "id": "1e91c527",
   "metadata": {},
   "outputs": [
    {
     "name": "stdout",
     "output_type": "stream",
     "text": [
      "Acetyl phosphate actp_c C2H3O5P\n"
     ]
    }
   ],
   "source": [
    "for metabolite in model.metabolites.query('actp_c', 'id'):\n",
    "    print(metabolite.name, metabolite.id, metabolite.formula)"
   ]
  },
  {
   "cell_type": "code",
   "execution_count": 5,
   "id": "c1c64a0b",
   "metadata": {},
   "outputs": [
    {
     "name": "stdout",
     "output_type": "stream",
     "text": [
      "Phosphotransacetylase PTAr: accoa_c + pi_c <=> actp_c + coa_c\n"
     ]
    }
   ],
   "source": [
    "for reaction in model.reactions.query('PTAr', 'id'):\n",
    "    print(reaction.name, reaction)"
   ]
  },
  {
   "cell_type": "code",
   "execution_count": 6,
   "id": "0a514ef9",
   "metadata": {},
   "outputs": [
    {
     "name": "stdout",
     "output_type": "stream",
     "text": [
      "Phenylacetyl-CoA phaccoa_c C29H38N7O17P3S\n",
      "Acetyl-CoA accoa_c C23H34N7O17P3S\n",
      "2-oxepin-2(3H)-ylideneacetyl-CoA 2oxpaccoa_c C29H38N7O18P3S\n",
      "Ring 1,2-epoxyphenylacetyl-CoA rephaccoa_c C29H38N7O18P3S\n"
     ]
    }
   ],
   "source": [
    "for metabolite in model.metabolites.query('accoa_c', 'id'):\n",
    "    print(metabolite.name, metabolite.id, metabolite.formula)"
   ]
  },
  {
   "cell_type": "code",
   "execution_count": 7,
   "id": "7dda50b8",
   "metadata": {},
   "outputs": [
    {
     "name": "stdout",
     "output_type": "stream",
     "text": [
      "Acetyl-CoA C-acetyltransferase ACACT1r: 2.0 accoa_c <=> aacoa_c + coa_c\n"
     ]
    }
   ],
   "source": [
    "for reaction in model.reactions.query('ACACT1r', 'id'):\n",
    "    print(reaction.name, reaction)"
   ]
  },
  {
   "cell_type": "code",
   "execution_count": 8,
   "id": "738f61ff",
   "metadata": {},
   "outputs": [
    {
     "name": "stdout",
     "output_type": "stream",
     "text": [
      "Acetoacetyl-CoA aacoa_c C25H36N7O18P3S\n"
     ]
    }
   ],
   "source": [
    "for metabolite in model.metabolites.query('aacoa_c', 'id'):\n",
    "    print(metabolite.name, metabolite.id, metabolite.formula)"
   ]
  },
  {
   "cell_type": "code",
   "execution_count": 9,
   "id": "c8d7b186",
   "metadata": {},
   "outputs": [
    {
     "name": "stdout",
     "output_type": "stream",
     "text": [
      "3-hydroxyacyl-CoA dehydrogenase (acetoacetyl-CoA) HACD1: aacoa_c + h_c + nadh_c <=> 3hbcoa_c + nad_c\n"
     ]
    }
   ],
   "source": [
    "for reaction in model.reactions.query('HACD1', 'id'):\n",
    "    print(reaction.name, reaction)"
   ]
  },
  {
   "cell_type": "code",
   "execution_count": 10,
   "id": "f520f520",
   "metadata": {},
   "outputs": [
    {
     "name": "stdout",
     "output_type": "stream",
     "text": [
      "(S)-3-Hydroxybutanoyl-CoA 3hbcoa_c C25H38N7O18P3S\n"
     ]
    }
   ],
   "source": [
    "for metabolite in model.metabolites.query('3hbcoa_c', 'id'):\n",
    "    print(metabolite.name, metabolite.id, metabolite.formula)"
   ]
  },
  {
   "cell_type": "code",
   "execution_count": 11,
   "id": "6750593d",
   "metadata": {},
   "outputs": [],
   "source": [
    "for reaction in model.reactions.query('phaC', 'id'):\n",
    "    print(reaction.name, reaction)"
   ]
  },
  {
   "cell_type": "markdown",
   "id": "2fcd07f0",
   "metadata": {},
   "source": [
    "Not Found"
   ]
  },
  {
   "cell_type": "code",
   "execution_count": 14,
   "id": "29e5bae2",
   "metadata": {},
   "outputs": [],
   "source": [
    "for metabolite in model.metabolites.query('P3HB', 'id'):\n",
    "    print(metabolite.name, metabolite.id, metabolite.formula)"
   ]
  },
  {
   "cell_type": "markdown",
   "id": "6df9d069",
   "metadata": {},
   "source": [
    "Not Found"
   ]
  },
  {
   "cell_type": "markdown",
   "id": "42daf0f0",
   "metadata": {},
   "source": [
    "## We add the missing reaction (phaC) and metabolite (P3HB):"
   ]
  },
  {
   "cell_type": "code",
   "execution_count": 15,
   "id": "59014933",
   "metadata": {},
   "outputs": [],
   "source": [
    "# phaC reaction\n",
    "\n",
    "new_reaction2 = Reaction('phaC', '3-Hydroxybutyryl-CoA: P3HB polymerization')  # The reaction corresponding to phaC\n",
    "\n",
    "# phaC uses:\n",
    "## 10*3-Hydroxybutyryl-CoA <=> P3HB + 10*CoA\n",
    "## We can find these as: (Note: All of these are in the cytoplasm)\n",
    "### 3-Hydroxybutyryl-CoA = 3hbcoa_c\n",
    "\n",
    "### P3HB                 = Not Defined yet\n",
    "### CoA                  = coa_c\n",
    "\n",
    "\n",
    "# Since Poly 3-hydroxibutanoate does not exist in the model, we will have to define it before.\n",
    "# Since it is a polymer of formula [C4H6O2]n and we cannot write that like this in the model, we'll assume n = 10.\n",
    "P3HB = Metabolite(id='P3HB_c', name='poly-3-Hydroxybutanoate', compartment='c', formula='C40H62O21')\n",
    "\n",
    "\n",
    "# We can now define the reaction stoichiometry:\n",
    "new_reaction2.add_metabolites({\n",
    "                            model.metabolites.get_by_id(\"3hbcoa_c\"): -10,\n",
    "                            P3HB: 1,\n",
    "                            model.metabolites.get_by_id(\"coa_c\"): 10\n",
    "                             })\n",
    "\n",
    "model.add_reactions([new_reaction2])"
   ]
  },
  {
   "cell_type": "code",
   "execution_count": 16,
   "id": "c4d5972f",
   "metadata": {
    "scrolled": true
   },
   "outputs": [
    {
     "data": {
      "text/html": [
       "\n",
       "        <table>\n",
       "            <tr>\n",
       "                <td><strong>Reaction identifier</strong></td><td>phaC</td>\n",
       "            </tr><tr>\n",
       "                <td><strong>Name</strong></td><td>3-Hydroxybutyryl-CoA: P3HB polymerization</td>\n",
       "            </tr><tr>\n",
       "                <td><strong>Memory address</strong></td>\n",
       "                <td>0x1b238bbab90</td>\n",
       "            </tr><tr>\n",
       "                <td><strong>Stoichiometry</strong></td>\n",
       "                <td>\n",
       "                    <p style='text-align:right'>10 3hbcoa_c --> P3HB_c + 10 coa_c</p>\n",
       "                    <p style='text-align:right'>10 (S)-3-Hydroxybutanoyl-CoA --> poly-3-Hydroxybutanoate + 10 Coenzyme A</p>\n",
       "                </td>\n",
       "            </tr><tr>\n",
       "                <td><strong>GPR</strong></td><td></td>\n",
       "            </tr><tr>\n",
       "                <td><strong>Lower bound</strong></td><td>0.0</td>\n",
       "            </tr><tr>\n",
       "                <td><strong>Upper bound</strong></td><td>1000.0</td>\n",
       "            </tr>\n",
       "        </table>\n",
       "        "
      ],
      "text/plain": [
       "<Reaction phaC at 0x1b238bbab90>"
      ]
     },
     "execution_count": 16,
     "metadata": {},
     "output_type": "execute_result"
    }
   ],
   "source": [
    "model.reactions.phaC"
   ]
  },
  {
   "cell_type": "code",
   "execution_count": 17,
   "id": "3216b0b7",
   "metadata": {
    "scrolled": false
   },
   "outputs": [
    {
     "data": {
      "text/html": [
       "\n",
       "        <table>\n",
       "            <tr>\n",
       "                <td><strong>Metabolite identifier</strong></td><td>P3HB_c</td>\n",
       "            </tr><tr>\n",
       "                <td><strong>Name</strong></td><td>poly-3-Hydroxybutanoate</td>\n",
       "            </tr><tr>\n",
       "                <td><strong>Memory address</strong></td>\n",
       "                <td>0x1b238b7d150</td>\n",
       "            </tr><tr>\n",
       "                <td><strong>Formula</strong></td><td>C40H62O21</td>\n",
       "            </tr><tr>\n",
       "                <td><strong>Compartment</strong></td><td>c</td>\n",
       "            </tr><tr>\n",
       "                <td><strong>In 1 reaction(s)</strong></td><td>\n",
       "                    phaC\n",
       "                    </td>\n",
       "            </tr>\n",
       "        </table>"
      ],
      "text/plain": [
       "<Metabolite P3HB_c at 0x1b238b7d150>"
      ]
     },
     "execution_count": 17,
     "metadata": {},
     "output_type": "execute_result"
    }
   ],
   "source": [
    "model.metabolites.P3HB_c"
   ]
  },
  {
   "cell_type": "markdown",
   "id": "bae5d2ea",
   "metadata": {},
   "source": [
    "## Let's do some testing:"
   ]
  },
  {
   "cell_type": "code",
   "execution_count": 18,
   "id": "81b647b2",
   "metadata": {},
   "outputs": [
    {
     "name": "stdout",
     "output_type": "stream",
     "text": [
      "1.789420654911844\n"
     ]
    }
   ],
   "source": [
    "# Here, we are testing if the intermediate compound can be produced\n",
    "\n",
    "with model:\n",
    "    r_phaA_exp = model.add_boundary(model.metabolites.get_by_id('aacoa_c'), type='demand')\n",
    "    model.objective = r_phaA_exp\n",
    "    sol = model.optimize()\n",
    "    print(sol.objective_value)"
   ]
  },
  {
   "cell_type": "code",
   "execution_count": 19,
   "id": "4e9707fc",
   "metadata": {},
   "outputs": [
    {
     "name": "stdout",
     "output_type": "stream",
     "text": [
      "1.7671641791044876\n"
     ]
    }
   ],
   "source": [
    "# Here, we are testing if the intermediate compound can be produced\n",
    "\n",
    "with model:\n",
    "    r_phaB_exp = model.add_boundary(model.metabolites.get_by_id('3hbcoa_c'), type='demand')\n",
    "    model.objective = r_phaB_exp\n",
    "    sol = model.optimize()\n",
    "    print(sol.objective_value)"
   ]
  },
  {
   "cell_type": "code",
   "execution_count": 20,
   "id": "362bb738",
   "metadata": {},
   "outputs": [
    {
     "name": "stdout",
     "output_type": "stream",
     "text": [
      "1.2500530973451296\n"
     ]
    }
   ],
   "source": [
    "# Here, we are testing if the intermediate compound can be accomulated\n",
    "\n",
    "with model:\n",
    "    r_phaC_exp = model.add_boundary(model.metabolites.get_by_id('P3HB_c'), type='sink')\n",
    "    model.objective = r_phaC_exp\n",
    "    sol = model.optimize()\n",
    "    print(sol.objective_value)"
   ]
  },
  {
   "cell_type": "markdown",
   "id": "6a812224",
   "metadata": {},
   "source": [
    "## Let's save the new model:"
   ]
  },
  {
   "cell_type": "code",
   "execution_count": 22,
   "id": "e1d787f3",
   "metadata": {},
   "outputs": [],
   "source": [
    "write_sbml_model(model, \"data/iML1515_het.xml\")"
   ]
  },
  {
   "cell_type": "code",
   "execution_count": 23,
   "id": "6227c36e",
   "metadata": {},
   "outputs": [
    {
     "data": {
      "text/html": [
       "<h3>Objective</h3><p>1.0 BIOMASS_Ec_iML1515_core_75p37M = 0.8769972144269664</p><h4>Uptake</h4><table border=\"1\" class=\"dataframe\">\n",
       "  <thead>\n",
       "    <tr style=\"text-align: right;\">\n",
       "      <th>Metabolite</th>\n",
       "      <th>Reaction</th>\n",
       "      <th>Flux</th>\n",
       "      <th>C-Number</th>\n",
       "      <th>C-Flux</th>\n",
       "    </tr>\n",
       "  </thead>\n",
       "  <tbody>\n",
       "    <tr>\n",
       "      <td>ca2_e</td>\n",
       "      <td>EX_ca2_e</td>\n",
       "      <td>0.004565</td>\n",
       "      <td>0</td>\n",
       "      <td>0.00%</td>\n",
       "    </tr>\n",
       "    <tr>\n",
       "      <td>cl_e</td>\n",
       "      <td>EX_cl_e</td>\n",
       "      <td>0.004565</td>\n",
       "      <td>0</td>\n",
       "      <td>0.00%</td>\n",
       "    </tr>\n",
       "    <tr>\n",
       "      <td>cobalt2_e</td>\n",
       "      <td>EX_cobalt2_e</td>\n",
       "      <td>2.192E-05</td>\n",
       "      <td>0</td>\n",
       "      <td>0.00%</td>\n",
       "    </tr>\n",
       "    <tr>\n",
       "      <td>cu2_e</td>\n",
       "      <td>EX_cu2_e</td>\n",
       "      <td>0.0006218</td>\n",
       "      <td>0</td>\n",
       "      <td>0.00%</td>\n",
       "    </tr>\n",
       "    <tr>\n",
       "      <td>fe2_e</td>\n",
       "      <td>EX_fe2_e</td>\n",
       "      <td>0.01409</td>\n",
       "      <td>0</td>\n",
       "      <td>0.00%</td>\n",
       "    </tr>\n",
       "    <tr>\n",
       "      <td>glc__D_e</td>\n",
       "      <td>EX_glc__D_e</td>\n",
       "      <td>10</td>\n",
       "      <td>6</td>\n",
       "      <td>100.00%</td>\n",
       "    </tr>\n",
       "    <tr>\n",
       "      <td>k_e</td>\n",
       "      <td>EX_k_e</td>\n",
       "      <td>0.1712</td>\n",
       "      <td>0</td>\n",
       "      <td>0.00%</td>\n",
       "    </tr>\n",
       "    <tr>\n",
       "      <td>mg2_e</td>\n",
       "      <td>EX_mg2_e</td>\n",
       "      <td>0.007608</td>\n",
       "      <td>0</td>\n",
       "      <td>0.00%</td>\n",
       "    </tr>\n",
       "    <tr>\n",
       "      <td>mn2_e</td>\n",
       "      <td>EX_mn2_e</td>\n",
       "      <td>0.000606</td>\n",
       "      <td>0</td>\n",
       "      <td>0.00%</td>\n",
       "    </tr>\n",
       "    <tr>\n",
       "      <td>mobd_e</td>\n",
       "      <td>EX_mobd_e</td>\n",
       "      <td>6.139E-06</td>\n",
       "      <td>0</td>\n",
       "      <td>0.00%</td>\n",
       "    </tr>\n",
       "    <tr>\n",
       "      <td>nh4_e</td>\n",
       "      <td>EX_nh4_e</td>\n",
       "      <td>9.471</td>\n",
       "      <td>0</td>\n",
       "      <td>0.00%</td>\n",
       "    </tr>\n",
       "    <tr>\n",
       "      <td>ni2_e</td>\n",
       "      <td>EX_ni2_e</td>\n",
       "      <td>0.0002833</td>\n",
       "      <td>0</td>\n",
       "      <td>0.00%</td>\n",
       "    </tr>\n",
       "    <tr>\n",
       "      <td>o2_e</td>\n",
       "      <td>EX_o2_e</td>\n",
       "      <td>22.13</td>\n",
       "      <td>0</td>\n",
       "      <td>0.00%</td>\n",
       "    </tr>\n",
       "    <tr>\n",
       "      <td>pi_e</td>\n",
       "      <td>EX_pi_e</td>\n",
       "      <td>0.846</td>\n",
       "      <td>0</td>\n",
       "      <td>0.00%</td>\n",
       "    </tr>\n",
       "    <tr>\n",
       "      <td>so4_e</td>\n",
       "      <td>EX_so4_e</td>\n",
       "      <td>0.2208</td>\n",
       "      <td>0</td>\n",
       "      <td>0.00%</td>\n",
       "    </tr>\n",
       "    <tr>\n",
       "      <td>zn2_e</td>\n",
       "      <td>EX_zn2_e</td>\n",
       "      <td>0.0002991</td>\n",
       "      <td>0</td>\n",
       "      <td>0.00%</td>\n",
       "    </tr>\n",
       "  </tbody>\n",
       "</table><h4>Secretion</h4><table border=\"1\" class=\"dataframe\">\n",
       "  <thead>\n",
       "    <tr style=\"text-align: right;\">\n",
       "      <th>Metabolite</th>\n",
       "      <th>Reaction</th>\n",
       "      <th>Flux</th>\n",
       "      <th>C-Number</th>\n",
       "      <th>C-Flux</th>\n",
       "    </tr>\n",
       "  </thead>\n",
       "  <tbody>\n",
       "    <tr>\n",
       "      <td>4crsol_c</td>\n",
       "      <td>DM_4crsol_c</td>\n",
       "      <td>-0.0001956</td>\n",
       "      <td>7</td>\n",
       "      <td>0.01%</td>\n",
       "    </tr>\n",
       "    <tr>\n",
       "      <td>5drib_c</td>\n",
       "      <td>DM_5drib_c</td>\n",
       "      <td>-0.0001973</td>\n",
       "      <td>5</td>\n",
       "      <td>0.00%</td>\n",
       "    </tr>\n",
       "    <tr>\n",
       "      <td>amob_c</td>\n",
       "      <td>DM_amob_c</td>\n",
       "      <td>-1.754E-06</td>\n",
       "      <td>15</td>\n",
       "      <td>0.00%</td>\n",
       "    </tr>\n",
       "    <tr>\n",
       "      <td>co2_e</td>\n",
       "      <td>EX_co2_e</td>\n",
       "      <td>-24</td>\n",
       "      <td>1</td>\n",
       "      <td>99.99%</td>\n",
       "    </tr>\n",
       "    <tr>\n",
       "      <td>h2o_e</td>\n",
       "      <td>EX_h2o_e</td>\n",
       "      <td>-47.16</td>\n",
       "      <td>0</td>\n",
       "      <td>0.00%</td>\n",
       "    </tr>\n",
       "    <tr>\n",
       "      <td>h_e</td>\n",
       "      <td>EX_h_e</td>\n",
       "      <td>-8.058</td>\n",
       "      <td>0</td>\n",
       "      <td>0.00%</td>\n",
       "    </tr>\n",
       "    <tr>\n",
       "      <td>meoh_e</td>\n",
       "      <td>EX_meoh_e</td>\n",
       "      <td>-1.754E-06</td>\n",
       "      <td>1</td>\n",
       "      <td>0.00%</td>\n",
       "    </tr>\n",
       "  </tbody>\n",
       "</table>"
      ],
      "text/plain": [
       "<cobra.summary.model_summary.ModelSummary at 0x1b238bbae10>"
      ]
     },
     "execution_count": 23,
     "metadata": {},
     "output_type": "execute_result"
    }
   ],
   "source": [
    "model.summary()"
   ]
  }
 ],
 "metadata": {
  "kernelspec": {
   "display_name": "Python 3 (ipykernel)",
   "language": "python",
   "name": "python3"
  },
  "language_info": {
   "codemirror_mode": {
    "name": "ipython",
    "version": 3
   },
   "file_extension": ".py",
   "mimetype": "text/x-python",
   "name": "python",
   "nbconvert_exporter": "python",
   "pygments_lexer": "ipython3",
   "version": "3.9.12"
  }
 },
 "nbformat": 4,
 "nbformat_minor": 5
}

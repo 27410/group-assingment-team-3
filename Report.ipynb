{
 "cells": [
  {
   "cell_type": "markdown",
   "id": "98bd8e29",
   "metadata": {},
   "source": [
    "# Biotin porduction in E. coli K12"
   ]
  },
  {
   "cell_type": "markdown",
   "id": "298555a0",
   "metadata": {},
   "source": [
    "## 1. Introduction"
   ]
  },
  {
   "cell_type": "markdown",
   "id": "280ef973",
   "metadata": {},
   "source": [
    "### 1.1 Literature review of the compound (<500 words)"
   ]
  },
  {
   "cell_type": "markdown",
   "id": "902fa23d",
   "metadata": {},
   "source": [
    "The newe text that we can add here + 1\n",
    "Hello this is just a test "
   ]
  },
  {
   "cell_type": "markdown",
   "id": "6ca663d7",
   "metadata": {},
   "source": [
    "### 1.2 Literature review of the cell factory (<500 words)"
   ]
  },
  {
   "cell_type": "markdown",
   "id": "dab79581",
   "metadata": {},
   "source": [
    "•\tGeneral advantages\n",
    "\n",
    "1.\tLow energy requirements\n",
    "\n",
    "2.\tIncreased output\n",
    "\n",
    "3.\tShorter lead time\n",
    "\n",
    "4.\tConsistent quality and purity of the product\n",
    "\n",
    "5.\tSustainability of product production\n",
    "\n",
    "6.\tPotentail customization of production\n",
    "\n",
    "•\tGeneral disadvantages\n",
    "\n",
    "1.\tDifficulties in maintaining in vitro cells in particular conditions\n",
    "\n",
    "2.\tSometimes the process is not profitable\n",
    "\n",
    "3.\tComplexity in establishing the proper proces\n",
    "\n",
    "4.\tRegulatory difficulties with related strains and its modifications\n",
    "\n",
    "•\tSuitability of the cell factory for the product\n",
    "\n",
    "The traditional method of biotin production involves chemical synthesis, which is energy-intensive and environmentally hazardous .\n",
    "In contrast, microbial cell factories offer a sustainable and eco-friendly alternative for biotin production.\n",
    "They are engineered microbes that can produce biotin in closed bioreactors with high efficiency, specificity, and low energy requirements .\n",
    "The use of cell factories for biotin production has several advantages over traditional methods.\n",
    "Firstly, it is a green and sustainable process that reduces the environmental impact of biotin production.\n",
    "Secondly, it offers higher productivity and improved quality control compared to chemical synthesis methods.\n",
    "Thirdly, it provides greater flexibility in terms of product customization and optimization.\n",
    "Finally, it is a cost-effective approach that reduces the overall production cost of biotin.\n"
   ]
  },
  {
   "cell_type": "markdown",
   "id": "bf9fba4c",
   "metadata": {},
   "source": [
    "## 2. Problem definition (<300 words)"
   ]
  },
  {
   "cell_type": "markdown",
   "id": "ce036303",
   "metadata": {},
   "source": [
    "## 3. *If Project category I:* Reconstruction of a new GSM for your cell factory host of interest (<1500 words)"
   ]
  },
  {
   "cell_type": "markdown",
   "id": "e9a6e086",
   "metadata": {},
   "source": [
    "or"
   ]
  },
  {
   "cell_type": "markdown",
   "id": "697c83f4",
   "metadata": {},
   "source": [
    "## 3. *If Project category II:* Selection and assessment of existing GSM (<500 words)"
   ]
  },
  {
   "cell_type": "markdown",
   "id": "5cd0bd45",
   "metadata": {},
   "source": [
    "## 4. Computer-Aided Cell Factory Engineering (<1500 words if Category II project; <500 words for Category I project)"
   ]
  },
  {
   "cell_type": "markdown",
   "id": "0755a46d",
   "metadata": {},
   "source": [
    "Import needed libreries"
   ]
  },
  {
   "cell_type": "code",
   "execution_count": 1,
   "id": "aa72a7c8",
   "metadata": {},
   "outputs": [
    {
     "name": "stderr",
     "output_type": "stream",
     "text": [
      "C:\\Users\\vfier\\AppData\\Local\\Temp\\ipykernel_22576\\281768124.py:6: MatplotlibDeprecationWarning: The seaborn styles shipped by Matplotlib are deprecated since 3.6, as they no longer correspond to the styles shipped by seaborn. However, they will remain available as 'seaborn-v0_8-<style>'. Alternatively, directly use the seaborn API instead.\n",
      "  plt.style.use('seaborn')\n"
     ]
    }
   ],
   "source": [
    "import pandas as pd\n",
    "import matplotlib.pyplot as plt\n",
    "import requests\n",
    "import os\n",
    "from cobra.io import read_sbml_model\n",
    "plt.style.use('seaborn')\n",
    "%matplotlib inline"
   ]
  },
  {
   "cell_type": "markdown",
   "id": "75a9d1a2",
   "metadata": {},
   "source": [
    "Read the model "
   ]
  },
  {
   "cell_type": "code",
   "execution_count": 4,
   "id": "bdd88a36",
   "metadata": {},
   "outputs": [],
   "source": [
    "from cobra.io import read_sbml_model\n",
    "model = read_sbml_model('data/iML1515.xml')"
   ]
  },
  {
   "cell_type": "markdown",
   "id": "6fb78946",
   "metadata": {},
   "source": [
    "## 5. Discussion (<500 words)"
   ]
  },
  {
   "cell_type": "markdown",
   "id": "30739dba",
   "metadata": {},
   "source": [
    "## 6. Conclusion (<200 words)"
   ]
  },
  {
   "cell_type": "markdown",
   "id": "fbbf34cc",
   "metadata": {},
   "source": [
    "## References"
   ]
  },
  {
   "cell_type": "code",
   "execution_count": null,
   "id": "539ef5ad",
   "metadata": {},
   "outputs": [],
   "source": []
  },
  {
   "cell_type": "code",
   "execution_count": null,
   "id": "42bbd2b9",
   "metadata": {},
   "outputs": [],
   "source": []
  }
 ],
 "metadata": {
  "kernelspec": {
   "display_name": "Python 3 (ipykernel)",
   "language": "python",
   "name": "python3"
  },
  "language_info": {
   "codemirror_mode": {
    "name": "ipython",
    "version": 3
   },
   "file_extension": ".py",
   "mimetype": "text/x-python",
   "name": "python",
   "nbconvert_exporter": "python",
   "pygments_lexer": "ipython3",
   "version": "3.11.4"
  }
 },
 "nbformat": 4,
 "nbformat_minor": 5
}

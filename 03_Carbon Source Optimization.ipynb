{
 "cells": [
  {
   "cell_type": "code",
   "execution_count": null,
   "id": "461b1df5",
   "metadata": {},
   "outputs": [],
   "source": [
    "# First, we can import some functions so we can use the model\n",
    "from cobra.io import read_sbml_model, write_sbml_model\n",
    "from cobra import Reaction, Metabolite\n",
    "\n",
    "# Second, we can read the GEM and save it as ‘model’\n",
    "model = read_sbml_model('data/iML1515_het.xml')"
   ]
  },
  {
   "cell_type": "code",
   "execution_count": null,
   "id": "f3936a8f",
   "metadata": {},
   "outputs": [],
   "source": []
  }
 ],
 "metadata": {
  "kernelspec": {
   "display_name": "Python 3 (ipykernel)",
   "language": "python",
   "name": "python3"
  },
  "language_info": {
   "codemirror_mode": {
    "name": "ipython",
    "version": 3
   },
   "file_extension": ".py",
   "mimetype": "text/x-python",
   "name": "python",
   "nbconvert_exporter": "python",
   "pygments_lexer": "ipython3",
   "version": "3.11.4"
  }
 },
 "nbformat": 4,
 "nbformat_minor": 5
}

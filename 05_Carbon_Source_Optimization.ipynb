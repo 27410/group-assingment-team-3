{
 "cells": [
  {
   "cell_type": "markdown",
   "id": "f275e187",
   "metadata": {},
   "source": [
    "# 5. Carbon Source Optimization"
   ]
  },
  {
   "cell_type": "markdown",
   "id": "7cc3e99a",
   "metadata": {},
   "source": [
    "### Import libraries:"
   ]
  },
  {
   "cell_type": "code",
   "execution_count": 5,
   "id": "4ae3034f",
   "metadata": {},
   "outputs": [],
   "source": [
    "# First, we can import some functions so we can use the model\n",
    "from cobra.io import read_sbml_model, write_sbml_model\n",
    "from cobra import Reaction, Metabolite\n",
    "import cobra\n",
    "\n",
    "import matplotlib.pyplot as plt\n",
    "import numpy as np"
   ]
  },
  {
   "cell_type": "markdown",
   "id": "d06ac72b",
   "metadata": {},
   "source": [
    "### Read model:"
   ]
  },
  {
   "cell_type": "code",
   "execution_count": 6,
   "id": "493bc647",
   "metadata": {},
   "outputs": [],
   "source": [
    "# Second, we can read the GEM and save it as ‘model’\n",
    "model = read_sbml_model('data/iML1515_het.xml')"
   ]
  },
  {
   "cell_type": "markdown",
   "id": "b251e3f4",
   "metadata": {},
   "source": [
    "## Basal state of the model:"
   ]
  },
  {
   "cell_type": "markdown",
   "id": "349232e7",
   "metadata": {},
   "source": [
    "### Medium:"
   ]
  },
  {
   "cell_type": "markdown",
   "id": "7defd475",
   "metadata": {},
   "source": [
    "The iML1515_het model, originally, assumes growth on glucose media. We can see the detailed composition of this media here:"
   ]
  },
  {
   "cell_type": "code",
   "execution_count": 7,
   "id": "0dac338a",
   "metadata": {},
   "outputs": [
    {
     "name": "stdout",
     "output_type": "stream",
     "text": [
      "Metabolite (Exchange reaction): EX_pi_e\n",
      "Amount: 1000.0\n",
      "---\n",
      "Metabolite (Exchange reaction): EX_co2_e\n",
      "Amount: 1000.0\n",
      "---\n",
      "Metabolite (Exchange reaction): EX_fe3_e\n",
      "Amount: 1000.0\n",
      "---\n",
      "Metabolite (Exchange reaction): EX_h_e\n",
      "Amount: 1000.0\n",
      "---\n",
      "Metabolite (Exchange reaction): EX_mn2_e\n",
      "Amount: 1000.0\n",
      "---\n",
      "Metabolite (Exchange reaction): EX_fe2_e\n",
      "Amount: 1000.0\n",
      "---\n",
      "Metabolite (Exchange reaction): EX_glc__D_e\n",
      "Amount: 10.0\n",
      "---\n",
      "Metabolite (Exchange reaction): EX_zn2_e\n",
      "Amount: 1000.0\n",
      "---\n",
      "Metabolite (Exchange reaction): EX_mg2_e\n",
      "Amount: 1000.0\n",
      "---\n",
      "Metabolite (Exchange reaction): EX_ca2_e\n",
      "Amount: 1000.0\n",
      "---\n",
      "Metabolite (Exchange reaction): EX_ni2_e\n",
      "Amount: 1000.0\n",
      "---\n",
      "Metabolite (Exchange reaction): EX_cu2_e\n",
      "Amount: 1000.0\n",
      "---\n",
      "Metabolite (Exchange reaction): EX_sel_e\n",
      "Amount: 1000.0\n",
      "---\n",
      "Metabolite (Exchange reaction): EX_cobalt2_e\n",
      "Amount: 1000.0\n",
      "---\n",
      "Metabolite (Exchange reaction): EX_h2o_e\n",
      "Amount: 1000.0\n",
      "---\n",
      "Metabolite (Exchange reaction): EX_mobd_e\n",
      "Amount: 1000.0\n",
      "---\n",
      "Metabolite (Exchange reaction): EX_so4_e\n",
      "Amount: 1000.0\n",
      "---\n",
      "Metabolite (Exchange reaction): EX_nh4_e\n",
      "Amount: 1000.0\n",
      "---\n",
      "Metabolite (Exchange reaction): EX_k_e\n",
      "Amount: 1000.0\n",
      "---\n",
      "Metabolite (Exchange reaction): EX_na1_e\n",
      "Amount: 1000.0\n",
      "---\n",
      "Metabolite (Exchange reaction): EX_cl_e\n",
      "Amount: 1000.0\n",
      "---\n",
      "Metabolite (Exchange reaction): EX_o2_e\n",
      "Amount: 1000.0\n",
      "---\n",
      "Metabolite (Exchange reaction): EX_tungs_e\n",
      "Amount: 1000.0\n",
      "---\n",
      "Metabolite (Exchange reaction): EX_slnt_e\n",
      "Amount: 1000.0\n",
      "---\n"
     ]
    }
   ],
   "source": [
    "glucose_medium = model.medium\n",
    "for key, value in model.medium.items():\n",
    "    print(\"Metabolite (Exchange reaction):\", key)\n",
    "    print(\"Amount:\", value)\n",
    "    print(\"---\")"
   ]
  },
  {
   "cell_type": "markdown",
   "id": "1f24d5c6",
   "metadata": {},
   "source": [
    "### Yield:"
   ]
  },
  {
   "cell_type": "markdown",
   "id": "41ee1733",
   "metadata": {},
   "source": [
    "The maximum theoretical production of Biomass, P3HB and the yield of P3HB per unit of glucose was calculated in document [02_Model Exploration (Base Yields and PPP)](02_Model Exploration (Base Yields and PPP).ipynb). \n",
    "\n",
    "We can quickly recover those values by running the following code:"
   ]
  },
  {
   "cell_type": "code",
   "execution_count": 8,
   "id": "c10ce22e",
   "metadata": {
    "scrolled": true
   },
   "outputs": [
    {
     "name": "stdout",
     "output_type": "stream",
     "text": [
      "Max. p3HB production [mmol gDW^-1 h^-1]: 1.2500530973451311\n",
      "Theoretical max. yield [mmol-P3HB / mmol-glucose]: 0.12500530973451313\n"
     ]
    }
   ],
   "source": [
    "with model:\n",
    "    r_phaC_exp = model.add_boundary(model.metabolites.get_by_id('P3HB_c'), type='sink')\n",
    "    model.objective = r_phaC_exp\n",
    "    solution_glc = model.optimize()\n",
    "    P3HB_production_glc = solution_glc.objective_value\n",
    "    print(\"Max. p3HB production [mmol gDW^-1 h^-1]:\", P3HB_production_glc)\n",
    "    print(\"Theoretical max. yield [mmol-P3HB / mmol-glucose]:\", P3HB_production_glc / (-1 * model.reactions.get_by_id('EX_glc__D_e').flux))\n",
    "    max_yield_mmol_glc = P3HB_production_glc / (-1*model.reactions.get_by_id('EX_glc__D_e').flux)"
   ]
  },
  {
   "cell_type": "markdown",
   "id": "43f8492d",
   "metadata": {},
   "source": [
    "### Yield (C-mol):"
   ]
  },
  {
   "cell_type": "markdown",
   "id": "4998ca1e",
   "metadata": {},
   "source": [
    "Let's get those yields in C-mol:"
   ]
  },
  {
   "cell_type": "code",
   "execution_count": 9,
   "id": "ee88da00",
   "metadata": {},
   "outputs": [],
   "source": [
    "Cfactor_P3HB = 40     # Cmol/mol conversion factor for P3HB (polymerization degree of 10)\n",
    "Cfactor_Glucose = 6   # Cmol/mol conversion factor for Glucose"
   ]
  },
  {
   "cell_type": "code",
   "execution_count": 10,
   "id": "bf70716b",
   "metadata": {},
   "outputs": [
    {
     "name": "stdout",
     "output_type": "stream",
     "text": [
      "Maximum theoretical yield [mmol-P3HB / mmol-glucose]: 0.833368731563421 cmol-P3HB/cmol-glc\n"
     ]
    }
   ],
   "source": [
    "max_yield_cmol_glc = (max_yield_mmol_glc*Cfactor_P3HB)/(1*Cfactor_Glucose)\n",
    "print('Maximum theoretical yield [mmol-P3HB / mmol-glucose]:', max_yield_cmol_glc, 'cmol-P3HB/cmol-glc')"
   ]
  },
  {
   "cell_type": "markdown",
   "id": "7a890f06",
   "metadata": {},
   "source": [
    "### Flux distribution:"
   ]
  },
  {
   "cell_type": "markdown",
   "id": "a48f55fc",
   "metadata": {},
   "source": [
    "We can see the distribution of fluxes in the following graph:"
   ]
  },
  {
   "cell_type": "code",
   "execution_count": 11,
   "id": "54a68209",
   "metadata": {},
   "outputs": [
    {
     "data": {
      "image/png": "[encoded data removed]",
      "text/plain": [
       "<Figure size 640x480 with 1 Axes>"
      ]
     },
     "metadata": {},
     "output_type": "display_data"
    }
   ],
   "source": [
    "# Plot the fluxes distribution:\n",
    "fig = solution_glc.fluxes.hist()\n",
    "\n",
    "# Set plot parameters:\n",
    "plt.xlim(-25, 25)  # Set the minimum and maximum x-axis values\n",
    "plt.yscale('log')  # Set y axis as logarithmic\n",
    "\n",
    "fig.set_xlabel('Flux [$mmol gDW^{-1} h^{-1}]$')\n",
    "fig.set_ylabel('Frequency');\n",
    "plt.title('Fluxes distribution (Glucose)')\n",
    "\n",
    "plt.show()"
   ]
  },
  {
   "cell_type": "markdown",
   "id": "cb656996",
   "metadata": {},
   "source": [
    "## Growth on Acetate:"
   ]
  },
  {
   "cell_type": "markdown",
   "id": "dd0de16f",
   "metadata": {},
   "source": [
    "### Medium:"
   ]
  },
  {
   "cell_type": "markdown",
   "id": "c7875a20",
   "metadata": {},
   "source": [
    "First, we need to modify the medium from containing glucose and no acetate, to acetate and no glucose:"
   ]
  },
  {
   "cell_type": "code",
   "execution_count": 12,
   "id": "aefc610a",
   "metadata": {},
   "outputs": [],
   "source": [
    "acetate_medium = model.medium\n",
    "acetate_medium['EX_glc__D_e'] = 0\n",
    "acetate_medium['EX_ac_e'] = 10\n",
    "model.medium = acetate_medium"
   ]
  },
  {
   "cell_type": "markdown",
   "id": "3bfe9e52",
   "metadata": {},
   "source": [
    "Let's check out the detailed composition of this media:"
   ]
  },
  {
   "cell_type": "code",
   "execution_count": 13,
   "id": "3cba0d00",
   "metadata": {},
   "outputs": [
    {
     "name": "stdout",
     "output_type": "stream",
     "text": [
      "Metabolite (Exchange reaction): EX_pi_e\n",
      "Amount: 1000.0\n",
      "---\n",
      "Metabolite (Exchange reaction): EX_co2_e\n",
      "Amount: 1000.0\n",
      "---\n",
      "Metabolite (Exchange reaction): EX_fe3_e\n",
      "Amount: 1000.0\n",
      "---\n",
      "Metabolite (Exchange reaction): EX_h_e\n",
      "Amount: 1000.0\n",
      "---\n",
      "Metabolite (Exchange reaction): EX_mn2_e\n",
      "Amount: 1000.0\n",
      "---\n",
      "Metabolite (Exchange reaction): EX_ac_e\n",
      "Amount: 10\n",
      "---\n",
      "Metabolite (Exchange reaction): EX_fe2_e\n",
      "Amount: 1000.0\n",
      "---\n",
      "Metabolite (Exchange reaction): EX_zn2_e\n",
      "Amount: 1000.0\n",
      "---\n",
      "Metabolite (Exchange reaction): EX_mg2_e\n",
      "Amount: 1000.0\n",
      "---\n",
      "Metabolite (Exchange reaction): EX_ca2_e\n",
      "Amount: 1000.0\n",
      "---\n",
      "Metabolite (Exchange reaction): EX_ni2_e\n",
      "Amount: 1000.0\n",
      "---\n",
      "Metabolite (Exchange reaction): EX_cu2_e\n",
      "Amount: 1000.0\n",
      "---\n",
      "Metabolite (Exchange reaction): EX_sel_e\n",
      "Amount: 1000.0\n",
      "---\n",
      "Metabolite (Exchange reaction): EX_cobalt2_e\n",
      "Amount: 1000.0\n",
      "---\n",
      "Metabolite (Exchange reaction): EX_h2o_e\n",
      "Amount: 1000.0\n",
      "---\n",
      "Metabolite (Exchange reaction): EX_mobd_e\n",
      "Amount: 1000.0\n",
      "---\n",
      "Metabolite (Exchange reaction): EX_so4_e\n",
      "Amount: 1000.0\n",
      "---\n",
      "Metabolite (Exchange reaction): EX_nh4_e\n",
      "Amount: 1000.0\n",
      "---\n",
      "Metabolite (Exchange reaction): EX_k_e\n",
      "Amount: 1000.0\n",
      "---\n",
      "Metabolite (Exchange reaction): EX_na1_e\n",
      "Amount: 1000.0\n",
      "---\n",
      "Metabolite (Exchange reaction): EX_cl_e\n",
      "Amount: 1000.0\n",
      "---\n",
      "Metabolite (Exchange reaction): EX_o2_e\n",
      "Amount: 1000.0\n",
      "---\n",
      "Metabolite (Exchange reaction): EX_tungs_e\n",
      "Amount: 1000.0\n",
      "---\n",
      "Metabolite (Exchange reaction): EX_slnt_e\n",
      "Amount: 1000.0\n",
      "---\n"
     ]
    }
   ],
   "source": [
    "acetate_medium = model.medium\n",
    "for key, value in model.medium.items():\n",
    "    print(\"Metabolite (Exchange reaction):\", key)\n",
    "    print(\"Amount:\", value)\n",
    "    print(\"---\")"
   ]
  },
  {
   "cell_type": "markdown",
   "id": "d83b1d4e",
   "metadata": {},
   "source": [
    "### Yield:"
   ]
  },
  {
   "cell_type": "code",
   "execution_count": 14,
   "id": "b5a8ece4",
   "metadata": {},
   "outputs": [
    {
     "name": "stdout",
     "output_type": "stream",
     "text": [
      "Max. p3HB production [mmol gDW^-1 h^-1]: 0.3424000000000009\n",
      "Theoretical max. yield [mmol-P3HB / mmol-acetate]: 0.03424000000000009\n"
     ]
    }
   ],
   "source": [
    "with model:    \n",
    "    r_phaC_exp = model.add_boundary(model.metabolites.get_by_id('P3HB_c'), type='sink')\n",
    "    model.objective = r_phaC_exp\n",
    "    solution_ace = model.optimize()\n",
    "    P3HB_production_ace = solution_ace.objective_value\n",
    "    print(\"Max. p3HB production [mmol gDW^-1 h^-1]:\", P3HB_production_ace)\n",
    "    print(\"Theoretical max. yield [mmol-P3HB / mmol-acetate]:\", P3HB_production_ace / (-1 * model.reactions.get_by_id('EX_ac_e').flux))\n",
    "    max_yield_mmol_ace = P3HB_production_ace / (-1*model.reactions.get_by_id('EX_ac_e').flux)"
   ]
  },
  {
   "cell_type": "markdown",
   "id": "00595c79",
   "metadata": {},
   "source": [
    "### Yield (C-mol):"
   ]
  },
  {
   "cell_type": "code",
   "execution_count": 15,
   "id": "933d1141",
   "metadata": {},
   "outputs": [],
   "source": [
    "Cfactor_P3HB = 40     # Cmol/mol conversion factor for P3HB (polymerization degree of 10)\n",
    "Cfactor_Acetate = 2   # Cmol/mol conversion factor for Acetate"
   ]
  },
  {
   "cell_type": "code",
   "execution_count": 16,
   "id": "010b87c8",
   "metadata": {},
   "outputs": [
    {
     "name": "stdout",
     "output_type": "stream",
     "text": [
      "Maximum theoretical yield [mmol-P3HB / mmol-acetate]: 0.6848000000000019 cmol-P3HB/cmol-ace\n"
     ]
    }
   ],
   "source": [
    "max_yield_cmol_ace = (max_yield_mmol_ace*Cfactor_P3HB)/(1*Cfactor_Acetate)\n",
    "print('Maximum theoretical yield [mmol-P3HB / mmol-acetate]:', max_yield_cmol_ace, 'cmol-P3HB/cmol-ace')"
   ]
  },
  {
   "cell_type": "markdown",
   "id": "545ef299",
   "metadata": {},
   "source": [
    "### Flux distribution:"
   ]
  },
  {
   "cell_type": "markdown",
   "id": "8a45a9ae",
   "metadata": {},
   "source": [
    "We can see the distribution of fluxes in the following graph:"
   ]
  },
  {
   "cell_type": "code",
   "execution_count": 17,
   "id": "5882a189",
   "metadata": {},
   "outputs": [
    {
     "data": {
      "image/png": "[encoded data removed]",
      "text/plain": [
       "<Figure size 640x480 with 1 Axes>"
      ]
     },
     "metadata": {},
     "output_type": "display_data"
    }
   ],
   "source": [
    "# Plot the fluxes distribution:\n",
    "fig = solution_ace.fluxes.hist()\n",
    "\n",
    "# Set plot parameters:\n",
    "plt.xlim(-25, 25)  # Set the minimum and maximum x-axis values\n",
    "plt.yscale('log')  # Set y axis as logarithmic\n",
    "\n",
    "fig.set_xlabel('Flux [$mmol gDW^{-1} h^{-1}]$')\n",
    "fig.set_ylabel('Frequency');\n",
    "plt.title('Fluxes distribution (Acetate)')\n",
    "\n",
    "plt.show()"
   ]
  },
  {
   "cell_type": "markdown",
   "id": "b435b26b",
   "metadata": {},
   "source": [
    "## Growth on Glycerol:"
   ]
  },
  {
   "cell_type": "markdown",
   "id": "4a13c6b7",
   "metadata": {},
   "source": [
    "### Medium:"
   ]
  },
  {
   "cell_type": "markdown",
   "id": "e81458f8",
   "metadata": {},
   "source": [
    "In this case, we need to modify the medium from containing acetate and no glycerol, to glycerol and no acetate:"
   ]
  },
  {
   "cell_type": "code",
   "execution_count": 18,
   "id": "deb78d8c",
   "metadata": {},
   "outputs": [],
   "source": [
    "glycerol_medium = model.medium\n",
    "glycerol_medium['EX_ac_e'] = 0\n",
    "glycerol_medium['EX_gly_e'] = 10\n",
    "model.medium = glycerol_medium"
   ]
  },
  {
   "cell_type": "markdown",
   "id": "819b78aa",
   "metadata": {},
   "source": [
    "Let's check out the detailed composition of this media:"
   ]
  },
  {
   "cell_type": "code",
   "execution_count": 19,
   "id": "54e79a6e",
   "metadata": {},
   "outputs": [
    {
     "name": "stdout",
     "output_type": "stream",
     "text": [
      "Metabolite (Exchange reaction): EX_pi_e\n",
      "Amount: 1000.0\n",
      "---\n",
      "Metabolite (Exchange reaction): EX_co2_e\n",
      "Amount: 1000.0\n",
      "---\n",
      "Metabolite (Exchange reaction): EX_fe3_e\n",
      "Amount: 1000.0\n",
      "---\n",
      "Metabolite (Exchange reaction): EX_h_e\n",
      "Amount: 1000.0\n",
      "---\n",
      "Metabolite (Exchange reaction): EX_mn2_e\n",
      "Amount: 1000.0\n",
      "---\n",
      "Metabolite (Exchange reaction): EX_fe2_e\n",
      "Amount: 1000.0\n",
      "---\n",
      "Metabolite (Exchange reaction): EX_gly_e\n",
      "Amount: 10\n",
      "---\n",
      "Metabolite (Exchange reaction): EX_zn2_e\n",
      "Amount: 1000.0\n",
      "---\n",
      "Metabolite (Exchange reaction): EX_mg2_e\n",
      "Amount: 1000.0\n",
      "---\n",
      "Metabolite (Exchange reaction): EX_ca2_e\n",
      "Amount: 1000.0\n",
      "---\n",
      "Metabolite (Exchange reaction): EX_ni2_e\n",
      "Amount: 1000.0\n",
      "---\n",
      "Metabolite (Exchange reaction): EX_cu2_e\n",
      "Amount: 1000.0\n",
      "---\n",
      "Metabolite (Exchange reaction): EX_sel_e\n",
      "Amount: 1000.0\n",
      "---\n",
      "Metabolite (Exchange reaction): EX_cobalt2_e\n",
      "Amount: 1000.0\n",
      "---\n",
      "Metabolite (Exchange reaction): EX_h2o_e\n",
      "Amount: 1000.0\n",
      "---\n",
      "Metabolite (Exchange reaction): EX_mobd_e\n",
      "Amount: 1000.0\n",
      "---\n",
      "Metabolite (Exchange reaction): EX_so4_e\n",
      "Amount: 1000.0\n",
      "---\n",
      "Metabolite (Exchange reaction): EX_nh4_e\n",
      "Amount: 1000.0\n",
      "---\n",
      "Metabolite (Exchange reaction): EX_k_e\n",
      "Amount: 1000.0\n",
      "---\n",
      "Metabolite (Exchange reaction): EX_na1_e\n",
      "Amount: 1000.0\n",
      "---\n",
      "Metabolite (Exchange reaction): EX_cl_e\n",
      "Amount: 1000.0\n",
      "---\n",
      "Metabolite (Exchange reaction): EX_o2_e\n",
      "Amount: 1000.0\n",
      "---\n",
      "Metabolite (Exchange reaction): EX_tungs_e\n",
      "Amount: 1000.0\n",
      "---\n",
      "Metabolite (Exchange reaction): EX_slnt_e\n",
      "Amount: 1000.0\n",
      "---\n"
     ]
    }
   ],
   "source": [
    "acetate_medium = model.medium\n",
    "for key, value in model.medium.items():\n",
    "    print(\"Metabolite (Exchange reaction):\", key)\n",
    "    print(\"Amount:\", value)\n",
    "    print(\"---\")"
   ]
  },
  {
   "cell_type": "markdown",
   "id": "eb760c4e",
   "metadata": {},
   "source": [
    "## Yield:"
   ]
  },
  {
   "cell_type": "code",
   "execution_count": 20,
   "id": "a1b75ac0",
   "metadata": {},
   "outputs": [
    {
     "name": "stdout",
     "output_type": "stream",
     "text": [
      "Max. p3HB production [mmol gDW^-1 h^-1]: 0.29029885057471266\n",
      "Theoretical max. yield [mmol-P3HB / mmol-glycerol]: 0.029029885057471266\n"
     ]
    }
   ],
   "source": [
    "with model:    \n",
    "    r_phaC_exp = model.add_boundary(model.metabolites.get_by_id('P3HB_c'), type='sink')\n",
    "    model.objective = r_phaC_exp\n",
    "    solution_gly = model.optimize()\n",
    "    P3HB_production_gly = solution_gly.objective_value\n",
    "    print(\"Max. p3HB production [mmol gDW^-1 h^-1]:\", P3HB_production_gly)\n",
    "    print(\"Theoretical max. yield [mmol-P3HB / mmol-glycerol]:\", P3HB_production_gly / (-1 * model.reactions.get_by_id('EX_gly_e').flux))\n",
    "    max_yield_mmol_gly = P3HB_production_gly / (-1*model.reactions.get_by_id('EX_gly_e').flux)"
   ]
  },
  {
   "cell_type": "markdown",
   "id": "20e9641b",
   "metadata": {},
   "source": [
    "### Yield (C-mol):"
   ]
  },
  {
   "cell_type": "code",
   "execution_count": 21,
   "id": "c72191c3",
   "metadata": {},
   "outputs": [],
   "source": [
    "Cfactor_P3HB = 40     # Cmol/mol conversion factor for P3HB (polymerization degree of 10)\n",
    "Cfactor_Glycerol = 3   # Cmol/mol conversion factor for Glycerol"
   ]
  },
  {
   "cell_type": "code",
   "execution_count": 22,
   "id": "361240c0",
   "metadata": {},
   "outputs": [
    {
     "name": "stdout",
     "output_type": "stream",
     "text": [
      "Maximum theoretical yield [mmol-P3HB / mmol-glycerol]: 0.3870651340996169 cmol-P3HB/cmol-gly\n"
     ]
    }
   ],
   "source": [
    "max_yield_cmol_gly = (max_yield_mmol_gly*Cfactor_P3HB)/(1*Cfactor_Glycerol)\n",
    "print('Maximum theoretical yield [mmol-P3HB / mmol-glycerol]:', max_yield_cmol_gly, 'cmol-P3HB/cmol-gly')"
   ]
  },
  {
   "cell_type": "markdown",
   "id": "8b5f4e5f",
   "metadata": {},
   "source": [
    "### Flux distribution:"
   ]
  },
  {
   "cell_type": "markdown",
   "id": "4661cf60",
   "metadata": {},
   "source": [
    "We can see the distribution of fluxes in the following graph:"
   ]
  },
  {
   "cell_type": "code",
   "execution_count": 23,
   "id": "12f1d684",
   "metadata": {},
   "outputs": [
    {
     "data": {
      "image/png": "[encoded data removed]",
      "text/plain": [
       "<Figure size 640x480 with 1 Axes>"
      ]
     },
     "metadata": {},
     "output_type": "display_data"
    }
   ],
   "source": [
    "# Plot the fluxes distribution:\n",
    "fig = solution_gly.fluxes.hist()\n",
    "\n",
    "# Set plot parameters:\n",
    "plt.xlim(-25, 25)  # Set the minimum and maximum x-axis values\n",
    "plt.yscale('log')  # Set y axis as logarithmic\n",
    "\n",
    "fig.set_xlabel('Flux [$mmol gDW^{-1} h^{-1}]$')\n",
    "fig.set_ylabel('Frequency');\n",
    "plt.title('Fluxes distribution (Glycerol)')\n",
    "\n",
    "plt.show()"
   ]
  },
  {
   "cell_type": "markdown",
   "id": "7f9b09ef",
   "metadata": {},
   "source": [
    "## Yield comparison:"
   ]
  },
  {
   "cell_type": "markdown",
   "id": "0bbf3e1f",
   "metadata": {},
   "source": [
    "### mmol/mmol:"
   ]
  },
  {
   "cell_type": "code",
   "execution_count": 24,
   "id": "5d5c975e",
   "metadata": {},
   "outputs": [
    {
     "data": {
      "image/png": "[encoded data removed]",
      "text/plain": [
       "<Figure size 640x480 with 1 Axes>"
      ]
     },
     "metadata": {},
     "output_type": "display_data"
    }
   ],
   "source": [
    "Carbon_sources = ['Glucose', 'Acetate', 'Glycerol']\n",
    "Yields = [max_yield_mmol_glc, max_yield_mmol_ace, max_yield_mmol_gly]\n",
    "colors = ('gold', 'lightcoral', 'mediumturquoise')\n",
    "\n",
    "plt.bar(Carbon_sources, Yields, color=colors)\n",
    "\n",
    "plt.ylabel('Yield [mmol-P3HB / mmol-Carbon Source]')\n",
    "plt.title('Theoretical max yield of P3HB production')\n",
    "\n",
    "plt.show()"
   ]
  },
  {
   "cell_type": "markdown",
   "id": "d5e2de88",
   "metadata": {},
   "source": [
    "### c-mol/c-mol:"
   ]
  },
  {
   "cell_type": "code",
   "execution_count": 25,
   "id": "6fd589e6",
   "metadata": {},
   "outputs": [
    {
     "data": {
      "image/png": "[encoded data removed]",
      "text/plain": [
       "<Figure size 640x480 with 1 Axes>"
      ]
     },
     "metadata": {},
     "output_type": "display_data"
    }
   ],
   "source": [
    "Carbon_sources = ['Glucose', 'Acetate', 'Glycerol']\n",
    "Yields = [max_yield_cmol_glc, max_yield_cmol_ace, max_yield_cmol_gly]\n",
    "colors = ('gold', 'lightcoral', 'mediumturquoise')\n",
    "\n",
    "plt.bar(Carbon_sources, Yields, color=colors)\n",
    "\n",
    "plt.ylabel('Yield [cmol-P3HB / cmol-Carbon Source]')\n",
    "plt.title('Theoretical max yield of P3HB production')\n",
    "\n",
    "plt.show()"
   ]
  },
  {
   "cell_type": "code",
   "execution_count": 26,
   "id": "16509855",
   "metadata": {},
   "outputs": [
    {
     "name": "stdout",
     "output_type": "stream",
     "text": [
      "Yield reduction Glc to Ace: 17.83 %\n"
     ]
    }
   ],
   "source": [
    "print('Yield reduction Glc to Ace:', round((1 - (max_yield_cmol_ace/max_yield_cmol_glc))*100, 2), \"%\")"
   ]
  },
  {
   "cell_type": "markdown",
   "id": "f78d6b99",
   "metadata": {},
   "source": [
    "What we can see, is that it is possible to produce a fair amount of P3HB by unit of carbon source when growing on acetate rather than glucose. On the other hand, production of P3HB is reduced by almost half of it when we try to produce it growing on glycerol as unqiue carbon source.\n",
    "\n",
    "Also, what we can observe when looking at the fluxes distributions, is that we have indeed a change in metabolism when growing in different carbon sources. \n",
    "\n",
    "We conclude then, that we can grow E. coli on acetate to produce P3HB with a yield loss of only around 18%. "
   ]
  }
 ],
 "metadata": {
  "kernelspec": {
   "display_name": "Python 3 (ipykernel)",
   "language": "python",
   "name": "python3"
  },
  "language_info": {
   "codemirror_mode": {
    "name": "ipython",
    "version": 3
   },
   "file_extension": ".py",
   "mimetype": "text/x-python",
   "name": "python",
   "nbconvert_exporter": "python",
   "pygments_lexer": "ipython3",
   "version": "3.11.4"
  }
 },
 "nbformat": 4,
 "nbformat_minor": 5
}

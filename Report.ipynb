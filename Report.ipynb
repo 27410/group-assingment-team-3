{
 "cells": [
  {
   "cell_type": "markdown",
   "metadata": {},
   "source": [
    "# Biotin porduction in E. coli K12"
   ]
  },
  {
   "cell_type": "markdown",
   "metadata": {},
   "source": [
    "## 1. Introduction"
   ]
  },
  {
   "cell_type": "markdown",
   "metadata": {},
   "source": [
    "### 1.1 Literature review of the compound (<500 words)"
   ]
  },
  {
   "cell_type": "markdown",
   "metadata": {},
   "source": [
    "The newe text that we can add here + 1\n",
    "Hello this is just a test "
   ]
  },
  {
   "cell_type": "markdown",
   "metadata": {},
   "source": [
    "### 1.2 Literature review of the cell factory (<500 words)"
   ]
  },
  {
   "cell_type": "markdown",
   "metadata": {},
   "source": [
    "•\tGeneral advantages\n",
    "\n",
    "1.\tLow energy requirements\n",
    "\n",
    "2.\tIncreased output\n",
    "\n",
    "3.\tShorter lead time\n",
    "\n",
    "4.\tConsistent quality and purity of the product\n",
    "\n",
    "5.\tSustainability of product production\n",
    "\n",
    "6.\tPotentail customization of production\n",
    "\n",
    "•\tGeneral disadvantages\n",
    "\n",
    "1.\tDifficulties in maintaining in vitro cells in particular conditions\n",
    "\n",
    "2.\tSometimes the process is not profitable\n",
    "\n",
    "3.\tComplexity in establishing the proper proces\n",
    "\n",
    "4.\tRegulatory difficulties with related strains and its modifications\n",
    "\n",
    "•\tSuitability of the cell factory for the product\n",
    "\n",
    "The traditional method of biotin production involves chemical synthesis, which is energy-intensive and environmentally hazardous .\n",
    "In contrast, microbial cell factories offer a sustainable and eco-friendly alternative for biotin production.\n",
    "They are engineered microbes that can produce biotin in closed bioreactors with high efficiency, specificity, and low energy requirements .\n",
    "The use of cell factories for biotin production has several advantages over traditional methods.\n",
    "Firstly, it is a green and sustainable process that reduces the environmental impact of biotin production.\n",
    "Secondly, it offers higher productivity and improved quality control compared to chemical synthesis methods.\n",
    "Thirdly, it provides greater flexibility in terms of product customization and optimization.\n",
    "Finally, it is a cost-effective approach that reduces the overall production cost of biotin.\n"
   ]
  },
  {
   "cell_type": "markdown",
   "metadata": {},
   "source": [
    "## 2. Problem definition (<300 words)"
   ]
  },
  {
   "cell_type": "markdown",
   "metadata": {},
   "source": [
    "## 3. *If Project category I:* Reconstruction of a new GSM for your cell factory host of interest (<1500 words)"
   ]
  },
  {
   "cell_type": "markdown",
   "metadata": {},
   "source": [
    "or"
   ]
  },
  {
   "cell_type": "markdown",
   "metadata": {},
   "source": [
    "## 3. *If Project category II:* Selection and assessment of existing GSM (<500 words)"
   ]
  },
  {
   "cell_type": "markdown",
   "metadata": {},
   "source": [
    "## 4. Computer-Aided Cell Factory Engineering (<1500 words if Category II project; <500 words for Category I project)"
   ]
  },
  {
   "cell_type": "markdown",
   "metadata": {},
   "source": [
    "Import needed libreries"
   ]
  },
  {
   "cell_type": "code",
   "execution_count": 9,
   "metadata": {},
   "outputs": [],
   "source": [
    "import pandas as pd\n",
    "import matplotlib.pyplot as plt\n",
    "import requests\n",
    "import os\n",
    "from cobra.io import read_sbml_model\n",
    "plt.style.use('seaborn')\n",
    "%matplotlib inline"
   ]
  },
  {
   "cell_type": "markdown",
   "metadata": {},
   "source": [
    "Import the GSM from Bigg (only has to be done the first time)"
   ]
  },
  {
   "cell_type": "code",
   "execution_count": 17,
   "metadata": {},
   "outputs": [
    {
     "name": "stdout",
     "output_type": "stream",
     "text": [
      "Model 'iML1515' downloaded and saved as 'iML1515.xml'.\n"
     ]
    }
   ],
   "source": [
    "model_id = 'iML1515'\n",
    "download_url = f'http://bigg.ucsd.edu/models/iML1515'\n",
    "local_file_name = f'{model_id}.xml'\n",
    "response = requests.get(download_url)\n",
    "if response.status_code == 200:\n",
    "    with open(local_file_name, 'wb') as f:\n",
    "        f.write(response.content)\n",
    "    print(f\"Model '{model_id}' downloaded and saved as '{local_file_name}'.\")\n"
   ]
  },
  {
   "cell_type": "markdown",
   "metadata": {},
   "source": [
    "Read the model "
   ]
  },
  {
   "cell_type": "code",
   "execution_count": 29,
   "metadata": {},
   "outputs": [
    {
     "name": "stdout",
     "output_type": "stream",
     "text": [
      "C:\\Users\\laiav\\Documents\\group-assingment-team-3\n",
      "C:\\Users\\laiav\\Documents\\group-assingment-team-3\\iML1515.xml\n"
     ]
    },
    {
     "ename": "OSError",
     "evalue": "The file with '../iML1515.xml' does not exist, or is not an SBML string. Provide the path to an existing SBML file or a valid SBML string representation:\n",
     "output_type": "error",
     "traceback": [
      "\u001b[1;31m---------------------------------------------------------------------------\u001b[0m",
      "\u001b[1;31mOSError\u001b[0m                                   Traceback (most recent call last)",
      "Input \u001b[1;32mIn [29]\u001b[0m, in \u001b[0;36m<cell line: 8>\u001b[1;34m()\u001b[0m\n\u001b[0;32m      6\u001b[0m \u001b[38;5;28mprint\u001b[39m(document_path)\n\u001b[0;32m      7\u001b[0m \u001b[38;5;66;03m#\u001b[39;00m\n\u001b[1;32m----> 8\u001b[0m model \u001b[38;5;241m=\u001b[39m \u001b[43mread_sbml_model\u001b[49m\u001b[43m(\u001b[49m\u001b[38;5;124;43m'\u001b[39;49m\u001b[38;5;124;43m../iML1515.xml\u001b[39;49m\u001b[38;5;124;43m'\u001b[39;49m\u001b[43m)\u001b[49m\n",
      "File \u001b[1;32m~\\anaconda3\\lib\\site-packages\\cobra\\io\\sbml.py:460\u001b[0m, in \u001b[0;36mread_sbml_model\u001b[1;34m(filename, number, f_replace, **kwargs)\u001b[0m\n\u001b[0;32m    458\u001b[0m     \u001b[38;5;28;01mreturn\u001b[39;00m _sbml_to_model(doc, number\u001b[38;5;241m=\u001b[39mnumber, f_replace\u001b[38;5;241m=\u001b[39mf_replace, \u001b[38;5;241m*\u001b[39m\u001b[38;5;241m*\u001b[39mkwargs)\n\u001b[0;32m    459\u001b[0m \u001b[38;5;28;01mexcept\u001b[39;00m \u001b[38;5;167;01mIOError\u001b[39;00m \u001b[38;5;28;01mas\u001b[39;00m e:\n\u001b[1;32m--> 460\u001b[0m     \u001b[38;5;28;01mraise\u001b[39;00m e\n\u001b[0;32m    462\u001b[0m \u001b[38;5;28;01mexcept\u001b[39;00m \u001b[38;5;167;01mException\u001b[39;00m \u001b[38;5;28;01mas\u001b[39;00m original_error:\n\u001b[0;32m    463\u001b[0m     cobra_error \u001b[38;5;241m=\u001b[39m CobraSBMLError(\n\u001b[0;32m    464\u001b[0m         \u001b[38;5;124m\"\u001b[39m\u001b[38;5;124mSomething went wrong reading the SBML model. Most likely the SBML\u001b[39m\u001b[38;5;124m\"\u001b[39m\n\u001b[0;32m    465\u001b[0m         \u001b[38;5;124m\"\u001b[39m\u001b[38;5;124m model is not valid. Please check that your model is valid using \u001b[39m\u001b[38;5;124m\"\u001b[39m\n\u001b[1;32m   (...)\u001b[0m\n\u001b[0;32m    470\u001b[0m         \u001b[38;5;124m\"\u001b[39m\u001b[38;5;124mat https://github.com/opencobra/cobrapy/issues .\u001b[39m\u001b[38;5;124m\"\u001b[39m\n\u001b[0;32m    471\u001b[0m     )\n",
      "File \u001b[1;32m~\\anaconda3\\lib\\site-packages\\cobra\\io\\sbml.py:457\u001b[0m, in \u001b[0;36mread_sbml_model\u001b[1;34m(filename, number, f_replace, **kwargs)\u001b[0m\n\u001b[0;32m    402\u001b[0m \u001b[38;5;124;03m\"\"\"Read SBML model from given filename.\u001b[39;00m\n\u001b[0;32m    403\u001b[0m \n\u001b[0;32m    404\u001b[0m \u001b[38;5;124;03mIf the given filename ends with the suffix ''.gz'' (for example,\u001b[39;00m\n\u001b[1;32m   (...)\u001b[0m\n\u001b[0;32m    454\u001b[0m \u001b[38;5;124;03mFile handles to compressed files are not supported yet.\u001b[39;00m\n\u001b[0;32m    455\u001b[0m \u001b[38;5;124;03m\"\"\"\u001b[39;00m\n\u001b[0;32m    456\u001b[0m \u001b[38;5;28;01mtry\u001b[39;00m:\n\u001b[1;32m--> 457\u001b[0m     doc \u001b[38;5;241m=\u001b[39m \u001b[43m_get_doc_from_filename\u001b[49m\u001b[43m(\u001b[49m\u001b[43mfilename\u001b[49m\u001b[43m)\u001b[49m\n\u001b[0;32m    458\u001b[0m     \u001b[38;5;28;01mreturn\u001b[39;00m _sbml_to_model(doc, number\u001b[38;5;241m=\u001b[39mnumber, f_replace\u001b[38;5;241m=\u001b[39mf_replace, \u001b[38;5;241m*\u001b[39m\u001b[38;5;241m*\u001b[39mkwargs)\n\u001b[0;32m    459\u001b[0m \u001b[38;5;28;01mexcept\u001b[39;00m \u001b[38;5;167;01mIOError\u001b[39;00m \u001b[38;5;28;01mas\u001b[39;00m e:\n",
      "File \u001b[1;32m~\\anaconda3\\lib\\site-packages\\cobra\\io\\sbml.py:505\u001b[0m, in \u001b[0;36m_get_doc_from_filename\u001b[1;34m(filename)\u001b[0m\n\u001b[0;32m    502\u001b[0m     \u001b[38;5;28;01melse\u001b[39;00m:\n\u001b[0;32m    503\u001b[0m         \u001b[38;5;66;03m# string representation\u001b[39;00m\n\u001b[0;32m    504\u001b[0m         \u001b[38;5;28;01mif\u001b[39;00m \u001b[38;5;124m\"\u001b[39m\u001b[38;5;124m<sbml\u001b[39m\u001b[38;5;124m\"\u001b[39m \u001b[38;5;129;01mnot\u001b[39;00m \u001b[38;5;129;01min\u001b[39;00m filename:\n\u001b[1;32m--> 505\u001b[0m             \u001b[38;5;28;01mraise\u001b[39;00m \u001b[38;5;167;01mIOError\u001b[39;00m(\n\u001b[0;32m    506\u001b[0m                 \u001b[38;5;124mf\u001b[39m\u001b[38;5;124m\"\u001b[39m\u001b[38;5;124mThe file with \u001b[39m\u001b[38;5;124m'\u001b[39m\u001b[38;5;132;01m{\u001b[39;00mfilename\u001b[38;5;132;01m}\u001b[39;00m\u001b[38;5;124m'\u001b[39m\u001b[38;5;124m does not exist, \u001b[39m\u001b[38;5;124m\"\u001b[39m\n\u001b[0;32m    507\u001b[0m                 \u001b[38;5;124mf\u001b[39m\u001b[38;5;124m\"\u001b[39m\u001b[38;5;124mor is not an SBML string. Provide the path to \u001b[39m\u001b[38;5;124m\"\u001b[39m\n\u001b[0;32m    508\u001b[0m                 \u001b[38;5;124mf\u001b[39m\u001b[38;5;124m\"\u001b[39m\u001b[38;5;124man existing SBML file or a valid SBML string representation:\u001b[39m\u001b[38;5;130;01m\\n\u001b[39;00m\u001b[38;5;124m\"\u001b[39m\n\u001b[0;32m    509\u001b[0m             )\n\u001b[0;32m    511\u001b[0m         doc \u001b[38;5;241m=\u001b[39m libsbml\u001b[38;5;241m.\u001b[39mreadSBMLFromString(\n\u001b[0;32m    512\u001b[0m             filename\n\u001b[0;32m    513\u001b[0m         )  \u001b[38;5;66;03m# noqa: E501 type: libsbml.SBMLDocument\u001b[39;00m\n\u001b[0;32m    515\u001b[0m \u001b[38;5;28;01melif\u001b[39;00m \u001b[38;5;28mhasattr\u001b[39m(filename, \u001b[38;5;124m\"\u001b[39m\u001b[38;5;124mread\u001b[39m\u001b[38;5;124m\"\u001b[39m):\n\u001b[0;32m    516\u001b[0m     \u001b[38;5;66;03m# file handle\u001b[39;00m\n",
      "\u001b[1;31mOSError\u001b[0m: The file with '../iML1515.xml' does not exist, or is not an SBML string. Provide the path to an existing SBML file or a valid SBML string representation:\n"
     ]
    }
   ],
   "source": [
    "current_directory=os.getcwd()\n",
    "print(current_directory)\n",
    "document_name= 'iML1515.xml'\n",
    "\n",
    "document_path = os.path.join(current_directory, document_name)\n",
    "print(document_path)\n",
    "#\n",
    "model = read_sbml_model('../iML1515.xml')\n",
    "#model = read_sbml_model(\"/iML1515\")"
   ]
  },
  {
   "cell_type": "markdown",
   "metadata": {},
   "source": [
    "## 5. Discussion (<500 words)"
   ]
  },
  {
   "cell_type": "markdown",
   "metadata": {},
   "source": [
    "## 6. Conclusion (<200 words)"
   ]
  },
  {
   "cell_type": "markdown",
   "metadata": {},
   "source": [
    "## References"
   ]
  },
  {
   "cell_type": "code",
   "execution_count": null,
   "metadata": {},
   "outputs": [],
   "source": []
  }
 ],
 "metadata": {
  "kernelspec": {
   "display_name": "Python 3 (ipykernel)",
   "language": "python",
   "name": "python3"
  },
  "language_info": {
   "codemirror_mode": {
    "name": "ipython",
    "version": 3
   },
   "file_extension": ".py",
   "mimetype": "text/x-python",
   "name": "python",
   "nbconvert_exporter": "python",
   "pygments_lexer": "ipython3",
   "version": "3.9.12"
  }
 },
 "nbformat": 4,
 "nbformat_minor": 4
}
